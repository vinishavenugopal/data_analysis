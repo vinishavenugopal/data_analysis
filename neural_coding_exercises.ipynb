{
  "nbformat": 4,
  "nbformat_minor": 0,
  "metadata": {
    "colab": {
      "name": "Copy of neural-coding-exercises.ipynb",
      "version": "0.3.2",
      "provenance": [],
      "include_colab_link": true
    },
    "kernelspec": {
      "display_name": "Python 3",
      "language": "python",
      "name": "python3"
    }
  },
  "cells": [
    {
      "cell_type": "markdown",
      "metadata": {
        "id": "view-in-github",
        "colab_type": "text"
      },
      "source": [
        "<a href=\"https://colab.research.google.com/github/vinishavenugopal/data_analysis/blob/master/neural_coding_exercises.ipynb\" target=\"_parent\"><img src=\"https://colab.research.google.com/assets/colab-badge.svg\" alt=\"Open In Colab\"/></a>"
      ]
    },
    {
      "metadata": {
        "id": "vwYCoW9QC_9h",
        "colab_type": "code",
        "outputId": "d3bf2b6c-6c45-4c2f-c921-1d499fac6064",
        "colab": {
          "base_uri": "https://localhost:8080/",
          "height": 466
        }
      },
      "cell_type": "code",
      "source": [
        "# Upgrade seaborn for colab\n",
        "!pip install -U seaborn"
      ],
      "execution_count": 0,
      "outputs": [
        {
          "output_type": "stream",
          "text": [
            "Collecting seaborn\n",
            "\u001b[?25l  Downloading https://files.pythonhosted.org/packages/a8/76/220ba4420459d9c4c9c9587c6ce607bf56c25b3d3d2de62056efe482dadc/seaborn-0.9.0-py3-none-any.whl (208kB)\n",
            "\r\u001b[K    4% |█▋                              | 10kB 14.6MB/s eta 0:00:01\r\u001b[K    9% |███▏                            | 20kB 3.4MB/s eta 0:00:01\r\u001b[K    14% |████▊                           | 30kB 4.9MB/s eta 0:00:01\r\u001b[K    19% |██████▎                         | 40kB 3.1MB/s eta 0:00:01\r\u001b[K    24% |███████▉                        | 51kB 3.9MB/s eta 0:00:01\r\u001b[K    29% |█████████▌                      | 61kB 4.6MB/s eta 0:00:01\r\u001b[K    34% |███████████                     | 71kB 5.2MB/s eta 0:00:01\r\u001b[K    39% |████████████▋                   | 81kB 5.9MB/s eta 0:00:01\r\u001b[K    44% |██████████████▏                 | 92kB 6.5MB/s eta 0:00:01\r\u001b[K    49% |███████████████▊                | 102kB 5.1MB/s eta 0:00:01\r\u001b[K    54% |█████████████████▎              | 112kB 5.2MB/s eta 0:00:01\r\u001b[K    59% |███████████████████             | 122kB 6.9MB/s eta 0:00:01\r\u001b[K    63% |████████████████████▌           | 133kB 6.9MB/s eta 0:00:01\r\u001b[K    68% |██████████████████████          | 143kB 12.4MB/s eta 0:00:01\r\u001b[K    73% |███████████████████████▋        | 153kB 12.6MB/s eta 0:00:01\r\u001b[K    78% |█████████████████████████▏      | 163kB 12.6MB/s eta 0:00:01\r\u001b[K    83% |██████████████████████████▊     | 174kB 12.3MB/s eta 0:00:01\r\u001b[K    88% |████████████████████████████▍   | 184kB 12.4MB/s eta 0:00:01\r\u001b[K    93% |██████████████████████████████  | 194kB 12.4MB/s eta 0:00:01\r\u001b[K    98% |███████████████████████████████▌| 204kB 39.9MB/s eta 0:00:01\r\u001b[K    100% |████████████████████████████████| 215kB 27.0MB/s \n",
            "\u001b[?25hRequirement already satisfied, skipping upgrade: numpy>=1.9.3 in /usr/local/lib/python3.6/dist-packages (from seaborn) (1.14.6)\n",
            "Requirement already satisfied, skipping upgrade: scipy>=0.14.0 in /usr/local/lib/python3.6/dist-packages (from seaborn) (1.1.0)\n",
            "Requirement already satisfied, skipping upgrade: matplotlib>=1.4.3 in /usr/local/lib/python3.6/dist-packages (from seaborn) (3.0.2)\n",
            "Requirement already satisfied, skipping upgrade: pandas>=0.15.2 in /usr/local/lib/python3.6/dist-packages (from seaborn) (0.22.0)\n",
            "Requirement already satisfied, skipping upgrade: python-dateutil>=2.1 in /usr/local/lib/python3.6/dist-packages (from matplotlib>=1.4.3->seaborn) (2.5.3)\n",
            "Requirement already satisfied, skipping upgrade: cycler>=0.10 in /usr/local/lib/python3.6/dist-packages (from matplotlib>=1.4.3->seaborn) (0.10.0)\n",
            "Requirement already satisfied, skipping upgrade: kiwisolver>=1.0.1 in /usr/local/lib/python3.6/dist-packages (from matplotlib>=1.4.3->seaborn) (1.0.1)\n",
            "Requirement already satisfied, skipping upgrade: pyparsing!=2.0.4,!=2.1.2,!=2.1.6,>=2.0.1 in /usr/local/lib/python3.6/dist-packages (from matplotlib>=1.4.3->seaborn) (2.3.1)\n",
            "Requirement already satisfied, skipping upgrade: pytz>=2011k in /usr/local/lib/python3.6/dist-packages (from pandas>=0.15.2->seaborn) (2018.9)\n",
            "Requirement already satisfied, skipping upgrade: six>=1.5 in /usr/local/lib/python3.6/dist-packages (from python-dateutil>=2.1->matplotlib>=1.4.3->seaborn) (1.11.0)\n",
            "Requirement already satisfied, skipping upgrade: setuptools in /usr/local/lib/python3.6/dist-packages (from kiwisolver>=1.0.1->matplotlib>=1.4.3->seaborn) (40.8.0)\n",
            "Installing collected packages: seaborn\n",
            "  Found existing installation: seaborn 0.7.1\n",
            "    Uninstalling seaborn-0.7.1:\n",
            "      Successfully uninstalled seaborn-0.7.1\n",
            "Successfully installed seaborn-0.9.0\n"
          ],
          "name": "stdout"
        },
        {
          "output_type": "display_data",
          "data": {
            "application/vnd.colab-display-data+json": {
              "pip_warning": {
                "packages": [
                  "seaborn"
                ]
              }
            }
          },
          "metadata": {
            "tags": []
          }
        }
      ]
    },
    {
      "metadata": {
        "id": "lYZlj3JAC_9r",
        "colab_type": "code",
        "colab": {}
      },
      "cell_type": "code",
      "source": [
        "%matplotlib inline\n",
        "import matplotlib.pyplot as plt\n",
        "import numpy as np\n",
        "import pandas as pd\n",
        "import seaborn as sns\n",
        "import h5py\n",
        "sns.set(font_scale=1.5)"
      ],
      "execution_count": 0,
      "outputs": []
    },
    {
      "metadata": {
        "id": "y4x4_WMeC_9y",
        "colab_type": "text"
      },
      "cell_type": "markdown",
      "source": [
        "## Let's load some data obtained by the Buzsaki lab at NYU.  They recorded from the hippocampus of a rat while it ran back and forth across a linear track"
      ]
    },
    {
      "metadata": {
        "id": "DBKStoFKC_90",
        "colab_type": "code",
        "colab": {}
      },
      "cell_type": "code",
      "source": [
        "# The first file contains the times, cell IDs, and animal location for each spike that occurred\n",
        "spikes = pd.read_csv('https://github.com/rgerkin/neuro-data-analysis-course/raw/master/data/place_cell_spike_data.csv')\n",
        "\n",
        "# The first file contains the times, cell IDs, and animal location for each spike that occurred\n",
        "locations = pd.read_csv('https://github.com/rgerkin/neuro-data-analysis-course/raw/master/data/place_cell_location_data.csv')"
      ],
      "execution_count": 0,
      "outputs": []
    },
    {
      "metadata": {
        "id": "krkGYuHyC_93",
        "colab_type": "text"
      },
      "cell_type": "markdown",
      "source": [
        "#### This first dataframe contains one row for each spike that was recorded.  The cell_id is arbitrary, but any two rows with the same cell id correspond to spikes reocrded from the same cell.  The index is time (starting several hours into the experiment), and the other columns are the linear location on the track (\"d\", measured from the track's left edge) and also the actual 2d coordinates (\"x\" and \"y\", which we will ignore). I've restricted the data to 0.2m < d < 1.4m, which is where the rat actually runs on the track (instead of sitting at the ends doing nothing).  "
      ]
    },
    {
      "metadata": {
        "id": "NUHpBAv9C_95",
        "colab_type": "code",
        "outputId": "bf495f15-b0da-4cb2-f5da-b0d5defb9506",
        "colab": {
          "base_uri": "https://localhost:8080/",
          "height": 235
        }
      },
      "cell_type": "code",
      "source": [
        "spikes = spikes.set_index('t')\n",
        "spikes.head()"
      ],
      "execution_count": 0,
      "outputs": [
        {
          "output_type": "execute_result",
          "data": {
            "text/html": [
              "<div>\n",
              "<style scoped>\n",
              "    .dataframe tbody tr th:only-of-type {\n",
              "        vertical-align: middle;\n",
              "    }\n",
              "\n",
              "    .dataframe tbody tr th {\n",
              "        vertical-align: top;\n",
              "    }\n",
              "\n",
              "    .dataframe thead th {\n",
              "        text-align: right;\n",
              "    }\n",
              "</style>\n",
              "<table border=\"1\" class=\"dataframe\">\n",
              "  <thead>\n",
              "    <tr style=\"text-align: right;\">\n",
              "      <th></th>\n",
              "      <th>cell_ids</th>\n",
              "      <th>d</th>\n",
              "      <th>x</th>\n",
              "      <th>y</th>\n",
              "    </tr>\n",
              "    <tr>\n",
              "      <th>t</th>\n",
              "      <th></th>\n",
              "      <th></th>\n",
              "      <th></th>\n",
              "      <th></th>\n",
              "    </tr>\n",
              "  </thead>\n",
              "  <tbody>\n",
              "    <tr>\n",
              "      <th>18194.76930</th>\n",
              "      <td>609</td>\n",
              "      <td>0.200284</td>\n",
              "      <td>-0.061786</td>\n",
              "      <td>-0.189188</td>\n",
              "    </tr>\n",
              "    <tr>\n",
              "      <th>18194.77235</th>\n",
              "      <td>529</td>\n",
              "      <td>0.201205</td>\n",
              "      <td>-0.060900</td>\n",
              "      <td>-0.189143</td>\n",
              "    </tr>\n",
              "    <tr>\n",
              "      <th>18194.77305</th>\n",
              "      <td>1209</td>\n",
              "      <td>0.202125</td>\n",
              "      <td>-0.060015</td>\n",
              "      <td>-0.189098</td>\n",
              "    </tr>\n",
              "    <tr>\n",
              "      <th>18194.77855</th>\n",
              "      <td>416</td>\n",
              "      <td>0.203724</td>\n",
              "      <td>-0.058476</td>\n",
              "      <td>-0.189284</td>\n",
              "    </tr>\n",
              "    <tr>\n",
              "      <th>18194.77955</th>\n",
              "      <td>828</td>\n",
              "      <td>0.204402</td>\n",
              "      <td>-0.057822</td>\n",
              "      <td>-0.189515</td>\n",
              "    </tr>\n",
              "  </tbody>\n",
              "</table>\n",
              "</div>"
            ],
            "text/plain": [
              "             cell_ids         d         x         y\n",
              "t                                                  \n",
              "18194.76930       609  0.200284 -0.061786 -0.189188\n",
              "18194.77235       529  0.201205 -0.060900 -0.189143\n",
              "18194.77305      1209  0.202125 -0.060015 -0.189098\n",
              "18194.77855       416  0.203724 -0.058476 -0.189284\n",
              "18194.77955       828  0.204402 -0.057822 -0.189515"
            ]
          },
          "metadata": {
            "tags": []
          },
          "execution_count": 3
        }
      ]
    },
    {
      "metadata": {
        "id": "XLRzycKtJhSb",
        "colab_type": "code",
        "outputId": "d0df3e29-66bd-4459-a66f-20c311a08f23",
        "colab": {
          "base_uri": "https://localhost:8080/",
          "height": 1071
        }
      },
      "cell_type": "code",
      "source": [
        "spikes['cell_ids'].value_counts()"
      ],
      "execution_count": 0,
      "outputs": [
        {
          "output_type": "execute_result",
          "data": {
            "text/plain": [
              "1209    9747\n",
              "609     8592\n",
              "537     8530\n",
              "119     7853\n",
              "103     5688\n",
              "818     5406\n",
              "920     4970\n",
              "822     3387\n",
              "930     3326\n",
              "410     2798\n",
              "411     2363\n",
              "817     2148\n",
              "412     1589\n",
              "1303    1526\n",
              "828     1405\n",
              "928     1316\n",
              "931     1307\n",
              "1306    1233\n",
              "417     1209\n",
              "305     1170\n",
              "615     1072\n",
              "113     1042\n",
              "130      959\n",
              "419      891\n",
              "934      836\n",
              "620      833\n",
              "121      830\n",
              "108      804\n",
              "414      780\n",
              "805      774\n",
              "        ... \n",
              "535       35\n",
              "1039      34\n",
              "527       34\n",
              "538       34\n",
              "524       33\n",
              "803       32\n",
              "107       29\n",
              "612       24\n",
              "102       24\n",
              "1029      23\n",
              "405       20\n",
              "613       19\n",
              "1113      18\n",
              "1311      17\n",
              "422       17\n",
              "924       17\n",
              "421       14\n",
              "829       14\n",
              "933       11\n",
              "1028       9\n",
              "802        9\n",
              "129        8\n",
              "529        7\n",
              "510        5\n",
              "123        5\n",
              "935        4\n",
              "1035       4\n",
              "808        4\n",
              "826        3\n",
              "1118       2\n",
              "Name: cell_ids, Length: 136, dtype: int64"
            ]
          },
          "metadata": {
            "tags": []
          },
          "execution_count": 25
        }
      ]
    },
    {
      "metadata": {
        "id": "Q_ne79cUC_98",
        "colab_type": "text"
      },
      "cell_type": "markdown",
      "source": [
        "#### The second dataframe contains one row for each ~25 ms of elapsed time.  They were recording the movement of the rat with a video camera, so each row is derived from one frame of that movie.  "
      ]
    },
    {
      "metadata": {
        "id": "4lC1ilVOC_9-",
        "colab_type": "code",
        "outputId": "8754e772-22c6-4e25-8c33-2055844dbcf0",
        "colab": {
          "base_uri": "https://localhost:8080/",
          "height": 235
        }
      },
      "cell_type": "code",
      "source": [
        "locations = locations.set_index('t')\n",
        "locations.head()"
      ],
      "execution_count": 0,
      "outputs": [
        {
          "output_type": "execute_result",
          "data": {
            "text/html": [
              "<div>\n",
              "<style scoped>\n",
              "    .dataframe tbody tr th:only-of-type {\n",
              "        vertical-align: middle;\n",
              "    }\n",
              "\n",
              "    .dataframe tbody tr th {\n",
              "        vertical-align: top;\n",
              "    }\n",
              "\n",
              "    .dataframe thead th {\n",
              "        text-align: right;\n",
              "    }\n",
              "</style>\n",
              "<table border=\"1\" class=\"dataframe\">\n",
              "  <thead>\n",
              "    <tr style=\"text-align: right;\">\n",
              "      <th></th>\n",
              "      <th>d</th>\n",
              "      <th>x</th>\n",
              "      <th>y</th>\n",
              "    </tr>\n",
              "    <tr>\n",
              "      <th>t</th>\n",
              "      <th></th>\n",
              "      <th></th>\n",
              "      <th></th>\n",
              "    </tr>\n",
              "  </thead>\n",
              "  <tbody>\n",
              "    <tr>\n",
              "      <th>18194.776399</th>\n",
              "      <td>0.203045</td>\n",
              "      <td>-0.059129</td>\n",
              "      <td>-0.189053</td>\n",
              "    </tr>\n",
              "    <tr>\n",
              "      <th>18194.801998</th>\n",
              "      <td>0.213904</td>\n",
              "      <td>-0.048677</td>\n",
              "      <td>-0.192750</td>\n",
              "    </tr>\n",
              "    <tr>\n",
              "      <th>18194.827598</th>\n",
              "      <td>0.219871</td>\n",
              "      <td>-0.042934</td>\n",
              "      <td>-0.198324</td>\n",
              "    </tr>\n",
              "    <tr>\n",
              "      <th>18194.853198</th>\n",
              "      <td>0.225473</td>\n",
              "      <td>-0.037541</td>\n",
              "      <td>-0.203761</td>\n",
              "    </tr>\n",
              "    <tr>\n",
              "      <th>18194.878798</th>\n",
              "      <td>0.236299</td>\n",
              "      <td>-0.027121</td>\n",
              "      <td>-0.207461</td>\n",
              "    </tr>\n",
              "  </tbody>\n",
              "</table>\n",
              "</div>"
            ],
            "text/plain": [
              "                     d         x         y\n",
              "t                                         \n",
              "18194.776399  0.203045 -0.059129 -0.189053\n",
              "18194.801998  0.213904 -0.048677 -0.192750\n",
              "18194.827598  0.219871 -0.042934 -0.198324\n",
              "18194.853198  0.225473 -0.037541 -0.203761\n",
              "18194.878798  0.236299 -0.027121 -0.207461"
            ]
          },
          "metadata": {
            "tags": []
          },
          "execution_count": 4
        }
      ]
    },
    {
      "metadata": {
        "id": "J7D9r1TeC_-D",
        "colab_type": "text"
      },
      "cell_type": "markdown",
      "source": [
        "## (1)"
      ]
    },
    {
      "metadata": {
        "id": "fJNS6Te3C_-F",
        "colab_type": "text"
      },
      "cell_type": "markdown",
      "source": [
        "### (a)\n",
        "#### Let's take a brief look at this data.  A good strategy is to figure out the range of your data (highs, lows, typical values) by making a histogram.  Access the \"d\" column of the locations dataframe, and then make a histogram with the `.hist()` method.  \n",
        "\n",
        "#### You can use the default number of histogram bins, or change it with the \"bins\" argument (e.g. `.hist(bins=100)`).  You should see that the rat was on most of the track, slightly preferring the left-side (near d=0) to the right side.  "
      ]
    },
    {
      "metadata": {
        "id": "a20Q02luC_-G",
        "colab_type": "code",
        "outputId": "a148b87f-54d2-4178-8f26-fbe9893c80f8",
        "colab": {
          "base_uri": "https://localhost:8080/",
          "height": 296
        }
      },
      "cell_type": "code",
      "source": [
        "locations.hist()\n",
        "plt.xlabel('Location along track (m)')\n",
        "plt.ylabel('# of samples that animal\\nwas present there');"
      ],
      "execution_count": 0,
      "outputs": [
        {
          "output_type": "display_data",
          "data": {
            "image/png": "[encoded data removed]",
            "text/plain": [
              "<Figure size 432x288 with 4 Axes>"
            ]
          },
          "metadata": {
            "tags": []
          }
        }
      ]
    },
    {
      "metadata": {
        "id": "9tpa6logC_-I",
        "colab_type": "text"
      },
      "cell_type": "markdown",
      "source": [
        "### (b)\n",
        "#### Do the same thing with the `spikes` dataframe to see at what locations on the track the spikes occurred.  "
      ]
    },
    {
      "metadata": {
        "id": "O9hxwl7ZC_-J",
        "colab_type": "code",
        "outputId": "1d9cd87f-4a10-4189-f868-4650b2ab89f5",
        "colab": {
          "base_uri": "https://localhost:8080/",
          "height": 343
        }
      },
      "cell_type": "code",
      "source": [
        "spikes.hist()\n",
        "plt.xlabel('Location along track (m)')\n",
        "plt.ylabel('# of spikes observed there');"
      ],
      "execution_count": 0,
      "outputs": [
        {
          "output_type": "display_data",
          "data": {
            "image/png": "[encoded data removed]",
            "text/plain": [
              "<Figure size 432x288 with 4 Axes>"
            ]
          },
          "metadata": {
            "tags": []
          }
        }
      ]
    },
    {
      "metadata": {
        "id": "iIVqApjVC_-M",
        "colab_type": "text"
      },
      "cell_type": "markdown",
      "source": [
        "### (c)\n",
        "#### That shows us the histogram, but we are actually going to want to use the values plotted there for our analysis.  Use the function `np.histogram` to extract the counts in each bin (the number of video frames that the rat was at that approximate location), and the locations of the edges of each bin, using 64 bins.  "
      ]
    },
    {
      "metadata": {
        "id": "PZSBWwUHC_-M",
        "colab_type": "code",
        "colab": {}
      },
      "cell_type": "code",
      "source": [
        "frames_at_each_location, bin_edges = np.histogram(locations, bins=64)"
      ],
      "execution_count": 0,
      "outputs": []
    },
    {
      "metadata": {
        "id": "KMsuCf1eFDyS",
        "colab_type": "code",
        "outputId": "60fdd4f2-b078-450b-9e88-d1b8d80a1d78",
        "colab": {
          "base_uri": "https://localhost:8080/",
          "height": 119
        }
      },
      "cell_type": "code",
      "source": [
        "frames_at_each_location"
      ],
      "execution_count": 0,
      "outputs": [
        {
          "output_type": "execute_result",
          "data": {
            "text/plain": [
              "array([ 774, 1939,  242,  552, 2381,  709,    0,    0,    0,  118,  227,\n",
              "        231,  189,  222,  171,  163,  163,  165,  169,  355,  413,  430,\n",
              "        338,  370,  370,  305,  298,  288,  306,  337,  346,  294,  315,\n",
              "        315,  312,  299,  277,  270,  263,  249,  279,  254,  274,  268,\n",
              "        255,  278,  243,  249,  245,  258,  248,  249,  189,  137,  113,\n",
              "        116,  134,  119,  122,  108,  112,  138,  118,  120])"
            ]
          },
          "metadata": {
            "tags": []
          },
          "execution_count": 9
        }
      ]
    },
    {
      "metadata": {
        "id": "kz4YovOKFH_y",
        "colab_type": "code",
        "outputId": "1e56ad0a-fc9e-467c-c14c-bc778bfcd247",
        "colab": {
          "base_uri": "https://localhost:8080/",
          "height": 238
        }
      },
      "cell_type": "code",
      "source": [
        "bin_edges"
      ],
      "execution_count": 0,
      "outputs": [
        {
          "output_type": "execute_result",
          "data": {
            "text/plain": [
              "array([-0.31565554, -0.288851  , -0.26204646, -0.23524192, -0.20843738,\n",
              "       -0.18163284, -0.1548283 , -0.12802376, -0.10121922, -0.07441468,\n",
              "       -0.04761014, -0.0208056 ,  0.00599894,  0.03280348,  0.05960802,\n",
              "        0.08641256,  0.11321711,  0.14002165,  0.16682619,  0.19363073,\n",
              "        0.22043527,  0.24723981,  0.27404435,  0.30084889,  0.32765343,\n",
              "        0.35445797,  0.38126251,  0.40806705,  0.43487159,  0.46167613,\n",
              "        0.48848067,  0.51528521,  0.54208975,  0.56889429,  0.59569883,\n",
              "        0.62250337,  0.64930791,  0.67611245,  0.70291699,  0.72972154,\n",
              "        0.75652608,  0.78333062,  0.81013516,  0.8369397 ,  0.86374424,\n",
              "        0.89054878,  0.91735332,  0.94415786,  0.9709624 ,  0.99776694,\n",
              "        1.02457148,  1.05137602,  1.07818056,  1.1049851 ,  1.13178964,\n",
              "        1.15859418,  1.18539872,  1.21220326,  1.2390078 ,  1.26581234,\n",
              "        1.29261688,  1.31942142,  1.34622597,  1.37303051,  1.39983505])"
            ]
          },
          "metadata": {
            "tags": []
          },
          "execution_count": 10
        }
      ]
    },
    {
      "metadata": {
        "id": "tyAHVMGIC_-Q",
        "colab_type": "text"
      },
      "cell_type": "markdown",
      "source": [
        "#### If you check, you will see that there are 101 bin edges, not 100.  That is because each bin edge is both the left edge of one bin and the right edge of another.  Let's find the center of each bin, which is a better description of data in the bin.  "
      ]
    },
    {
      "metadata": {
        "id": "Y2-7o3IlC_-R",
        "colab_type": "code",
        "colab": {}
      },
      "cell_type": "code",
      "source": [
        "# This statement takes the average of the left-bin edges and the right-bin edges.  \n",
        "bin_centers = (bin_edges[1:] + bin_edges[:-1]) / 2\n",
        "bin_centers = bin_centers.round(3)"
      ],
      "execution_count": 0,
      "outputs": []
    },
    {
      "metadata": {
        "id": "nvQknffPC_-T",
        "colab_type": "text"
      },
      "cell_type": "markdown",
      "source": [
        "### (d) \n",
        "#### Notice that the histogram above is noisy.  Noisy data can cause problems with analysis, especially if we do lots of mathematical operations it.  It is sometimes better to work with smoothed data.  Below I show an example of something called gaussian smoothing, One trace below is original (fake) data, and the other is smoothed data. Change the smoothing_width to 3 to get some reasonably good smoothing.  "
      ]
    },
    {
      "metadata": {
        "id": "9pLOc53zC_-U",
        "colab_type": "code",
        "outputId": "4ae51a7b-1b50-4f36-b40f-5506db3161a7",
        "colab": {
          "base_uri": "https://localhost:8080/",
          "height": 282
        }
      },
      "cell_type": "code",
      "source": [
        "from scipy.ndimage.filters import gaussian_filter\n",
        "noisy = np.linspace(0,3,100) + np.random.rand(100)\n",
        "smoothing_width = 3\n",
        "smooth = gaussian_filter(noisy, smoothing_width)\n",
        "plt.plot(noisy) # The blue trace\n",
        "plt.plot(smooth); # The orange trace"
      ],
      "execution_count": 0,
      "outputs": [
        {
          "output_type": "display_data",
          "data": {
            "image/png": "[encoded data removed]",
            "text/plain": [
              "<Figure size 432x288 with 1 Axes>"
            ]
          },
          "metadata": {
            "tags": []
          }
        }
      ]
    },
    {
      "metadata": {
        "id": "unhMoBYoC_-X",
        "colab_type": "text"
      },
      "cell_type": "markdown",
      "source": [
        "### (e) \n",
        "#### Now let's smooth the location data.  First we need to figure out how long one video frame is.  They are all the same length, so we just need to subtract any two adjacent times in the index of the `locations` dataframe.  Then we need to multiply the number of frames at a given location by the duration of those frames to get the duration that the rat spent at each location.  Finally, we need to smooth those durations (using a smoothing width of 3).  "
      ]
    },
    {
      "metadata": {
        "id": "6WcQ0rxcF2_z",
        "colab_type": "code",
        "outputId": "317bf499-5f03-4518-a4b4-d6a3f22457e3",
        "colab": {
          "base_uri": "https://localhost:8080/",
          "height": 235
        }
      },
      "cell_type": "code",
      "source": [
        "locations.head()"
      ],
      "execution_count": 0,
      "outputs": [
        {
          "output_type": "execute_result",
          "data": {
            "text/html": [
              "<div>\n",
              "<style scoped>\n",
              "    .dataframe tbody tr th:only-of-type {\n",
              "        vertical-align: middle;\n",
              "    }\n",
              "\n",
              "    .dataframe tbody tr th {\n",
              "        vertical-align: top;\n",
              "    }\n",
              "\n",
              "    .dataframe thead th {\n",
              "        text-align: right;\n",
              "    }\n",
              "</style>\n",
              "<table border=\"1\" class=\"dataframe\">\n",
              "  <thead>\n",
              "    <tr style=\"text-align: right;\">\n",
              "      <th></th>\n",
              "      <th>d</th>\n",
              "      <th>x</th>\n",
              "      <th>y</th>\n",
              "    </tr>\n",
              "    <tr>\n",
              "      <th>t</th>\n",
              "      <th></th>\n",
              "      <th></th>\n",
              "      <th></th>\n",
              "    </tr>\n",
              "  </thead>\n",
              "  <tbody>\n",
              "    <tr>\n",
              "      <th>18194.776399</th>\n",
              "      <td>0.203045</td>\n",
              "      <td>-0.059129</td>\n",
              "      <td>-0.189053</td>\n",
              "    </tr>\n",
              "    <tr>\n",
              "      <th>18194.801998</th>\n",
              "      <td>0.213904</td>\n",
              "      <td>-0.048677</td>\n",
              "      <td>-0.192750</td>\n",
              "    </tr>\n",
              "    <tr>\n",
              "      <th>18194.827598</th>\n",
              "      <td>0.219871</td>\n",
              "      <td>-0.042934</td>\n",
              "      <td>-0.198324</td>\n",
              "    </tr>\n",
              "    <tr>\n",
              "      <th>18194.853198</th>\n",
              "      <td>0.225473</td>\n",
              "      <td>-0.037541</td>\n",
              "      <td>-0.203761</td>\n",
              "    </tr>\n",
              "    <tr>\n",
              "      <th>18194.878798</th>\n",
              "      <td>0.236299</td>\n",
              "      <td>-0.027121</td>\n",
              "      <td>-0.207461</td>\n",
              "    </tr>\n",
              "  </tbody>\n",
              "</table>\n",
              "</div>"
            ],
            "text/plain": [
              "                     d         x         y\n",
              "t                                         \n",
              "18194.776399  0.203045 -0.059129 -0.189053\n",
              "18194.801998  0.213904 -0.048677 -0.192750\n",
              "18194.827598  0.219871 -0.042934 -0.198324\n",
              "18194.853198  0.225473 -0.037541 -0.203761\n",
              "18194.878798  0.236299 -0.027121 -0.207461"
            ]
          },
          "metadata": {
            "tags": []
          },
          "execution_count": 19
        }
      ]
    },
    {
      "metadata": {
        "id": "GxIOGFWVC_-X",
        "colab_type": "code",
        "outputId": "5d40a40a-1372-4fc6-cb7f-48a387ea30a4",
        "colab": {
          "base_uri": "https://localhost:8080/",
          "height": 326
        }
      },
      "cell_type": "code",
      "source": [
        "frame_duration = locations.index[1] - locations.index[0]\n",
        "durations_at_each_location = frames_at_each_location * frame_duration\n",
        "durations_at_each_location = gaussian_filter(durations_at_each_location, smoothing_width)\n",
        "plt.plot(durations_at_each_location)\n",
        "plt.xlabel('Location on track (m)')\n",
        "plt.ylabel('Duration spent at this location');"
      ],
      "execution_count": 0,
      "outputs": [
        {
          "output_type": "display_data",
          "data": {
            "image/png": "[encoded data removed]",
            "text/plain": [
              "<Figure size 432x288 with 1 Axes>"
            ]
          },
          "metadata": {
            "tags": []
          }
        }
      ]
    },
    {
      "metadata": {
        "id": "LMToUQpZC_-a",
        "colab_type": "text"
      },
      "cell_type": "markdown",
      "source": [
        "## (2)"
      ]
    },
    {
      "metadata": {
        "id": "qehsCURTC_-b",
        "colab_type": "text"
      },
      "cell_type": "markdown",
      "source": [
        "### (a)\n",
        "#### Now that we know about how long the rat spent at each location, and from the `spikes` dataframe we know how many spikes occurred in each cell at each location, we can compute the firing rate (spikes per second) of each cell at each location.  First, I need to make an empty data frame to hold this data.  I will want to store the firing rate over the length of the track in each row of the data frame, so each row needs a cell ID associated with it.  Extract all the unique cell_ids in this dataset by applying the `.unique()` method to the `cell_ids` column of the `spikes` dataframe.  "
      ]
    },
    {
      "metadata": {
        "id": "f9B3OjfANaSH",
        "colab_type": "code",
        "outputId": "81e940d8-145b-4978-967f-e5edd3958042",
        "colab": {
          "base_uri": "https://localhost:8080/",
          "height": 34
        }
      },
      "cell_type": "code",
      "source": [
        "cell_id"
      ],
      "execution_count": 0,
      "outputs": [
        {
          "output_type": "execute_result",
          "data": {
            "text/plain": [
              "609"
            ]
          },
          "metadata": {
            "tags": []
          },
          "execution_count": 36
        }
      ]
    },
    {
      "metadata": {
        "id": "_E_ghUKpC_-c",
        "colab_type": "code",
        "colab": {}
      },
      "cell_type": "code",
      "source": [
        "cell_ids = spikes['cell_ids'].unique()\n",
        "spike_rates = pd.DataFrame(index=cell_ids, columns=bin_centers)\n",
        "spike_rates.index.name = 'Cell ID'\n",
        "spike_rates.columns.name = 'Location on Track (m)'"
      ],
      "execution_count": 0,
      "outputs": []
    },
    {
      "metadata": {
        "id": "VPxsWXcKKM3n",
        "colab_type": "code",
        "outputId": "a9639722-af04-4e5f-a950-67f2c552d28f",
        "colab": {
          "base_uri": "https://localhost:8080/",
          "height": 338
        }
      },
      "cell_type": "code",
      "source": [
        "spike_rates.head()"
      ],
      "execution_count": 0,
      "outputs": [
        {
          "output_type": "execute_result",
          "data": {
            "text/html": [
              "<div>\n",
              "<style scoped>\n",
              "    .dataframe tbody tr th:only-of-type {\n",
              "        vertical-align: middle;\n",
              "    }\n",
              "\n",
              "    .dataframe tbody tr th {\n",
              "        vertical-align: top;\n",
              "    }\n",
              "\n",
              "    .dataframe thead th {\n",
              "        text-align: right;\n",
              "    }\n",
              "</style>\n",
              "<table border=\"1\" class=\"dataframe\">\n",
              "  <thead>\n",
              "    <tr style=\"text-align: right;\">\n",
              "      <th>Location on Track (m)</th>\n",
              "      <th>-0.302</th>\n",
              "      <th>-0.275</th>\n",
              "      <th>-0.249</th>\n",
              "      <th>-0.222</th>\n",
              "      <th>-0.195</th>\n",
              "      <th>-0.168</th>\n",
              "      <th>-0.141</th>\n",
              "      <th>-0.115</th>\n",
              "      <th>-0.088</th>\n",
              "      <th>-0.061</th>\n",
              "      <th>...</th>\n",
              "      <th>1.145</th>\n",
              "      <th>1.172</th>\n",
              "      <th>1.199</th>\n",
              "      <th>1.226</th>\n",
              "      <th>1.252</th>\n",
              "      <th>1.279</th>\n",
              "      <th>1.306</th>\n",
              "      <th>1.333</th>\n",
              "      <th>1.36</th>\n",
              "      <th>1.386</th>\n",
              "    </tr>\n",
              "    <tr>\n",
              "      <th>Cell ID</th>\n",
              "      <th></th>\n",
              "      <th></th>\n",
              "      <th></th>\n",
              "      <th></th>\n",
              "      <th></th>\n",
              "      <th></th>\n",
              "      <th></th>\n",
              "      <th></th>\n",
              "      <th></th>\n",
              "      <th></th>\n",
              "      <th></th>\n",
              "      <th></th>\n",
              "      <th></th>\n",
              "      <th></th>\n",
              "      <th></th>\n",
              "      <th></th>\n",
              "      <th></th>\n",
              "      <th></th>\n",
              "      <th></th>\n",
              "      <th></th>\n",
              "      <th></th>\n",
              "    </tr>\n",
              "  </thead>\n",
              "  <tbody>\n",
              "    <tr>\n",
              "      <th>609</th>\n",
              "      <td>NaN</td>\n",
              "      <td>NaN</td>\n",
              "      <td>NaN</td>\n",
              "      <td>NaN</td>\n",
              "      <td>NaN</td>\n",
              "      <td>NaN</td>\n",
              "      <td>NaN</td>\n",
              "      <td>NaN</td>\n",
              "      <td>NaN</td>\n",
              "      <td>NaN</td>\n",
              "      <td>...</td>\n",
              "      <td>NaN</td>\n",
              "      <td>NaN</td>\n",
              "      <td>NaN</td>\n",
              "      <td>NaN</td>\n",
              "      <td>NaN</td>\n",
              "      <td>NaN</td>\n",
              "      <td>NaN</td>\n",
              "      <td>NaN</td>\n",
              "      <td>NaN</td>\n",
              "      <td>NaN</td>\n",
              "    </tr>\n",
              "    <tr>\n",
              "      <th>529</th>\n",
              "      <td>NaN</td>\n",
              "      <td>NaN</td>\n",
              "      <td>NaN</td>\n",
              "      <td>NaN</td>\n",
              "      <td>NaN</td>\n",
              "      <td>NaN</td>\n",
              "      <td>NaN</td>\n",
              "      <td>NaN</td>\n",
              "      <td>NaN</td>\n",
              "      <td>NaN</td>\n",
              "      <td>...</td>\n",
              "      <td>NaN</td>\n",
              "      <td>NaN</td>\n",
              "      <td>NaN</td>\n",
              "      <td>NaN</td>\n",
              "      <td>NaN</td>\n",
              "      <td>NaN</td>\n",
              "      <td>NaN</td>\n",
              "      <td>NaN</td>\n",
              "      <td>NaN</td>\n",
              "      <td>NaN</td>\n",
              "    </tr>\n",
              "    <tr>\n",
              "      <th>1209</th>\n",
              "      <td>NaN</td>\n",
              "      <td>NaN</td>\n",
              "      <td>NaN</td>\n",
              "      <td>NaN</td>\n",
              "      <td>NaN</td>\n",
              "      <td>NaN</td>\n",
              "      <td>NaN</td>\n",
              "      <td>NaN</td>\n",
              "      <td>NaN</td>\n",
              "      <td>NaN</td>\n",
              "      <td>...</td>\n",
              "      <td>NaN</td>\n",
              "      <td>NaN</td>\n",
              "      <td>NaN</td>\n",
              "      <td>NaN</td>\n",
              "      <td>NaN</td>\n",
              "      <td>NaN</td>\n",
              "      <td>NaN</td>\n",
              "      <td>NaN</td>\n",
              "      <td>NaN</td>\n",
              "      <td>NaN</td>\n",
              "    </tr>\n",
              "    <tr>\n",
              "      <th>416</th>\n",
              "      <td>NaN</td>\n",
              "      <td>NaN</td>\n",
              "      <td>NaN</td>\n",
              "      <td>NaN</td>\n",
              "      <td>NaN</td>\n",
              "      <td>NaN</td>\n",
              "      <td>NaN</td>\n",
              "      <td>NaN</td>\n",
              "      <td>NaN</td>\n",
              "      <td>NaN</td>\n",
              "      <td>...</td>\n",
              "      <td>NaN</td>\n",
              "      <td>NaN</td>\n",
              "      <td>NaN</td>\n",
              "      <td>NaN</td>\n",
              "      <td>NaN</td>\n",
              "      <td>NaN</td>\n",
              "      <td>NaN</td>\n",
              "      <td>NaN</td>\n",
              "      <td>NaN</td>\n",
              "      <td>NaN</td>\n",
              "    </tr>\n",
              "    <tr>\n",
              "      <th>828</th>\n",
              "      <td>NaN</td>\n",
              "      <td>NaN</td>\n",
              "      <td>NaN</td>\n",
              "      <td>NaN</td>\n",
              "      <td>NaN</td>\n",
              "      <td>NaN</td>\n",
              "      <td>NaN</td>\n",
              "      <td>NaN</td>\n",
              "      <td>NaN</td>\n",
              "      <td>NaN</td>\n",
              "      <td>...</td>\n",
              "      <td>NaN</td>\n",
              "      <td>NaN</td>\n",
              "      <td>NaN</td>\n",
              "      <td>NaN</td>\n",
              "      <td>NaN</td>\n",
              "      <td>NaN</td>\n",
              "      <td>NaN</td>\n",
              "      <td>NaN</td>\n",
              "      <td>NaN</td>\n",
              "      <td>NaN</td>\n",
              "    </tr>\n",
              "  </tbody>\n",
              "</table>\n",
              "<p>5 rows × 64 columns</p>\n",
              "</div>"
            ],
            "text/plain": [
              "Location on Track (m) -0.302 -0.275 -0.249 -0.222 -0.195 -0.168 -0.141 -0.115  \\\n",
              "Cell ID                                                                         \n",
              "609                      NaN    NaN    NaN    NaN    NaN    NaN    NaN    NaN   \n",
              "529                      NaN    NaN    NaN    NaN    NaN    NaN    NaN    NaN   \n",
              "1209                     NaN    NaN    NaN    NaN    NaN    NaN    NaN    NaN   \n",
              "416                      NaN    NaN    NaN    NaN    NaN    NaN    NaN    NaN   \n",
              "828                      NaN    NaN    NaN    NaN    NaN    NaN    NaN    NaN   \n",
              "\n",
              "Location on Track (m) -0.088 -0.061  ...    1.145  1.172  1.199  1.226  1.252  \\\n",
              "Cell ID                              ...                                        \n",
              "609                      NaN    NaN  ...      NaN    NaN    NaN    NaN    NaN   \n",
              "529                      NaN    NaN  ...      NaN    NaN    NaN    NaN    NaN   \n",
              "1209                     NaN    NaN  ...      NaN    NaN    NaN    NaN    NaN   \n",
              "416                      NaN    NaN  ...      NaN    NaN    NaN    NaN    NaN   \n",
              "828                      NaN    NaN  ...      NaN    NaN    NaN    NaN    NaN   \n",
              "\n",
              "Location on Track (m)  1.279  1.306  1.333  1.360  1.386  \n",
              "Cell ID                                                   \n",
              "609                      NaN    NaN    NaN    NaN    NaN  \n",
              "529                      NaN    NaN    NaN    NaN    NaN  \n",
              "1209                     NaN    NaN    NaN    NaN    NaN  \n",
              "416                      NaN    NaN    NaN    NaN    NaN  \n",
              "828                      NaN    NaN    NaN    NaN    NaN  \n",
              "\n",
              "[5 rows x 64 columns]"
            ]
          },
          "metadata": {
            "tags": []
          },
          "execution_count": 39
        }
      ]
    },
    {
      "metadata": {
        "id": "vww9dU4_C_-f",
        "colab_type": "text"
      },
      "cell_type": "markdown",
      "source": [
        "### (b)\n",
        "#### Now the fun part. I prepared a `for` loop, which will go through each of the cells (by id number) and then fill in the `spike_rates` data frame in the appropriate row.  The first line in that for loop requires you to get the subset of the `spikes` data that corresponds to only the current `cell_id`, using a selector.  In the second line you compute the histogram, so you get spike counts as a function of track location for one cell at a time.  In the third line you apply smoothing to stabilize the data.  In the fourth line you turn counts and durations into rates.  Finally, in the fifth line you fill the empty dataframe that we created above with the rate data that you computed for that cell.  "
      ]
    },
    {
      "metadata": {
        "id": "bGX29dVRC_-g",
        "colab_type": "code",
        "outputId": "a3e29149-dc27-4c10-b564-d0eb9373e6cf",
        "colab": {
          "base_uri": "https://localhost:8080/",
          "height": 511
        }
      },
      "cell_type": "code",
      "source": [
        "for cell_id in cell_ids:\n",
        "    # 1\n",
        "    is_it_this_cell_id = (spikes['cell_ids'] == cell_id)\n",
        "    cell_spikes = spikes[is_it_this_cell_id]\n",
        "    # 2\n",
        "    spike_counts_at_each_location, bin_edges = cell_spikes.hist()\n",
        "    spike_counts_at_each_location = spike_counts_at_each_location.astype('float') # Make these values decimals for safety\n",
        "    # 3\n",
        "    spike_counts_at_each_location = gaussian_filter(spike_counts_at_each_location, smoothing_width)\n",
        "    # 4\n",
        "    spike_rates_at_each_location = spike_counts_at_each_location / durations_at_each_location\n",
        "    # 5\n",
        "    spike_rates.loc[spike_rates, :] = spike_rates_at_each_location"
      ],
      "execution_count": 0,
      "outputs": [
        {
          "output_type": "error",
          "ename": "TypeError",
          "evalue": "ignored",
          "traceback": [
            "\u001b[0;31m---------------------------------------------------------------------------\u001b[0m",
            "\u001b[0;31mTypeError\u001b[0m                                 Traceback (most recent call last)",
            "\u001b[0;32m<ipython-input-45-7ad2a351195f>\u001b[0m in \u001b[0;36m<module>\u001b[0;34m()\u001b[0m\n\u001b[1;32m      5\u001b[0m     \u001b[0;31m# 2\u001b[0m\u001b[0;34m\u001b[0m\u001b[0;34m\u001b[0m\u001b[0;34m\u001b[0m\u001b[0m\n\u001b[1;32m      6\u001b[0m     \u001b[0mspike_counts_at_each_location\u001b[0m\u001b[0;34m,\u001b[0m \u001b[0mbin_edges\u001b[0m \u001b[0;34m=\u001b[0m \u001b[0mcell_spikes\u001b[0m\u001b[0;34m.\u001b[0m\u001b[0mhist\u001b[0m\u001b[0;34m(\u001b[0m\u001b[0;34m)\u001b[0m\u001b[0;34m\u001b[0m\u001b[0;34m\u001b[0m\u001b[0m\n\u001b[0;32m----> 7\u001b[0;31m     \u001b[0mspike_counts_at_each_location\u001b[0m \u001b[0;34m=\u001b[0m \u001b[0mspike_counts_at_each_location\u001b[0m\u001b[0;34m.\u001b[0m\u001b[0mastype\u001b[0m\u001b[0;34m(\u001b[0m\u001b[0;34m'float'\u001b[0m\u001b[0;34m)\u001b[0m \u001b[0;31m# Make these values decimals for safety\u001b[0m\u001b[0;34m\u001b[0m\u001b[0;34m\u001b[0m\u001b[0m\n\u001b[0m\u001b[1;32m      8\u001b[0m     \u001b[0;31m# 3\u001b[0m\u001b[0;34m\u001b[0m\u001b[0;34m\u001b[0m\u001b[0;34m\u001b[0m\u001b[0m\n\u001b[1;32m      9\u001b[0m     \u001b[0mspike_counts_at_each_location\u001b[0m \u001b[0;34m=\u001b[0m \u001b[0mgaussian_filter\u001b[0m\u001b[0;34m(\u001b[0m\u001b[0mspike_counts_at_each_location\u001b[0m\u001b[0;34m,\u001b[0m \u001b[0msmoothing_width\u001b[0m\u001b[0;34m)\u001b[0m\u001b[0;34m\u001b[0m\u001b[0;34m\u001b[0m\u001b[0m\n",
            "\u001b[0;31mTypeError\u001b[0m: float() argument must be a string or a number, not 'AxesSubplot'"
          ]
        },
        {
          "output_type": "display_data",
          "data": {
            "image/png": "[encoded data removed]",
            "text/plain": [
              "<Figure size 432x288 with 4 Axes>"
            ]
          },
          "metadata": {
            "tags": []
          }
        }
      ]
    },
    {
      "metadata": {
        "id": "U1WH1g5oLww0",
        "colab_type": "code",
        "colab": {}
      },
      "cell_type": "code",
      "source": [
        ""
      ],
      "execution_count": 0,
      "outputs": []
    },
    {
      "metadata": {
        "id": "Kn_lt6VfC_-h",
        "colab_type": "text"
      },
      "cell_type": "markdown",
      "source": [
        "#### Sometimes we end up with missing values, and we need to fill in real numbers so that our other algorithm don't get confused.  You can replace missing values with `fillna(x)`, where x is the value to use to replace missing values with.  Replace the missing values in `spike_rates` with 0's.  "
      ]
    },
    {
      "metadata": {
        "id": "CqLxCbBGC_-j",
        "colab_type": "code",
        "colab": {}
      },
      "cell_type": "code",
      "source": [
        "spike_rates = spike_rates..."
      ],
      "execution_count": 0,
      "outputs": []
    },
    {
      "metadata": {
        "id": "uL1ypoUjC_-l",
        "colab_type": "text"
      },
      "cell_type": "markdown",
      "source": [
        "#### Let's visualize these spike rates using a heatmap.  "
      ]
    },
    {
      "metadata": {
        "id": "nukYS6JVC_-l",
        "colab_type": "code",
        "colab": {}
      },
      "cell_type": "code",
      "source": [
        "hm = sns.heatmap(spike_rates, cbar_kws={'label':'Spike Rate (Hz)'});"
      ],
      "execution_count": 0,
      "outputs": []
    },
    {
      "metadata": {
        "id": "gBpBsfWtC_-u",
        "colab_type": "text"
      },
      "cell_type": "markdown",
      "source": [
        "#### Note that there are actually many more cells shown here than just the dozen or so cell labels.  It is conveniently only drawing a few of the cell ID labels to declutter the screen, but you an make it draw more if you want (ask me about it).  \n",
        "\n",
        "#### Still, this isn't very interesting yet.  The cells that fire at high rates are drowning out the signal from the ones that fire at low rates, in our figure.  And it isn't clear how to order the cells, since the cell ID is arbitrary.  We can solve a bunch of problems at once with a cool visualization called a cluster map. "
      ]
    },
    {
      "metadata": {
        "id": "wTNojU8EC_-u",
        "colab_type": "text"
      },
      "cell_type": "markdown",
      "source": [
        "### (c)\n",
        "#### First, we can normalize all the cells by computing a new \"normalized\" spike rate that has the same mean value across the track for every cell.  We do this by dividing through by the mean of each row, which is trickier than it sounds.  In the first line, compute the mean spike rate for each cell (each row) using the `.mean()` method on the `spike_rates` dataframe, choosing axis number 1 to compute the mean over.  (0 and 1 are the rows and columns).  "
      ]
    },
    {
      "metadata": {
        "id": "buABhjkxC_-x",
        "colab_type": "code",
        "colab": {}
      },
      "cell_type": "code",
      "source": [
        "spike_rates_mean = spike_rates.mean(axis=...)"
      ],
      "execution_count": 0,
      "outputs": []
    },
    {
      "metadata": {
        "id": "JWOnKGVgC_-4",
        "colab_type": "text"
      },
      "cell_type": "markdown",
      "source": [
        "### (d)\n",
        "#### Next, we divide our original `spike_rates` by these mean spike rates. Now you need to switch the axis, because whereas we computed the mean in one direction of the dataframe, we are dividing in the other!"
      ]
    },
    {
      "metadata": {
        "id": "6qIXJ1DHC_-8",
        "colab_type": "code",
        "colab": {}
      },
      "cell_type": "code",
      "source": [
        "spike_rates_normalized = spike_rates.div(..., axis=...)"
      ],
      "execution_count": 0,
      "outputs": []
    },
    {
      "metadata": {
        "id": "BaG5JUusC__B",
        "colab_type": "text"
      },
      "cell_type": "markdown",
      "source": [
        "### (e)\n",
        "#### Now if we make the heatmap with this normalized data, we should see some patches where specific cells preferentially respond -- their receptive fields!  "
      ]
    },
    {
      "metadata": {
        "id": "WECcVah5C__C",
        "colab_type": "code",
        "colab": {}
      },
      "cell_type": "code",
      "source": [
        "cm = sns.heatmap(..., cbar_kws={'label':'Fold-change in spike rate'})"
      ],
      "execution_count": 0,
      "outputs": []
    },
    {
      "metadata": {
        "id": "NjA-4m5_C__E",
        "colab_type": "text"
      },
      "cell_type": "markdown",
      "source": [
        "#### We still don't know how the cells relate to one another (are their clusters of cells that do the same thing?) The function `sns.clustermap` takes care of this for us by hierarchically sorting the data, and does some other nice things.  For example, it can compute Z-scores, so that instead of just seeing fold-changes relative to the mean, we can see how significant the changes are in a statistical sense.  "
      ]
    },
    {
      "metadata": {
        "id": "p8ltHf1pC__F",
        "colab_type": "code",
        "colab": {}
      },
      "cell_type": "code",
      "source": [
        "cm = sns.clustermap(spike_rates, # We don't even have to do the normalization, as this function will do it for us\n",
        "                    col_cluster=False, # This line is to prevent the times from being clustered\n",
        "                    z_score=0, # This computes Z-scores with respect to time (mean and stdev across time)\n",
        "                    cbar_kws={'label':'Z-score'})"
      ],
      "execution_count": 0,
      "outputs": []
    },
    {
      "metadata": {
        "id": "FF87y33yC__K",
        "colab_type": "text"
      },
      "cell_type": "markdown",
      "source": [
        "### (f)\n",
        "#### One last touch: let's change the color map to make it easier to tell positive (higher rate than average) from negative (lower rate than average), and the range of colors to highlight significance levels.  For `vmin` and `vmax` set some typical significance cutoffs for a Z-score on the low and high end respectively (or ask me if you haven't seen Z-scores before).  "
      ]
    },
    {
      "metadata": {
        "id": "YxFbxl8XC__M",
        "colab_type": "code",
        "colab": {}
      },
      "cell_type": "code",
      "source": [
        "cm = sns.clustermap(spike_rates, \n",
        "                    vmin=..., # The bluest color will be this Z-score\n",
        "                    vmax=..., # The reddest color will be this Z-score\n",
        "                    cmap='RdBu_r', # This is the name of a color map, in this case from Blue to Red\n",
        "                    col_cluster=False, \n",
        "                    z_score=0, # This tells the function to compute the Z-score in each row (i.e. for each cell across track locations)\n",
        "                    cbar_kws={'label':'Z-score'})"
      ],
      "execution_count": 0,
      "outputs": []
    },
    {
      "metadata": {
        "id": "nd-XUTQzC__P",
        "colab_type": "text"
      },
      "cell_type": "markdown",
      "source": [
        "## (3)"
      ]
    },
    {
      "metadata": {
        "id": "n0fYykuXC__Q",
        "colab_type": "text"
      },
      "cell_type": "markdown",
      "source": [
        "### The figure above is pretty cool.  We can clearly see which cells are active at which parts of the track, and similarly-responding cells are grouped together.  Now let's use pieces of this figure to answer questions.  "
      ]
    },
    {
      "metadata": {
        "id": "n8-2OwRIC__R",
        "colab_type": "text"
      },
      "cell_type": "markdown",
      "source": [
        "### (a)\n",
        "#### First, let's extract one cell from the `spike_rates` data that we computed earlier, in particular cell #1106 (accessible by it's integer representation).  Then let's plot it's tuning curve -- this is just a slice through the figure above, but it shows us very clearly at what part of the track this particular cell responds most.  "
      ]
    },
    {
      "metadata": {
        "id": "hJDU3tHhC__S",
        "colab_type": "code",
        "colab": {}
      },
      "cell_type": "code",
      "source": [
        "cell_id = ...\n",
        "one_cell_spike_rates = spike_rates.loc[...]\n",
        "one_cell_spike_rates.plot();\n",
        "plt.ylabel('Firing Rate (Hz)');\n",
        "plt.title('Receptive field for cell %d' % ...);"
      ],
      "execution_count": 0,
      "outputs": []
    },
    {
      "metadata": {
        "id": "P8mlgQ2ZC__U",
        "colab_type": "text"
      },
      "cell_type": "markdown",
      "source": [
        "### (b) \n",
        "#### What is the maximum firing rate for this cell (use `.max()`, and where on the track does it occur (use `.idxmax()`).  Use a print statement to write your answer.  Include units.  "
      ]
    },
    {
      "metadata": {
        "id": "gMYuMRjvC__V",
        "colab_type": "code",
        "colab": {}
      },
      "cell_type": "code",
      "source": [
        "print(\"The maximum is ... and it occurs at ...\" % (..., ...))"
      ],
      "execution_count": 0,
      "outputs": []
    },
    {
      "metadata": {
        "id": "YBkeNwByC__W",
        "colab_type": "text"
      },
      "cell_type": "markdown",
      "source": [
        "### (c)\n",
        "#### Compute the width of this tuning curve, defined as the width at half of it's maximum height.  You can use a selector to extract the part that is above half of the maximum height, and then subtract the last and first values of the extract data's index (which is in units of meters).  "
      ]
    },
    {
      "metadata": {
        "id": "eyj-3fbyC__X",
        "colab_type": "code",
        "colab": {}
      },
      "cell_type": "code",
      "source": [
        "is_it_above_half_max = one_cell_spike_rates > ...\n",
        "only_those_above_half_max = one_cell_spike_rates[...]\n",
        "first_location = only_those_above_half_max[...] # The left-edge of the width\n",
        "last_location = only_those_above_half_max[...] # The right-edge of the width\n",
        "print(\"The width is ...\" % (... - ...))"
      ],
      "execution_count": 0,
      "outputs": []
    },
    {
      "metadata": {
        "id": "zARpT1FcC__Y",
        "colab_type": "text"
      },
      "cell_type": "markdown",
      "source": [
        "## (4)\n",
        "### (a)\n",
        "#### Now let's see if we can use the tuning curves of these cells to decode the position of the rat at a given time.  This means figuring out where the rat is based only on the activity of neurons in its brain.  First, let's extract a narrow range of time (0.2 seconds) and see where the rat was over that period of time.  "
      ]
    },
    {
      "metadata": {
        "id": "SQgmL3cGC__Z",
        "colab_type": "code",
        "colab": {}
      },
      "cell_type": "code",
      "source": [
        "t_begin = 19004.8\n",
        "t_end = t_begin + ...\n",
        "is_time_in_range = (locations.index>...) & (locations.index<...)\n",
        "current_locations = locations[...][...] # First elipsis to select matching rows; second elipsis to select the column contains the track location\n",
        "current_locations"
      ],
      "execution_count": 0,
      "outputs": []
    },
    {
      "metadata": {
        "id": "qcwRlP7zC__a",
        "colab_type": "text"
      },
      "cell_type": "markdown",
      "source": [
        "### (b)\n",
        "#### Next, let's extract only the spikes that occurred in that range of time so we can figure out if they tell us anything.  "
      ]
    },
    {
      "metadata": {
        "id": "-OU5z_z8C__a",
        "colab_type": "code",
        "colab": {}
      },
      "cell_type": "code",
      "source": [
        "is_time_in_range = (...>...) & (...<...) # First elipsis in each case is NOT `locations`, but the data frame containing spike information!\n",
        "current_spikes_cell_ids = ...[is_time_in_range]['cell_ids'] # Extract the cell_ids for spikes that occurred during this time range\n",
        "current_spikes_cell_ids.head()"
      ],
      "execution_count": 0,
      "outputs": []
    },
    {
      "metadata": {
        "id": "DT-33Xc3C__c",
        "colab_type": "text"
      },
      "cell_type": "markdown",
      "source": [
        "### (c) \n",
        "#### Bayes theorem says that $p(x | s) = p(s | x) * p(x) / p(s)$\n",
        "#### This means that the probability that the rate is at position `x`, given that know about some spikes `s`, is proportional to the probability of some spikes `s` having occurred at position `x`.  The term $p(s|x)/p(s)$ is basically just the normalized firing rate we computed earlier -- the probability of spiking at one position divided by the probability of spiking at any position.  We also computed the term $p(x)$ earlier -- that is just the normalized duration that the rat spends at each position.  It is pretty constant, so we can just ignore it. \n",
        "#### Let's construct our decoder using Bayes theorem.  First, let's make an empty data frame by re-using an old one and setting all the values to 0.  Then, for each cell that could helps us decode the rat's location, let's add the term $p(s | x) / p(s)$, which is just the normalized spike rate we computed earlier.  "
      ]
    },
    {
      "metadata": {
        "id": "HSu3AgKXC__d",
        "colab_type": "code",
        "colab": {}
      },
      "cell_type": "code",
      "source": [
        "decoder = spike_rates_normalized.copy() * ...\n",
        "for cell_id in current_spikes_cell_ids:\n",
        "    decoder.loc[...] += spike_rates_normalized.loc[...]"
      ],
      "execution_count": 0,
      "outputs": []
    },
    {
      "metadata": {
        "id": "bIV3HPWLC__g",
        "colab_type": "text"
      },
      "cell_type": "markdown",
      "source": [
        "### (d)\n",
        "#### Let's allow every cell to contribute equally to decoding.  Take the mean of the decoder across cells with the `.mean()` method, then plot it with the `.plot()` method.  "
      ]
    },
    {
      "metadata": {
        "id": "QGbo04KrC__h",
        "colab_type": "code",
        "colab": {}
      },
      "cell_type": "code",
      "source": [
        "decoder_mean = ...\n",
        "decoder_mean... # Use this line to plot"
      ],
      "execution_count": 0,
      "outputs": []
    },
    {
      "metadata": {
        "id": "MocxVU6BC__i",
        "colab_type": "text"
      },
      "cell_type": "markdown",
      "source": [
        "### (e)\n",
        "#### According to our neural decoder, what is the highest probability location?  How does that compare to the rat's actual location during that time?  Do rat neurons know where they are?  "
      ]
    },
    {
      "metadata": {
        "id": "du2f8IL4C__i",
        "colab_type": "code",
        "colab": {}
      },
      "cell_type": "code",
      "source": [
        "print(\"The decoder says ... and the actual location is ..., which are %s\" % \n",
        "      (..., ..., \"INSERT HERE SOMETHING ABOUT HOW CLOSE YOU THINK THEY ARE\")) # First elipsis is deocoder peak location; second elipsis is average real location of the rat during that time period"
      ],
      "execution_count": 0,
      "outputs": []
    },
    {
      "metadata": {
        "id": "F2qhzfx6C__j",
        "colab_type": "text"
      },
      "cell_type": "markdown",
      "source": [
        "#### In fact, sometimes the neurons encode where the rat is going, not where he is!  "
      ]
    },
    {
      "metadata": {
        "id": "0dOIGUZLC__k",
        "colab_type": "text"
      },
      "cell_type": "markdown",
      "source": [
        "## (5)\n",
        "#### How much information can spikes convey?  We can compute information by first measuring the uncertainty that we have about location, and then figuring out how much that uncertainty is reduced by decoding some information about location from the spikes.  "
      ]
    },
    {
      "metadata": {
        "id": "m9bdnp38C__k",
        "colab_type": "text"
      },
      "cell_type": "markdown",
      "source": [
        "### (a)\n",
        "#### First, let's compute the probability distribution across locations.  Probability distributions must integrate to 1 (or sum to 1), and we achieve this by dividing the durations at each location by the total duration of the experiment.  "
      ]
    },
    {
      "metadata": {
        "id": "MsclAxNxC__l",
        "colab_type": "code",
        "colab": {}
      },
      "cell_type": "code",
      "source": [
        "total_duration = durations_at_each_location.sum()\n",
        "probabilty_at_each_location = durations_at_each_location / ...\n",
        "plt.plot(bin_centers, ...)\n",
        "plt.xlabel('Location on track (m)')\n",
        "plt.ylabel('Probability of being in location');"
      ],
      "execution_count": 0,
      "outputs": []
    },
    {
      "metadata": {
        "id": "63IquCqtC__m",
        "colab_type": "text"
      },
      "cell_type": "markdown",
      "source": [
        "### (b)\n",
        "#### Next, we compute the entropy, which measures our uncertainty about location.  We divided up location into 64 bins, which is a really convenient choice for the following reason: If the rat is equally likely to be in each of the 64 location bins, then that is like flipping 6 fair coins -- there are $2^6$ possible states, and all are equally probable, therefore there are 6 bits of entropy.  "
      ]
    },
    {
      "metadata": {
        "id": "IUXFZr68C__n",
        "colab_type": "code",
        "colab": {}
      },
      "cell_type": "code",
      "source": [
        "# Create an array of 64 values, each containing 1/64th\n",
        "# This is a valid probability distribution, since it adds up to 1.  \n",
        "p = np.ones(...)/... # Hint: both elipsis are the same number!\n",
        "\n",
        "# Compute the entropy of that distribution\n",
        "h = -np.sum(... * np.log2(...))\n",
        "\n",
        "# Report that entropy\n",
        "print(\"The entropy is %d bits\" % ...)"
      ],
      "execution_count": 0,
      "outputs": []
    },
    {
      "metadata": {
        "id": "e6Cn8-1JC__o",
        "colab_type": "text"
      },
      "cell_type": "markdown",
      "source": [
        "### (c)\n",
        "#### Now we do this for the actual probability distribution $p(x)$ in (a)"
      ]
    },
    {
      "metadata": {
        "id": "UsytlFXbC__p",
        "colab_type": "code",
        "colab": {}
      },
      "cell_type": "code",
      "source": [
        "p_x = probabilty_at_each_location\n",
        "h = ...\n",
        "print(\"The entropy (uncertainty) of the rat's location is %.3g bits\" % ...)"
      ],
      "execution_count": 0,
      "outputs": []
    },
    {
      "metadata": {
        "id": "fnOWkjhgC__q",
        "colab_type": "text"
      },
      "cell_type": "markdown",
      "source": [
        "### (d)\n",
        "#### Bayes's theorem says that the conditional probability distribution p(x|s), the probability of finding the rat at location `x` given that a spike has occurred, is given by $p(x | s) = p(s | x) * p(x) / p(s)$.  p(x) is what we just looked at in (c).  $p(s | x) / p(s)$ is the normalized spike rate for the cell in question.  Let's assume that the cell that spiked is cell 1106.  Compute $p(x | s)$, and then the new entropy given that the cell spiked. "
      ]
    },
    {
      "metadata": {
        "id": "qNGUneenC__q",
        "colab_type": "code",
        "colab": {}
      },
      "cell_type": "code",
      "source": [
        "p_x_s = p_x * spike_rates_normalized.loc[...]\n",
        "h_s = ...\n",
        "print(\"The entropy (uncertainty) of the rat's location is now only %.3g bits\" % ...)"
      ],
      "execution_count": 0,
      "outputs": []
    },
    {
      "metadata": {
        "id": "TYgIe-CDC__r",
        "colab_type": "text"
      },
      "cell_type": "markdown",
      "source": [
        "### (e)\n",
        "#### How much information was gained?  This is just the old entropy minus the new entropy, i.e. the reduction of entropy.  Information is just the reduction of uncertainty.  "
      ]
    },
    {
      "metadata": {
        "id": "JBk-eCZbC__s",
        "colab_type": "code",
        "colab": {}
      },
      "cell_type": "code",
      "source": [
        "print(\"The information provided by the spike about the rat's location is %.3g bits\" % (...))"
      ],
      "execution_count": 0,
      "outputs": []
    },
    {
      "metadata": {
        "id": "-6DuqIrpC__t",
        "colab_type": "text"
      },
      "cell_type": "markdown",
      "source": [
        "#### Our uncertainty about the rat's location used to be about the same as that present in the outcome of 6 consecutive coin flips.  Seeing just one spike reduces that by about half a coin flip!"
      ]
    }
  ]
}