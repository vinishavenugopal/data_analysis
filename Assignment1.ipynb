{
  "nbformat": 4,
  "nbformat_minor": 0,
  "metadata": {
    "colab": {
      "name": "Copy of Copy of Copy of spinal-exercises.ipynb",
      "version": "0.3.2",
      "provenance": [],
      "include_colab_link": true
    },
    "kernelspec": {
      "display_name": "Python 3",
      "language": "python",
      "name": "python3"
    }
  },
  "cells": [
    {
      "cell_type": "markdown",
      "metadata": {
        "id": "view-in-github",
        "colab_type": "text"
      },
      "source": [
        "<a href=\"https://colab.research.google.com/github/vinishavenugopal/data_analysis/blob/master/Assignment1.ipynb\" target=\"_parent\"><img src=\"https://colab.research.google.com/assets/colab-badge.svg\" alt=\"Open In Colab\"/></a>"
      ]
    },
    {
      "metadata": {
        "id": "DfY92Gqs0kFh",
        "colab_type": "text"
      },
      "cell_type": "markdown",
      "source": [
        "# Pandas dataframe exercises using the sprinter reaction time dataset.  \n",
        "## Goal: Get familiar with basic dataframe operations"
      ]
    },
    {
      "metadata": {
        "id": "9vw95aaf0kFm",
        "colab_type": "text"
      },
      "cell_type": "markdown",
      "source": [
        "The code block below is a preamble that loads the libraries that we need and sets things up the way we like it.  You can copy and paste this preamble and put it in any notebook to have access to the same libraries."
      ]
    },
    {
      "metadata": {
        "id": "Wkfbbv8z0kFp",
        "colab_type": "code",
        "colab": {}
      },
      "cell_type": "code",
      "source": [
        "# Tells the notebooks to view every graph \"in line\" automatically, rather than requiring a specific `show` command\n",
        "%matplotlib inline \n",
        "# Loads the numpy library (for math stuff)\n",
        "import numpy as np \n",
        "# Load the pandas library (what we use to create, explore, and analyze datasets)\n",
        "import pandas as pd \n",
        "# Loads the matplotlib library (what we use to create graphs)\n",
        "import matplotlib.pyplot as plt \n",
        "# Loads the seaborn library (what we use to create prettier graphs)\n",
        "import seaborn as sns \n",
        "# Sets the default font size for graphs to 150% of its original value (for readability)\n",
        "sns.set(font_scale=1.5) "
      ],
      "execution_count": 0,
      "outputs": []
    },
    {
      "metadata": {
        "id": "-hiiTLye0kFz",
        "colab_type": "text"
      },
      "cell_type": "markdown",
      "source": [
        "#### First we load the original data into a Pandas dataframe called `df`"
      ]
    },
    {
      "metadata": {
        "id": "sFxWXgcP0kF4",
        "colab_type": "code",
        "outputId": "1d338b23-a53b-4211-ee0d-4e27b94f75a9",
        "colab": {
          "base_uri": "https://localhost:8080/",
          "height": 204
        }
      },
      "cell_type": "code",
      "source": [
        "url = \"https://raw.githubusercontent.com/rgerkin/neuro-data-analysis-course/master/data/spinal/2004-2016-Short-Races2.csv\"\n",
        "df = pd.read_csv(url) # Loads the data from that URL into a dataframe\n",
        " # Shows the first few rows of that dataframe\n",
        "df.head()"
      ],
      "execution_count": 3,
      "outputs": [
        {
          "output_type": "execute_result",
          "data": {
            "text/html": [
              "<div>\n",
              "<style scoped>\n",
              "    .dataframe tbody tr th:only-of-type {\n",
              "        vertical-align: middle;\n",
              "    }\n",
              "\n",
              "    .dataframe tbody tr th {\n",
              "        vertical-align: top;\n",
              "    }\n",
              "\n",
              "    .dataframe thead th {\n",
              "        text-align: right;\n",
              "    }\n",
              "</style>\n",
              "<table border=\"1\" class=\"dataframe\">\n",
              "  <thead>\n",
              "    <tr style=\"text-align: right;\">\n",
              "      <th></th>\n",
              "      <th>Unnamed: 0</th>\n",
              "      <th>POS</th>\n",
              "      <th>BIB</th>\n",
              "      <th>ATHLETE</th>\n",
              "      <th>COUNTRY</th>\n",
              "      <th>MARK</th>\n",
              "      <th>RxnTime</th>\n",
              "      <th>Race</th>\n",
              "      <th>Round</th>\n",
              "      <th>Gender</th>\n",
              "      <th>Year</th>\n",
              "    </tr>\n",
              "  </thead>\n",
              "  <tbody>\n",
              "    <tr>\n",
              "      <th>0</th>\n",
              "      <td>0</td>\n",
              "      <td>1.0</td>\n",
              "      <td>NaN</td>\n",
              "      <td>Usain BOLT</td>\n",
              "      <td>JAMJAM</td>\n",
              "      <td>10.20 Q</td>\n",
              "      <td>0.186</td>\n",
              "      <td>100 m</td>\n",
              "      <td>Heats</td>\n",
              "      <td>M</td>\n",
              "      <td>2008</td>\n",
              "    </tr>\n",
              "    <tr>\n",
              "      <th>1</th>\n",
              "      <td>1</td>\n",
              "      <td>2.0</td>\n",
              "      <td>NaN</td>\n",
              "      <td>Daniel BAILEY</td>\n",
              "      <td>ANTANT</td>\n",
              "      <td>10.24 Q</td>\n",
              "      <td>0.198</td>\n",
              "      <td>100 m</td>\n",
              "      <td>Heats</td>\n",
              "      <td>M</td>\n",
              "      <td>2008</td>\n",
              "    </tr>\n",
              "    <tr>\n",
              "      <th>2</th>\n",
              "      <td>2</td>\n",
              "      <td>3.0</td>\n",
              "      <td>NaN</td>\n",
              "      <td>Vicente DE LIMA</td>\n",
              "      <td>BRABRA</td>\n",
              "      <td>10.26 Q</td>\n",
              "      <td>0.168</td>\n",
              "      <td>100 m</td>\n",
              "      <td>Heats</td>\n",
              "      <td>M</td>\n",
              "      <td>2008</td>\n",
              "    </tr>\n",
              "    <tr>\n",
              "      <th>3</th>\n",
              "      <td>3</td>\n",
              "      <td>4.0</td>\n",
              "      <td>NaN</td>\n",
              "      <td>Henry VIZCAÍNO</td>\n",
              "      <td>CUBCUB</td>\n",
              "      <td>10.28 q</td>\n",
              "      <td>0.157</td>\n",
              "      <td>100 m</td>\n",
              "      <td>Heats</td>\n",
              "      <td>M</td>\n",
              "      <td>2008</td>\n",
              "    </tr>\n",
              "    <tr>\n",
              "      <th>4</th>\n",
              "      <td>4</td>\n",
              "      <td>5.0</td>\n",
              "      <td>NaN</td>\n",
              "      <td>Fabio CERUTTI</td>\n",
              "      <td>ITAITA</td>\n",
              "      <td>10.49</td>\n",
              "      <td>0.136</td>\n",
              "      <td>100 m</td>\n",
              "      <td>Heats</td>\n",
              "      <td>M</td>\n",
              "      <td>2008</td>\n",
              "    </tr>\n",
              "  </tbody>\n",
              "</table>\n",
              "</div>"
            ],
            "text/plain": [
              "   Unnamed: 0  POS  BIB          ATHLETE COUNTRY     MARK  RxnTime   Race  \\\n",
              "0           0  1.0  NaN       Usain BOLT  JAMJAM  10.20 Q    0.186  100 m   \n",
              "1           1  2.0  NaN    Daniel BAILEY  ANTANT  10.24 Q    0.198  100 m   \n",
              "2           2  3.0  NaN  Vicente DE LIMA  BRABRA  10.26 Q    0.168  100 m   \n",
              "3           3  4.0  NaN   Henry VIZCAÍNO  CUBCUB  10.28 q    0.157  100 m   \n",
              "4           4  5.0  NaN    Fabio CERUTTI  ITAITA    10.49    0.136  100 m   \n",
              "\n",
              "   Round Gender  Year  \n",
              "0  Heats      M  2008  \n",
              "1  Heats      M  2008  \n",
              "2  Heats      M  2008  \n",
              "3  Heats      M  2008  \n",
              "4  Heats      M  2008  "
            ]
          },
          "metadata": {
            "tags": []
          },
          "execution_count": 3
        }
      ]
    },
    {
      "metadata": {
        "id": "sRqLaJfL0kGA",
        "colab_type": "text"
      },
      "cell_type": "markdown",
      "source": [
        "#### Now complete the numbered tasks below.  Read the question, then use the code block to fill in your solution"
      ]
    },
    {
      "metadata": {
        "id": "chJe-J1S0kGC",
        "colab_type": "text"
      },
      "cell_type": "markdown",
      "source": [
        "1) A method is just a function that belongs to an object (like a dataframe).  The `.head()` method is a good way to preview the data that you loaded.  Sometimes people work with datasets with thousands or even millions of rows.  You usually don't need to see them all at once!  But sometimes you want to see more than 5 rows.  Try passing an argument to `.head()`, in order to see more rows.  For example, `.head(10)` to see 10 rows.  Or pick some other number."
      ]
    },
    {
      "metadata": {
        "id": "PesudS0x0kGD",
        "colab_type": "code",
        "outputId": "a769b23c-e37e-467e-c56a-528cfdb44c36",
        "colab": {
          "base_uri": "https://localhost:8080/",
          "height": 297
        }
      },
      "cell_type": "code",
      "source": [
        "# Fill in your answer to 1 here\n",
        "df.head(8)"
      ],
      "execution_count": 4,
      "outputs": [
        {
          "output_type": "execute_result",
          "data": {
            "text/html": [
              "<div>\n",
              "<style scoped>\n",
              "    .dataframe tbody tr th:only-of-type {\n",
              "        vertical-align: middle;\n",
              "    }\n",
              "\n",
              "    .dataframe tbody tr th {\n",
              "        vertical-align: top;\n",
              "    }\n",
              "\n",
              "    .dataframe thead th {\n",
              "        text-align: right;\n",
              "    }\n",
              "</style>\n",
              "<table border=\"1\" class=\"dataframe\">\n",
              "  <thead>\n",
              "    <tr style=\"text-align: right;\">\n",
              "      <th></th>\n",
              "      <th>Unnamed: 0</th>\n",
              "      <th>POS</th>\n",
              "      <th>BIB</th>\n",
              "      <th>ATHLETE</th>\n",
              "      <th>COUNTRY</th>\n",
              "      <th>MARK</th>\n",
              "      <th>RxnTime</th>\n",
              "      <th>Race</th>\n",
              "      <th>Round</th>\n",
              "      <th>Gender</th>\n",
              "      <th>Year</th>\n",
              "    </tr>\n",
              "  </thead>\n",
              "  <tbody>\n",
              "    <tr>\n",
              "      <th>0</th>\n",
              "      <td>0</td>\n",
              "      <td>1.0</td>\n",
              "      <td>NaN</td>\n",
              "      <td>Usain BOLT</td>\n",
              "      <td>JAMJAM</td>\n",
              "      <td>10.20 Q</td>\n",
              "      <td>0.186</td>\n",
              "      <td>100 m</td>\n",
              "      <td>Heats</td>\n",
              "      <td>M</td>\n",
              "      <td>2008</td>\n",
              "    </tr>\n",
              "    <tr>\n",
              "      <th>1</th>\n",
              "      <td>1</td>\n",
              "      <td>2.0</td>\n",
              "      <td>NaN</td>\n",
              "      <td>Daniel BAILEY</td>\n",
              "      <td>ANTANT</td>\n",
              "      <td>10.24 Q</td>\n",
              "      <td>0.198</td>\n",
              "      <td>100 m</td>\n",
              "      <td>Heats</td>\n",
              "      <td>M</td>\n",
              "      <td>2008</td>\n",
              "    </tr>\n",
              "    <tr>\n",
              "      <th>2</th>\n",
              "      <td>2</td>\n",
              "      <td>3.0</td>\n",
              "      <td>NaN</td>\n",
              "      <td>Vicente DE LIMA</td>\n",
              "      <td>BRABRA</td>\n",
              "      <td>10.26 Q</td>\n",
              "      <td>0.168</td>\n",
              "      <td>100 m</td>\n",
              "      <td>Heats</td>\n",
              "      <td>M</td>\n",
              "      <td>2008</td>\n",
              "    </tr>\n",
              "    <tr>\n",
              "      <th>3</th>\n",
              "      <td>3</td>\n",
              "      <td>4.0</td>\n",
              "      <td>NaN</td>\n",
              "      <td>Henry VIZCAÍNO</td>\n",
              "      <td>CUBCUB</td>\n",
              "      <td>10.28 q</td>\n",
              "      <td>0.157</td>\n",
              "      <td>100 m</td>\n",
              "      <td>Heats</td>\n",
              "      <td>M</td>\n",
              "      <td>2008</td>\n",
              "    </tr>\n",
              "    <tr>\n",
              "      <th>4</th>\n",
              "      <td>4</td>\n",
              "      <td>5.0</td>\n",
              "      <td>NaN</td>\n",
              "      <td>Fabio CERUTTI</td>\n",
              "      <td>ITAITA</td>\n",
              "      <td>10.49</td>\n",
              "      <td>0.136</td>\n",
              "      <td>100 m</td>\n",
              "      <td>Heats</td>\n",
              "      <td>M</td>\n",
              "      <td>2008</td>\n",
              "    </tr>\n",
              "    <tr>\n",
              "      <th>5</th>\n",
              "      <td>5</td>\n",
              "      <td>6.0</td>\n",
              "      <td>NaN</td>\n",
              "      <td>Jurgen THEMEN</td>\n",
              "      <td>SURSUR</td>\n",
              "      <td>10.61</td>\n",
              "      <td>0.179</td>\n",
              "      <td>100 m</td>\n",
              "      <td>Heats</td>\n",
              "      <td>M</td>\n",
              "      <td>2008</td>\n",
              "    </tr>\n",
              "    <tr>\n",
              "      <th>6</th>\n",
              "      <td>6</td>\n",
              "      <td>7.0</td>\n",
              "      <td>NaN</td>\n",
              "      <td>Moses KAMUT</td>\n",
              "      <td>VANVAN</td>\n",
              "      <td>10.81</td>\n",
              "      <td>0.181</td>\n",
              "      <td>100 m</td>\n",
              "      <td>Heats</td>\n",
              "      <td>M</td>\n",
              "      <td>2008</td>\n",
              "    </tr>\n",
              "    <tr>\n",
              "      <th>7</th>\n",
              "      <td>7</td>\n",
              "      <td>8.0</td>\n",
              "      <td>NaN</td>\n",
              "      <td>Francis MANIORU</td>\n",
              "      <td>SOLSOL</td>\n",
              "      <td>11.09</td>\n",
              "      <td>0.197</td>\n",
              "      <td>100 m</td>\n",
              "      <td>Heats</td>\n",
              "      <td>M</td>\n",
              "      <td>2008</td>\n",
              "    </tr>\n",
              "  </tbody>\n",
              "</table>\n",
              "</div>"
            ],
            "text/plain": [
              "   Unnamed: 0  POS  BIB          ATHLETE COUNTRY     MARK  RxnTime   Race  \\\n",
              "0           0  1.0  NaN       Usain BOLT  JAMJAM  10.20 Q    0.186  100 m   \n",
              "1           1  2.0  NaN    Daniel BAILEY  ANTANT  10.24 Q    0.198  100 m   \n",
              "2           2  3.0  NaN  Vicente DE LIMA  BRABRA  10.26 Q    0.168  100 m   \n",
              "3           3  4.0  NaN   Henry VIZCAÍNO  CUBCUB  10.28 q    0.157  100 m   \n",
              "4           4  5.0  NaN    Fabio CERUTTI  ITAITA    10.49    0.136  100 m   \n",
              "5           5  6.0  NaN    Jurgen THEMEN  SURSUR    10.61    0.179  100 m   \n",
              "6           6  7.0  NaN      Moses KAMUT  VANVAN    10.81    0.181  100 m   \n",
              "7           7  8.0  NaN  Francis MANIORU  SOLSOL    11.09    0.197  100 m   \n",
              "\n",
              "   Round Gender  Year  \n",
              "0  Heats      M  2008  \n",
              "1  Heats      M  2008  \n",
              "2  Heats      M  2008  \n",
              "3  Heats      M  2008  \n",
              "4  Heats      M  2008  \n",
              "5  Heats      M  2008  \n",
              "6  Heats      M  2008  \n",
              "7  Heats      M  2008  "
            ]
          },
          "metadata": {
            "tags": []
          },
          "execution_count": 4
        }
      ]
    },
    {
      "metadata": {
        "id": "MTgOpRYH0kGF",
        "colab_type": "text"
      },
      "cell_type": "markdown",
      "source": [
        "2) You can also look at the *last* few rows of the data, using the `.tail()` method. Try viewing the last 12 rows of the dataset.  "
      ]
    },
    {
      "metadata": {
        "id": "cRgh98Rq0kGH",
        "colab_type": "code",
        "outputId": "08208eed-4330-4847-ce78-926ec93dd213",
        "colab": {
          "base_uri": "https://localhost:8080/",
          "height": 421
        }
      },
      "cell_type": "code",
      "source": [
        "# Fill in your answer to 2 here\n",
        "df.tail(12)"
      ],
      "execution_count": 5,
      "outputs": [
        {
          "output_type": "execute_result",
          "data": {
            "text/html": [
              "<div>\n",
              "<style scoped>\n",
              "    .dataframe tbody tr th:only-of-type {\n",
              "        vertical-align: middle;\n",
              "    }\n",
              "\n",
              "    .dataframe tbody tr th {\n",
              "        vertical-align: top;\n",
              "    }\n",
              "\n",
              "    .dataframe thead th {\n",
              "        text-align: right;\n",
              "    }\n",
              "</style>\n",
              "<table border=\"1\" class=\"dataframe\">\n",
              "  <thead>\n",
              "    <tr style=\"text-align: right;\">\n",
              "      <th></th>\n",
              "      <th>Unnamed: 0</th>\n",
              "      <th>POS</th>\n",
              "      <th>BIB</th>\n",
              "      <th>ATHLETE</th>\n",
              "      <th>COUNTRY</th>\n",
              "      <th>MARK</th>\n",
              "      <th>RxnTime</th>\n",
              "      <th>Race</th>\n",
              "      <th>Round</th>\n",
              "      <th>Gender</th>\n",
              "      <th>Year</th>\n",
              "    </tr>\n",
              "  </thead>\n",
              "  <tbody>\n",
              "    <tr>\n",
              "      <th>2445</th>\n",
              "      <td>2445</td>\n",
              "      <td>3.0</td>\n",
              "      <td>NaN</td>\n",
              "      <td>Taiwo ALADEFA-DARDEN</td>\n",
              "      <td>NGRNGR</td>\n",
              "      <td>13.06</td>\n",
              "      <td>NaN</td>\n",
              "      <td>100 m H</td>\n",
              "      <td>Heats</td>\n",
              "      <td>F</td>\n",
              "      <td>1996</td>\n",
              "    </tr>\n",
              "    <tr>\n",
              "      <th>2446</th>\n",
              "      <td>2446</td>\n",
              "      <td>4.0</td>\n",
              "      <td>NaN</td>\n",
              "      <td>Lidiya YURKOVA</td>\n",
              "      <td>BLRBLR</td>\n",
              "      <td>13.2</td>\n",
              "      <td>NaN</td>\n",
              "      <td>100 m H</td>\n",
              "      <td>Heats</td>\n",
              "      <td>F</td>\n",
              "      <td>1996</td>\n",
              "    </tr>\n",
              "    <tr>\n",
              "      <th>2447</th>\n",
              "      <td>2447</td>\n",
              "      <td>5.0</td>\n",
              "      <td>NaN</td>\n",
              "      <td>Nadezhda BODROVA</td>\n",
              "      <td>UKRUKR</td>\n",
              "      <td>13.22</td>\n",
              "      <td>NaN</td>\n",
              "      <td>100 m H</td>\n",
              "      <td>Heats</td>\n",
              "      <td>F</td>\n",
              "      <td>1996</td>\n",
              "    </tr>\n",
              "    <tr>\n",
              "      <th>2448</th>\n",
              "      <td>2448</td>\n",
              "      <td>6.0</td>\n",
              "      <td>NaN</td>\n",
              "      <td>Rachael ROGERS</td>\n",
              "      <td>FIJFIJ</td>\n",
              "      <td>14.07</td>\n",
              "      <td>NaN</td>\n",
              "      <td>100 m H</td>\n",
              "      <td>Heats</td>\n",
              "      <td>F</td>\n",
              "      <td>1996</td>\n",
              "    </tr>\n",
              "    <tr>\n",
              "      <th>2449</th>\n",
              "      <td>2449</td>\n",
              "      <td>NaN</td>\n",
              "      <td>NaN</td>\n",
              "      <td>Elisabeta ANGHEL</td>\n",
              "      <td>ROUROU</td>\n",
              "      <td>DNF</td>\n",
              "      <td>NaN</td>\n",
              "      <td>100 m H</td>\n",
              "      <td>Heats</td>\n",
              "      <td>F</td>\n",
              "      <td>1996</td>\n",
              "    </tr>\n",
              "    <tr>\n",
              "      <th>2450</th>\n",
              "      <td>2450</td>\n",
              "      <td>1.0</td>\n",
              "      <td>NaN</td>\n",
              "      <td>Gail DEVERS</td>\n",
              "      <td>USAUSA</td>\n",
              "      <td>12.73</td>\n",
              "      <td>NaN</td>\n",
              "      <td>100 m H</td>\n",
              "      <td>Heats</td>\n",
              "      <td>F</td>\n",
              "      <td>1996</td>\n",
              "    </tr>\n",
              "    <tr>\n",
              "      <th>2451</th>\n",
              "      <td>2451</td>\n",
              "      <td>2.0</td>\n",
              "      <td>NaN</td>\n",
              "      <td>Gillian RUSSELL-LOVE</td>\n",
              "      <td>JAMJAM</td>\n",
              "      <td>12.85</td>\n",
              "      <td>NaN</td>\n",
              "      <td>100 m H</td>\n",
              "      <td>Heats</td>\n",
              "      <td>F</td>\n",
              "      <td>1996</td>\n",
              "    </tr>\n",
              "    <tr>\n",
              "      <th>2452</th>\n",
              "      <td>2452</td>\n",
              "      <td>3.0</td>\n",
              "      <td>NaN</td>\n",
              "      <td>Yuliya GRAUDYN</td>\n",
              "      <td>RUSRUS</td>\n",
              "      <td>12.95</td>\n",
              "      <td>NaN</td>\n",
              "      <td>100 m H</td>\n",
              "      <td>Heats</td>\n",
              "      <td>F</td>\n",
              "      <td>1996</td>\n",
              "    </tr>\n",
              "    <tr>\n",
              "      <th>2453</th>\n",
              "      <td>2453</td>\n",
              "      <td>4.0</td>\n",
              "      <td>NaN</td>\n",
              "      <td>Ime AKPAN</td>\n",
              "      <td>NGRNGR</td>\n",
              "      <td>13.11</td>\n",
              "      <td>NaN</td>\n",
              "      <td>100 m H</td>\n",
              "      <td>Heats</td>\n",
              "      <td>F</td>\n",
              "      <td>1996</td>\n",
              "    </tr>\n",
              "    <tr>\n",
              "      <th>2454</th>\n",
              "      <td>2454</td>\n",
              "      <td>5.0</td>\n",
              "      <td>NaN</td>\n",
              "      <td>Olena KRASOVSKA</td>\n",
              "      <td>UKRUKR</td>\n",
              "      <td>13.23</td>\n",
              "      <td>NaN</td>\n",
              "      <td>100 m H</td>\n",
              "      <td>Heats</td>\n",
              "      <td>F</td>\n",
              "      <td>1996</td>\n",
              "    </tr>\n",
              "    <tr>\n",
              "      <th>2455</th>\n",
              "      <td>2455</td>\n",
              "      <td>6.0</td>\n",
              "      <td>NaN</td>\n",
              "      <td>Véronique LINSTER</td>\n",
              "      <td>LUXLUX</td>\n",
              "      <td>13.47</td>\n",
              "      <td>NaN</td>\n",
              "      <td>100 m H</td>\n",
              "      <td>Heats</td>\n",
              "      <td>F</td>\n",
              "      <td>1996</td>\n",
              "    </tr>\n",
              "    <tr>\n",
              "      <th>2456</th>\n",
              "      <td>2456</td>\n",
              "      <td>NaN</td>\n",
              "      <td>NaN</td>\n",
              "      <td>Carla TUZZI</td>\n",
              "      <td>ITAITA</td>\n",
              "      <td>DNF</td>\n",
              "      <td>NaN</td>\n",
              "      <td>100 m H</td>\n",
              "      <td>Heats</td>\n",
              "      <td>F</td>\n",
              "      <td>1996</td>\n",
              "    </tr>\n",
              "  </tbody>\n",
              "</table>\n",
              "</div>"
            ],
            "text/plain": [
              "      Unnamed: 0  POS  BIB               ATHLETE COUNTRY   MARK  RxnTime  \\\n",
              "2445        2445  3.0  NaN  Taiwo ALADEFA-DARDEN  NGRNGR  13.06      NaN   \n",
              "2446        2446  4.0  NaN        Lidiya YURKOVA  BLRBLR   13.2      NaN   \n",
              "2447        2447  5.0  NaN      Nadezhda BODROVA  UKRUKR  13.22      NaN   \n",
              "2448        2448  6.0  NaN        Rachael ROGERS  FIJFIJ  14.07      NaN   \n",
              "2449        2449  NaN  NaN      Elisabeta ANGHEL  ROUROU    DNF      NaN   \n",
              "2450        2450  1.0  NaN           Gail DEVERS  USAUSA  12.73      NaN   \n",
              "2451        2451  2.0  NaN  Gillian RUSSELL-LOVE  JAMJAM  12.85      NaN   \n",
              "2452        2452  3.0  NaN        Yuliya GRAUDYN  RUSRUS  12.95      NaN   \n",
              "2453        2453  4.0  NaN             Ime AKPAN  NGRNGR  13.11      NaN   \n",
              "2454        2454  5.0  NaN       Olena KRASOVSKA  UKRUKR  13.23      NaN   \n",
              "2455        2455  6.0  NaN     Véronique LINSTER  LUXLUX  13.47      NaN   \n",
              "2456        2456  NaN  NaN           Carla TUZZI  ITAITA    DNF      NaN   \n",
              "\n",
              "         Race  Round Gender  Year  \n",
              "2445  100 m H  Heats      F  1996  \n",
              "2446  100 m H  Heats      F  1996  \n",
              "2447  100 m H  Heats      F  1996  \n",
              "2448  100 m H  Heats      F  1996  \n",
              "2449  100 m H  Heats      F  1996  \n",
              "2450  100 m H  Heats      F  1996  \n",
              "2451  100 m H  Heats      F  1996  \n",
              "2452  100 m H  Heats      F  1996  \n",
              "2453  100 m H  Heats      F  1996  \n",
              "2454  100 m H  Heats      F  1996  \n",
              "2455  100 m H  Heats      F  1996  \n",
              "2456  100 m H  Heats      F  1996  "
            ]
          },
          "metadata": {
            "tags": []
          },
          "execution_count": 5
        }
      ]
    },
    {
      "metadata": {
        "id": "DOhPkPgO0kGJ",
        "colab_type": "text"
      },
      "cell_type": "markdown",
      "source": [
        "3) How much data do you have?  You can find how many rows and columns you have with the `.shape` attribute.  Note the lack of parentheses here.  Attributes differ from methods in that they don't actually do anything (like print out information, or make a plot), but you can access their value to get information about your data.  The `.shape` attribute reports the number of rows and columns of the dataframe.  How many columns does the dataframe have?  "
      ]
    },
    {
      "metadata": {
        "id": "xo-TpBkk0kGK",
        "colab_type": "code",
        "outputId": "cb915314-e10a-4eca-de49-0b612f3af638",
        "colab": {
          "base_uri": "https://localhost:8080/",
          "height": 34
        }
      },
      "cell_type": "code",
      "source": [
        "# Fill in your answer to 3 here\n",
        "df.shape\n",
        "#(row,column)"
      ],
      "execution_count": 6,
      "outputs": [
        {
          "output_type": "execute_result",
          "data": {
            "text/plain": [
              "(2457, 11)"
            ]
          },
          "metadata": {
            "tags": []
          },
          "execution_count": 6
        }
      ]
    },
    {
      "metadata": {
        "id": "8YRjSQhi0kGM",
        "colab_type": "text"
      },
      "cell_type": "markdown",
      "source": [
        "4) Sometimes you only care about one column in your dataframe.  You can access it be name.  For example, `df['ATHLETE']` will access the \"ATHLETE\" column.  Access the column for reaction time. "
      ]
    },
    {
      "metadata": {
        "id": "s2tYXrr30kGN",
        "colab_type": "code",
        "outputId": "dec459c9-0afb-49ae-b8ef-7fcecd61f97b",
        "colab": {
          "base_uri": "https://localhost:8080/",
          "height": 119
        }
      },
      "cell_type": "code",
      "source": [
        "# Fill in your answer to 4 here\n",
        "df['RxnTime'].head()\n"
      ],
      "execution_count": 7,
      "outputs": [
        {
          "output_type": "execute_result",
          "data": {
            "text/plain": [
              "0    0.186\n",
              "1    0.198\n",
              "2    0.168\n",
              "3    0.157\n",
              "4    0.136\n",
              "Name: RxnTime, dtype: float64"
            ]
          },
          "metadata": {
            "tags": []
          },
          "execution_count": 7
        }
      ]
    },
    {
      "metadata": {
        "id": "-UrEB0qG0kGQ",
        "colab_type": "text"
      },
      "cell_type": "markdown",
      "source": [
        "5) Notice that the above doesn't look like a dataframe anymore.  That's because you've only accessed one column, so the two-dimensional dataset (rows x columns) is now only one-dimensional. One-dimensional data in Pandas is convered into a so-called \"Series\".  Many of the same methods that belong to dataframes also belong to a series, e.g. `.head()` or `.mean()`.  Find the median reaction time as you did in the earlier homework assignment, but operating directly on the series containing the reaction times.  "
      ]
    },
    {
      "metadata": {
        "id": "cAyi-xLK0kGQ",
        "colab_type": "code",
        "outputId": "e6235a3f-54cf-4f5e-c56e-8713929b3708",
        "colab": {
          "base_uri": "https://localhost:8080/",
          "height": 34
        }
      },
      "cell_type": "code",
      "source": [
        "# Fill in your answer to 5 here\n",
        "df['RxnTime'].median()"
      ],
      "execution_count": 8,
      "outputs": [
        {
          "output_type": "execute_result",
          "data": {
            "text/plain": [
              "0.165"
            ]
          },
          "metadata": {
            "tags": []
          },
          "execution_count": 8
        }
      ]
    },
    {
      "metadata": {
        "id": "JQ2C5tTW0kGS",
        "colab_type": "text"
      },
      "cell_type": "markdown",
      "source": [
        "6) Sometimes you want to keep a dataframe, but just with fewer columns.  For example, only the name and reaction time.  You do this with an extra set of brackets, i.e. `df[['col1','col2']]` if you wanted to access hypothetical columns named 'col1' and 'col2'.  Try generating a dataframe that has only the name and reaction time columns from the original dataset.  "
      ]
    },
    {
      "metadata": {
        "id": "fA_iX57O0kGT",
        "colab_type": "code",
        "outputId": "59f59f11-6267-486d-c358-b07d3e332c9d",
        "colab": {
          "base_uri": "https://localhost:8080/",
          "height": 204
        }
      },
      "cell_type": "code",
      "source": [
        "# Fill in your answer to 6 here\n",
        "df[['ATHLETE','RxnTime']].head(5)"
      ],
      "execution_count": 9,
      "outputs": [
        {
          "output_type": "execute_result",
          "data": {
            "text/html": [
              "<div>\n",
              "<style scoped>\n",
              "    .dataframe tbody tr th:only-of-type {\n",
              "        vertical-align: middle;\n",
              "    }\n",
              "\n",
              "    .dataframe tbody tr th {\n",
              "        vertical-align: top;\n",
              "    }\n",
              "\n",
              "    .dataframe thead th {\n",
              "        text-align: right;\n",
              "    }\n",
              "</style>\n",
              "<table border=\"1\" class=\"dataframe\">\n",
              "  <thead>\n",
              "    <tr style=\"text-align: right;\">\n",
              "      <th></th>\n",
              "      <th>ATHLETE</th>\n",
              "      <th>RxnTime</th>\n",
              "    </tr>\n",
              "  </thead>\n",
              "  <tbody>\n",
              "    <tr>\n",
              "      <th>0</th>\n",
              "      <td>Usain BOLT</td>\n",
              "      <td>0.186</td>\n",
              "    </tr>\n",
              "    <tr>\n",
              "      <th>1</th>\n",
              "      <td>Daniel BAILEY</td>\n",
              "      <td>0.198</td>\n",
              "    </tr>\n",
              "    <tr>\n",
              "      <th>2</th>\n",
              "      <td>Vicente DE LIMA</td>\n",
              "      <td>0.168</td>\n",
              "    </tr>\n",
              "    <tr>\n",
              "      <th>3</th>\n",
              "      <td>Henry VIZCAÍNO</td>\n",
              "      <td>0.157</td>\n",
              "    </tr>\n",
              "    <tr>\n",
              "      <th>4</th>\n",
              "      <td>Fabio CERUTTI</td>\n",
              "      <td>0.136</td>\n",
              "    </tr>\n",
              "  </tbody>\n",
              "</table>\n",
              "</div>"
            ],
            "text/plain": [
              "           ATHLETE  RxnTime\n",
              "0       Usain BOLT    0.186\n",
              "1    Daniel BAILEY    0.198\n",
              "2  Vicente DE LIMA    0.168\n",
              "3   Henry VIZCAÍNO    0.157\n",
              "4    Fabio CERUTTI    0.136"
            ]
          },
          "metadata": {
            "tags": []
          },
          "execution_count": 9
        }
      ]
    },
    {
      "metadata": {
        "id": "qftVtAX20kGV",
        "colab_type": "text"
      },
      "cell_type": "markdown",
      "source": [
        "7) Columns have names ('ATHLETE', 'COUNTRY', etc.), but so do rows.  The row names are part of the so-called \"index\" of the dataframe (or series), and allow you to access data more intuitively than just by row number.  In this case though, the names in the index are the row numbers.  You can extract row 144 with `df.loc[144]`.  Note the use of the `.loc` attribute, and the brackets instead of parentheses.  Use this extract the row containing Usain Bolt's 2008 preliminary heats data (hint, it is at the beginning of the dataframe)."
      ]
    },
    {
      "metadata": {
        "id": "WYYRNvsS0kGW",
        "colab_type": "code",
        "outputId": "1d3365df-217f-48fa-aa43-9a6a0222429d",
        "colab": {
          "base_uri": "https://localhost:8080/",
          "height": 221
        }
      },
      "cell_type": "code",
      "source": [
        "# Fill in your answer to 7 here\n",
        "df.loc[0]"
      ],
      "execution_count": 10,
      "outputs": [
        {
          "output_type": "execute_result",
          "data": {
            "text/plain": [
              "Unnamed: 0             0\n",
              "POS                    1\n",
              "BIB                  NaN\n",
              "ATHLETE       Usain BOLT\n",
              "COUNTRY           JAMJAM\n",
              "MARK             10.20 Q\n",
              "RxnTime            0.186\n",
              "Race               100 m\n",
              "Round              Heats\n",
              "Gender                 M\n",
              "Year                2008\n",
              "Name: 0, dtype: object"
            ]
          },
          "metadata": {
            "tags": []
          },
          "execution_count": 10
        }
      ]
    },
    {
      "metadata": {
        "id": "pwW3KpEF0kGY",
        "colab_type": "text"
      },
      "cell_type": "markdown",
      "source": [
        "8) You can access specific cells of the dataframe by row and column using `.loc`, e.g. `df.loc[7,'Country']`.  You can also edit data the same way.  Maybe Usain Bolt's preliminary heats time was faster than reported, say 9.5 seconds?  Edit the dataframe with `.loc` to make that change.  Be sure to use the `=` sign or you won't actually make the change!"
      ]
    },
    {
      "metadata": {
        "id": "m4vDkGQh0kGZ",
        "colab_type": "code",
        "outputId": "f8853344-8924-4477-84c9-8fa9c7023ea6",
        "colab": {
          "base_uri": "https://localhost:8080/",
          "height": 221
        }
      },
      "cell_type": "code",
      "source": [
        "# Fill in your answer to 8 here\n",
        "df.loc[0,'MARK']=9.5\n",
        "df.loc[0]"
      ],
      "execution_count": 11,
      "outputs": [
        {
          "output_type": "execute_result",
          "data": {
            "text/plain": [
              "Unnamed: 0             0\n",
              "POS                    1\n",
              "BIB                  NaN\n",
              "ATHLETE       Usain BOLT\n",
              "COUNTRY           JAMJAM\n",
              "MARK                 9.5\n",
              "RxnTime            0.186\n",
              "Race               100 m\n",
              "Round              Heats\n",
              "Gender                 M\n",
              "Year                2008\n",
              "Name: 0, dtype: object"
            ]
          },
          "metadata": {
            "tags": []
          },
          "execution_count": 11
        }
      ]
    },
    {
      "metadata": {
        "id": "rtxkhLqD0kGb",
        "colab_type": "text"
      },
      "cell_type": "markdown",
      "source": [
        "9) I don't like the way this data is organized.  Accessing it by arbitrary row numbers is not intuitive at all.  Let's organize the data by athlete name and year instead, using the `set_index()` method.  Inside the parentheses, put a list containing the column name indicating athlete name and the column name indicating the year.  Don't forget quotes and brackets!  "
      ]
    },
    {
      "metadata": {
        "id": "B0PLI9EX0kGc",
        "colab_type": "code",
        "outputId": "c2be7ef5-a083-4a6f-e966-90f2141cc992",
        "colab": {
          "base_uri": "https://localhost:8080/",
          "height": 235
        }
      },
      "cell_type": "code",
      "source": [
        "# Fill in your answer to 9 here\n",
        "df.set_index(['ATHLETE','Year']).head()\n"
      ],
      "execution_count": 12,
      "outputs": [
        {
          "output_type": "execute_result",
          "data": {
            "text/html": [
              "<div>\n",
              "<style scoped>\n",
              "    .dataframe tbody tr th:only-of-type {\n",
              "        vertical-align: middle;\n",
              "    }\n",
              "\n",
              "    .dataframe tbody tr th {\n",
              "        vertical-align: top;\n",
              "    }\n",
              "\n",
              "    .dataframe thead th {\n",
              "        text-align: right;\n",
              "    }\n",
              "</style>\n",
              "<table border=\"1\" class=\"dataframe\">\n",
              "  <thead>\n",
              "    <tr style=\"text-align: right;\">\n",
              "      <th></th>\n",
              "      <th></th>\n",
              "      <th>Unnamed: 0</th>\n",
              "      <th>POS</th>\n",
              "      <th>BIB</th>\n",
              "      <th>COUNTRY</th>\n",
              "      <th>MARK</th>\n",
              "      <th>RxnTime</th>\n",
              "      <th>Race</th>\n",
              "      <th>Round</th>\n",
              "      <th>Gender</th>\n",
              "    </tr>\n",
              "    <tr>\n",
              "      <th>ATHLETE</th>\n",
              "      <th>Year</th>\n",
              "      <th></th>\n",
              "      <th></th>\n",
              "      <th></th>\n",
              "      <th></th>\n",
              "      <th></th>\n",
              "      <th></th>\n",
              "      <th></th>\n",
              "      <th></th>\n",
              "      <th></th>\n",
              "    </tr>\n",
              "  </thead>\n",
              "  <tbody>\n",
              "    <tr>\n",
              "      <th>Usain BOLT</th>\n",
              "      <th>2008</th>\n",
              "      <td>0</td>\n",
              "      <td>1.0</td>\n",
              "      <td>NaN</td>\n",
              "      <td>JAMJAM</td>\n",
              "      <td>9.5</td>\n",
              "      <td>0.186</td>\n",
              "      <td>100 m</td>\n",
              "      <td>Heats</td>\n",
              "      <td>M</td>\n",
              "    </tr>\n",
              "    <tr>\n",
              "      <th>Daniel BAILEY</th>\n",
              "      <th>2008</th>\n",
              "      <td>1</td>\n",
              "      <td>2.0</td>\n",
              "      <td>NaN</td>\n",
              "      <td>ANTANT</td>\n",
              "      <td>10.24 Q</td>\n",
              "      <td>0.198</td>\n",
              "      <td>100 m</td>\n",
              "      <td>Heats</td>\n",
              "      <td>M</td>\n",
              "    </tr>\n",
              "    <tr>\n",
              "      <th>Vicente DE LIMA</th>\n",
              "      <th>2008</th>\n",
              "      <td>2</td>\n",
              "      <td>3.0</td>\n",
              "      <td>NaN</td>\n",
              "      <td>BRABRA</td>\n",
              "      <td>10.26 Q</td>\n",
              "      <td>0.168</td>\n",
              "      <td>100 m</td>\n",
              "      <td>Heats</td>\n",
              "      <td>M</td>\n",
              "    </tr>\n",
              "    <tr>\n",
              "      <th>Henry VIZCAÍNO</th>\n",
              "      <th>2008</th>\n",
              "      <td>3</td>\n",
              "      <td>4.0</td>\n",
              "      <td>NaN</td>\n",
              "      <td>CUBCUB</td>\n",
              "      <td>10.28 q</td>\n",
              "      <td>0.157</td>\n",
              "      <td>100 m</td>\n",
              "      <td>Heats</td>\n",
              "      <td>M</td>\n",
              "    </tr>\n",
              "    <tr>\n",
              "      <th>Fabio CERUTTI</th>\n",
              "      <th>2008</th>\n",
              "      <td>4</td>\n",
              "      <td>5.0</td>\n",
              "      <td>NaN</td>\n",
              "      <td>ITAITA</td>\n",
              "      <td>10.49</td>\n",
              "      <td>0.136</td>\n",
              "      <td>100 m</td>\n",
              "      <td>Heats</td>\n",
              "      <td>M</td>\n",
              "    </tr>\n",
              "  </tbody>\n",
              "</table>\n",
              "</div>"
            ],
            "text/plain": [
              "                      Unnamed: 0  POS  BIB COUNTRY     MARK  RxnTime   Race  \\\n",
              "ATHLETE         Year                                                          \n",
              "Usain BOLT      2008           0  1.0  NaN  JAMJAM      9.5    0.186  100 m   \n",
              "Daniel BAILEY   2008           1  2.0  NaN  ANTANT  10.24 Q    0.198  100 m   \n",
              "Vicente DE LIMA 2008           2  3.0  NaN  BRABRA  10.26 Q    0.168  100 m   \n",
              "Henry VIZCAÍNO  2008           3  4.0  NaN  CUBCUB  10.28 q    0.157  100 m   \n",
              "Fabio CERUTTI   2008           4  5.0  NaN  ITAITA    10.49    0.136  100 m   \n",
              "\n",
              "                      Round Gender  \n",
              "ATHLETE         Year                \n",
              "Usain BOLT      2008  Heats      M  \n",
              "Daniel BAILEY   2008  Heats      M  \n",
              "Vicente DE LIMA 2008  Heats      M  \n",
              "Henry VIZCAÍNO  2008  Heats      M  \n",
              "Fabio CERUTTI   2008  Heats      M  "
            ]
          },
          "metadata": {
            "tags": []
          },
          "execution_count": 12
        }
      ]
    },
    {
      "metadata": {
        "id": "w9m2SWSI0kGe",
        "colab_type": "text"
      },
      "cell_type": "markdown",
      "source": [
        "10) That's OK, but it doesn't look much nicer.  Maybe if it the index was sorted?  If you've ever done a hierarchical sort in Excel, this will be similar.  Try the same command as above, but append `.sort_index()`  to it"
      ]
    },
    {
      "metadata": {
        "id": "mu2XztTo0kGf",
        "colab_type": "code",
        "outputId": "037ff032-231b-46c9-ac6f-6fbcd69a387b",
        "colab": {
          "base_uri": "https://localhost:8080/",
          "height": 235
        }
      },
      "cell_type": "code",
      "source": [
        "# Fill in your answer to 10 here\n",
        "df.set_index(['ATHLETE','Year']).sort_index().head()"
      ],
      "execution_count": 13,
      "outputs": [
        {
          "output_type": "execute_result",
          "data": {
            "text/html": [
              "<div>\n",
              "<style scoped>\n",
              "    .dataframe tbody tr th:only-of-type {\n",
              "        vertical-align: middle;\n",
              "    }\n",
              "\n",
              "    .dataframe tbody tr th {\n",
              "        vertical-align: top;\n",
              "    }\n",
              "\n",
              "    .dataframe thead th {\n",
              "        text-align: right;\n",
              "    }\n",
              "</style>\n",
              "<table border=\"1\" class=\"dataframe\">\n",
              "  <thead>\n",
              "    <tr style=\"text-align: right;\">\n",
              "      <th></th>\n",
              "      <th></th>\n",
              "      <th>Unnamed: 0</th>\n",
              "      <th>POS</th>\n",
              "      <th>BIB</th>\n",
              "      <th>COUNTRY</th>\n",
              "      <th>MARK</th>\n",
              "      <th>RxnTime</th>\n",
              "      <th>Race</th>\n",
              "      <th>Round</th>\n",
              "      <th>Gender</th>\n",
              "    </tr>\n",
              "    <tr>\n",
              "      <th>ATHLETE</th>\n",
              "      <th>Year</th>\n",
              "      <th></th>\n",
              "      <th></th>\n",
              "      <th></th>\n",
              "      <th></th>\n",
              "      <th></th>\n",
              "      <th></th>\n",
              "      <th></th>\n",
              "      <th></th>\n",
              "      <th></th>\n",
              "    </tr>\n",
              "  </thead>\n",
              "  <tbody>\n",
              "    <tr>\n",
              "      <th>Aaron BROWN</th>\n",
              "      <th>2016</th>\n",
              "      <td>1147</td>\n",
              "      <td>3.0</td>\n",
              "      <td>2192.0</td>\n",
              "      <td>CANCAN</td>\n",
              "      <td>10.24</td>\n",
              "      <td>0.135</td>\n",
              "      <td>100 m</td>\n",
              "      <td>Heats</td>\n",
              "      <td>M</td>\n",
              "    </tr>\n",
              "    <tr>\n",
              "      <th>Abdul GHAFOOR</th>\n",
              "      <th>1996</th>\n",
              "      <td>2257</td>\n",
              "      <td>8.0</td>\n",
              "      <td>NaN</td>\n",
              "      <td>AFGAFG</td>\n",
              "      <td>12.2</td>\n",
              "      <td>NaN</td>\n",
              "      <td>100 m</td>\n",
              "      <td>Heats</td>\n",
              "      <td>M</td>\n",
              "    </tr>\n",
              "    <tr>\n",
              "      <th>Abdul RASHID</th>\n",
              "      <th>2008</th>\n",
              "      <td>378</td>\n",
              "      <td>8.0</td>\n",
              "      <td>NaN</td>\n",
              "      <td>PAKPAK</td>\n",
              "      <td>14.52</td>\n",
              "      <td>0.172</td>\n",
              "      <td>110 m H</td>\n",
              "      <td>Heats</td>\n",
              "      <td>M</td>\n",
              "    </tr>\n",
              "    <tr>\n",
              "      <th>Abdul Wahab ZAHIRI</th>\n",
              "      <th>2016</th>\n",
              "      <td>1068</td>\n",
              "      <td>7.0</td>\n",
              "      <td>2000.0</td>\n",
              "      <td>AFGAFG</td>\n",
              "      <td>11.56</td>\n",
              "      <td>0.170</td>\n",
              "      <td>100 m</td>\n",
              "      <td>Preliminary</td>\n",
              "      <td>M</td>\n",
              "    </tr>\n",
              "    <tr>\n",
              "      <th>Abdullah AL-SOOLI</th>\n",
              "      <th>2008</th>\n",
              "      <td>44</td>\n",
              "      <td>5.0</td>\n",
              "      <td>NaN</td>\n",
              "      <td>OMAOMA</td>\n",
              "      <td>10.53</td>\n",
              "      <td>0.153</td>\n",
              "      <td>100 m</td>\n",
              "      <td>Heats</td>\n",
              "      <td>M</td>\n",
              "    </tr>\n",
              "  </tbody>\n",
              "</table>\n",
              "</div>"
            ],
            "text/plain": [
              "                         Unnamed: 0  POS     BIB COUNTRY   MARK  RxnTime  \\\n",
              "ATHLETE            Year                                                    \n",
              "Aaron BROWN        2016        1147  3.0  2192.0  CANCAN  10.24    0.135   \n",
              "Abdul GHAFOOR      1996        2257  8.0     NaN  AFGAFG   12.2      NaN   \n",
              "Abdul RASHID       2008         378  8.0     NaN  PAKPAK  14.52    0.172   \n",
              "Abdul Wahab ZAHIRI 2016        1068  7.0  2000.0  AFGAFG  11.56    0.170   \n",
              "Abdullah AL-SOOLI  2008          44  5.0     NaN  OMAOMA  10.53    0.153   \n",
              "\n",
              "                            Race        Round Gender  \n",
              "ATHLETE            Year                               \n",
              "Aaron BROWN        2016    100 m        Heats      M  \n",
              "Abdul GHAFOOR      1996    100 m        Heats      M  \n",
              "Abdul RASHID       2008  110 m H        Heats      M  \n",
              "Abdul Wahab ZAHIRI 2016    100 m  Preliminary      M  \n",
              "Abdullah AL-SOOLI  2008    100 m        Heats      M  "
            ]
          },
          "metadata": {
            "tags": []
          },
          "execution_count": 13
        }
      ]
    },
    {
      "metadata": {
        "id": "sWBiQfT50kGh",
        "colab_type": "text"
      },
      "cell_type": "markdown",
      "source": [
        "11) Display the dataframe again by entering `df` on an empty line (e.g. in the code cell below, or create a new code cell).  Does it reflect the changes you made above?  If not, it's because `.set_index()`, `.sort_index()` (and most other methods) only return modified copies of your data; they don't overwrite it.  If you want to work with that modified copy, set the original dataframe equal to it, i.e. `df = ...` where `...` would contain the command you used above.  "
      ]
    },
    {
      "metadata": {
        "id": "HRV6BVXi0kGj",
        "colab_type": "code",
        "outputId": "45a594d2-57b2-413b-dfa0-c8354f1192d8",
        "colab": {
          "base_uri": "https://localhost:8080/",
          "height": 235
        }
      },
      "cell_type": "code",
      "source": [
        "# Fill in your answer to 11 here\n",
        "df=df.set_index(['ATHLETE','Year']).sort_index()\n",
        "df.head()"
      ],
      "execution_count": 14,
      "outputs": [
        {
          "output_type": "execute_result",
          "data": {
            "text/html": [
              "<div>\n",
              "<style scoped>\n",
              "    .dataframe tbody tr th:only-of-type {\n",
              "        vertical-align: middle;\n",
              "    }\n",
              "\n",
              "    .dataframe tbody tr th {\n",
              "        vertical-align: top;\n",
              "    }\n",
              "\n",
              "    .dataframe thead th {\n",
              "        text-align: right;\n",
              "    }\n",
              "</style>\n",
              "<table border=\"1\" class=\"dataframe\">\n",
              "  <thead>\n",
              "    <tr style=\"text-align: right;\">\n",
              "      <th></th>\n",
              "      <th></th>\n",
              "      <th>Unnamed: 0</th>\n",
              "      <th>POS</th>\n",
              "      <th>BIB</th>\n",
              "      <th>COUNTRY</th>\n",
              "      <th>MARK</th>\n",
              "      <th>RxnTime</th>\n",
              "      <th>Race</th>\n",
              "      <th>Round</th>\n",
              "      <th>Gender</th>\n",
              "    </tr>\n",
              "    <tr>\n",
              "      <th>ATHLETE</th>\n",
              "      <th>Year</th>\n",
              "      <th></th>\n",
              "      <th></th>\n",
              "      <th></th>\n",
              "      <th></th>\n",
              "      <th></th>\n",
              "      <th></th>\n",
              "      <th></th>\n",
              "      <th></th>\n",
              "      <th></th>\n",
              "    </tr>\n",
              "  </thead>\n",
              "  <tbody>\n",
              "    <tr>\n",
              "      <th>Aaron BROWN</th>\n",
              "      <th>2016</th>\n",
              "      <td>1147</td>\n",
              "      <td>3.0</td>\n",
              "      <td>2192.0</td>\n",
              "      <td>CANCAN</td>\n",
              "      <td>10.24</td>\n",
              "      <td>0.135</td>\n",
              "      <td>100 m</td>\n",
              "      <td>Heats</td>\n",
              "      <td>M</td>\n",
              "    </tr>\n",
              "    <tr>\n",
              "      <th>Abdul GHAFOOR</th>\n",
              "      <th>1996</th>\n",
              "      <td>2257</td>\n",
              "      <td>8.0</td>\n",
              "      <td>NaN</td>\n",
              "      <td>AFGAFG</td>\n",
              "      <td>12.2</td>\n",
              "      <td>NaN</td>\n",
              "      <td>100 m</td>\n",
              "      <td>Heats</td>\n",
              "      <td>M</td>\n",
              "    </tr>\n",
              "    <tr>\n",
              "      <th>Abdul RASHID</th>\n",
              "      <th>2008</th>\n",
              "      <td>378</td>\n",
              "      <td>8.0</td>\n",
              "      <td>NaN</td>\n",
              "      <td>PAKPAK</td>\n",
              "      <td>14.52</td>\n",
              "      <td>0.172</td>\n",
              "      <td>110 m H</td>\n",
              "      <td>Heats</td>\n",
              "      <td>M</td>\n",
              "    </tr>\n",
              "    <tr>\n",
              "      <th>Abdul Wahab ZAHIRI</th>\n",
              "      <th>2016</th>\n",
              "      <td>1068</td>\n",
              "      <td>7.0</td>\n",
              "      <td>2000.0</td>\n",
              "      <td>AFGAFG</td>\n",
              "      <td>11.56</td>\n",
              "      <td>0.170</td>\n",
              "      <td>100 m</td>\n",
              "      <td>Preliminary</td>\n",
              "      <td>M</td>\n",
              "    </tr>\n",
              "    <tr>\n",
              "      <th>Abdullah AL-SOOLI</th>\n",
              "      <th>2008</th>\n",
              "      <td>44</td>\n",
              "      <td>5.0</td>\n",
              "      <td>NaN</td>\n",
              "      <td>OMAOMA</td>\n",
              "      <td>10.53</td>\n",
              "      <td>0.153</td>\n",
              "      <td>100 m</td>\n",
              "      <td>Heats</td>\n",
              "      <td>M</td>\n",
              "    </tr>\n",
              "  </tbody>\n",
              "</table>\n",
              "</div>"
            ],
            "text/plain": [
              "                         Unnamed: 0  POS     BIB COUNTRY   MARK  RxnTime  \\\n",
              "ATHLETE            Year                                                    \n",
              "Aaron BROWN        2016        1147  3.0  2192.0  CANCAN  10.24    0.135   \n",
              "Abdul GHAFOOR      1996        2257  8.0     NaN  AFGAFG   12.2      NaN   \n",
              "Abdul RASHID       2008         378  8.0     NaN  PAKPAK  14.52    0.172   \n",
              "Abdul Wahab ZAHIRI 2016        1068  7.0  2000.0  AFGAFG  11.56    0.170   \n",
              "Abdullah AL-SOOLI  2008          44  5.0     NaN  OMAOMA  10.53    0.153   \n",
              "\n",
              "                            Race        Round Gender  \n",
              "ATHLETE            Year                               \n",
              "Aaron BROWN        2016    100 m        Heats      M  \n",
              "Abdul GHAFOOR      1996    100 m        Heats      M  \n",
              "Abdul RASHID       2008  110 m H        Heats      M  \n",
              "Abdul Wahab ZAHIRI 2016    100 m  Preliminary      M  \n",
              "Abdullah AL-SOOLI  2008    100 m        Heats      M  "
            ]
          },
          "metadata": {
            "tags": []
          },
          "execution_count": 14
        }
      ]
    },
    {
      "metadata": {
        "id": "qJJ5Iki40kGn",
        "colab_type": "text"
      },
      "cell_type": "markdown",
      "source": [
        "Now that `df` has been changed, some of the commands in the earlier questions won't work the same.  So you won't be able to access e.g. `df.loc[7]` anymore, because there is no longer a row named 7!  This is why you should always execute notebooks from top to bottom.  Each notebook cell can change the data in a way that a cell above it doesn't know about.  "
      ]
    },
    {
      "metadata": {
        "id": "g5ZBuFUb0kGn",
        "colab_type": "text"
      },
      "cell_type": "markdown",
      "source": [
        "12) But now we have an intuitive index for the data frame.  Instead of accessing something like `df.loc[7]` we can access by name and year (using the same `.loc` attribute).  First just try accessing Usain Bolt's data by name (note that his last name is all capital letters in this dataset).  Note that it will contain results from several races across several years.  "
      ]
    },
    {
      "metadata": {
        "id": "CDql993s0kGo",
        "colab_type": "code",
        "outputId": "19f860a0-b6bc-47e3-a5c2-319a71d3cde0",
        "colab": {
          "base_uri": "https://localhost:8080/",
          "height": 390
        }
      },
      "cell_type": "code",
      "source": [
        "# Fill in your answer to 12 here\n",
        "df.loc['Usain BOLT']"
      ],
      "execution_count": 15,
      "outputs": [
        {
          "output_type": "execute_result",
          "data": {
            "text/html": [
              "<div>\n",
              "<style scoped>\n",
              "    .dataframe tbody tr th:only-of-type {\n",
              "        vertical-align: middle;\n",
              "    }\n",
              "\n",
              "    .dataframe tbody tr th {\n",
              "        vertical-align: top;\n",
              "    }\n",
              "\n",
              "    .dataframe thead th {\n",
              "        text-align: right;\n",
              "    }\n",
              "</style>\n",
              "<table border=\"1\" class=\"dataframe\">\n",
              "  <thead>\n",
              "    <tr style=\"text-align: right;\">\n",
              "      <th></th>\n",
              "      <th>Unnamed: 0</th>\n",
              "      <th>POS</th>\n",
              "      <th>BIB</th>\n",
              "      <th>COUNTRY</th>\n",
              "      <th>MARK</th>\n",
              "      <th>RxnTime</th>\n",
              "      <th>Race</th>\n",
              "      <th>Round</th>\n",
              "      <th>Gender</th>\n",
              "    </tr>\n",
              "    <tr>\n",
              "      <th>Year</th>\n",
              "      <th></th>\n",
              "      <th></th>\n",
              "      <th></th>\n",
              "      <th></th>\n",
              "      <th></th>\n",
              "      <th></th>\n",
              "      <th></th>\n",
              "      <th></th>\n",
              "      <th></th>\n",
              "    </tr>\n",
              "  </thead>\n",
              "  <tbody>\n",
              "    <tr>\n",
              "      <th>2008</th>\n",
              "      <td>0</td>\n",
              "      <td>1.0</td>\n",
              "      <td>NaN</td>\n",
              "      <td>JAMJAM</td>\n",
              "      <td>9.5</td>\n",
              "      <td>0.186</td>\n",
              "      <td>100 m</td>\n",
              "      <td>Heats</td>\n",
              "      <td>M</td>\n",
              "    </tr>\n",
              "    <tr>\n",
              "      <th>2008</th>\n",
              "      <td>104</td>\n",
              "      <td>1.0</td>\n",
              "      <td>NaN</td>\n",
              "      <td>JAMJAM</td>\n",
              "      <td>9.92 Q</td>\n",
              "      <td>0.165</td>\n",
              "      <td>100 m</td>\n",
              "      <td>Quarter</td>\n",
              "      <td>M</td>\n",
              "    </tr>\n",
              "    <tr>\n",
              "      <th>2008</th>\n",
              "      <td>120</td>\n",
              "      <td>1.0</td>\n",
              "      <td>NaN</td>\n",
              "      <td>JAMJAM</td>\n",
              "      <td>9.85 Q</td>\n",
              "      <td>0.161</td>\n",
              "      <td>100 m</td>\n",
              "      <td>Semi</td>\n",
              "      <td>M</td>\n",
              "    </tr>\n",
              "    <tr>\n",
              "      <th>2008</th>\n",
              "      <td>136</td>\n",
              "      <td>1.0</td>\n",
              "      <td>NaN</td>\n",
              "      <td>JAMJAM</td>\n",
              "      <td>9.69</td>\n",
              "      <td>0.165</td>\n",
              "      <td>100 m</td>\n",
              "      <td>Final</td>\n",
              "      <td>M</td>\n",
              "    </tr>\n",
              "    <tr>\n",
              "      <th>2012</th>\n",
              "      <td>630</td>\n",
              "      <td>1.0</td>\n",
              "      <td>2170.0</td>\n",
              "      <td>JAMJAM</td>\n",
              "      <td>10.09 Q</td>\n",
              "      <td>0.178</td>\n",
              "      <td>100 m</td>\n",
              "      <td>Heats</td>\n",
              "      <td>M</td>\n",
              "    </tr>\n",
              "    <tr>\n",
              "      <th>2012</th>\n",
              "      <td>670</td>\n",
              "      <td>1.0</td>\n",
              "      <td>2170.0</td>\n",
              "      <td>JAMJAM</td>\n",
              "      <td>9.87 Q</td>\n",
              "      <td>0.180</td>\n",
              "      <td>100 m</td>\n",
              "      <td>Semi</td>\n",
              "      <td>M</td>\n",
              "    </tr>\n",
              "    <tr>\n",
              "      <th>2012</th>\n",
              "      <td>686</td>\n",
              "      <td>1.0</td>\n",
              "      <td>2170.0</td>\n",
              "      <td>JAMJAM</td>\n",
              "      <td>9.63</td>\n",
              "      <td>0.165</td>\n",
              "      <td>100 m</td>\n",
              "      <td>Final</td>\n",
              "      <td>M</td>\n",
              "    </tr>\n",
              "    <tr>\n",
              "      <th>2016</th>\n",
              "      <td>1136</td>\n",
              "      <td>1.0</td>\n",
              "      <td>2612.0</td>\n",
              "      <td>JAMJAM</td>\n",
              "      <td>10.07 Q</td>\n",
              "      <td>0.156</td>\n",
              "      <td>100 m</td>\n",
              "      <td>Heats</td>\n",
              "      <td>M</td>\n",
              "    </tr>\n",
              "    <tr>\n",
              "      <th>2016</th>\n",
              "      <td>1162</td>\n",
              "      <td>1.0</td>\n",
              "      <td>2612.0</td>\n",
              "      <td>JAMJAM</td>\n",
              "      <td>9.86 Q</td>\n",
              "      <td>0.143</td>\n",
              "      <td>100 m</td>\n",
              "      <td>Semi</td>\n",
              "      <td>M</td>\n",
              "    </tr>\n",
              "    <tr>\n",
              "      <th>2016</th>\n",
              "      <td>1178</td>\n",
              "      <td>1.0</td>\n",
              "      <td>2612.0</td>\n",
              "      <td>JAMJAM</td>\n",
              "      <td>9.81</td>\n",
              "      <td>0.155</td>\n",
              "      <td>100 m</td>\n",
              "      <td>Final</td>\n",
              "      <td>M</td>\n",
              "    </tr>\n",
              "  </tbody>\n",
              "</table>\n",
              "</div>"
            ],
            "text/plain": [
              "      Unnamed: 0  POS     BIB COUNTRY     MARK  RxnTime   Race    Round Gender\n",
              "Year                                                                          \n",
              "2008           0  1.0     NaN  JAMJAM      9.5    0.186  100 m    Heats      M\n",
              "2008         104  1.0     NaN  JAMJAM   9.92 Q    0.165  100 m  Quarter      M\n",
              "2008         120  1.0     NaN  JAMJAM   9.85 Q    0.161  100 m     Semi      M\n",
              "2008         136  1.0     NaN  JAMJAM     9.69    0.165  100 m    Final      M\n",
              "2012         630  1.0  2170.0  JAMJAM  10.09 Q    0.178  100 m    Heats      M\n",
              "2012         670  1.0  2170.0  JAMJAM   9.87 Q    0.180  100 m     Semi      M\n",
              "2012         686  1.0  2170.0  JAMJAM     9.63    0.165  100 m    Final      M\n",
              "2016        1136  1.0  2612.0  JAMJAM  10.07 Q    0.156  100 m    Heats      M\n",
              "2016        1162  1.0  2612.0  JAMJAM   9.86 Q    0.143  100 m     Semi      M\n",
              "2016        1178  1.0  2612.0  JAMJAM     9.81    0.155  100 m    Final      M"
            ]
          },
          "metadata": {
            "tags": []
          },
          "execution_count": 15
        }
      ]
    },
    {
      "metadata": {
        "id": "VT9p5xH90kGp",
        "colab_type": "text"
      },
      "cell_type": "markdown",
      "source": [
        "13) You can further restrict the data to a single year by using the `.loc` attribute again (\"chaining\" operations together), and now including a specific year.  Access Usain Bolt's data for 2008.  Hint: it will look just like the answer above, but with an extra `.loc` appended on.  "
      ]
    },
    {
      "metadata": {
        "id": "wLA8z00H0kGq",
        "colab_type": "code",
        "outputId": "c72cc0bf-953e-4da7-de8a-585a91e85126",
        "colab": {
          "base_uri": "https://localhost:8080/",
          "height": 204
        }
      },
      "cell_type": "code",
      "source": [
        "# Fill in your answer to 13 here\n",
        "df.loc['Usain BOLT'].loc[2008]"
      ],
      "execution_count": 16,
      "outputs": [
        {
          "output_type": "execute_result",
          "data": {
            "text/html": [
              "<div>\n",
              "<style scoped>\n",
              "    .dataframe tbody tr th:only-of-type {\n",
              "        vertical-align: middle;\n",
              "    }\n",
              "\n",
              "    .dataframe tbody tr th {\n",
              "        vertical-align: top;\n",
              "    }\n",
              "\n",
              "    .dataframe thead th {\n",
              "        text-align: right;\n",
              "    }\n",
              "</style>\n",
              "<table border=\"1\" class=\"dataframe\">\n",
              "  <thead>\n",
              "    <tr style=\"text-align: right;\">\n",
              "      <th></th>\n",
              "      <th>Unnamed: 0</th>\n",
              "      <th>POS</th>\n",
              "      <th>BIB</th>\n",
              "      <th>COUNTRY</th>\n",
              "      <th>MARK</th>\n",
              "      <th>RxnTime</th>\n",
              "      <th>Race</th>\n",
              "      <th>Round</th>\n",
              "      <th>Gender</th>\n",
              "    </tr>\n",
              "    <tr>\n",
              "      <th>Year</th>\n",
              "      <th></th>\n",
              "      <th></th>\n",
              "      <th></th>\n",
              "      <th></th>\n",
              "      <th></th>\n",
              "      <th></th>\n",
              "      <th></th>\n",
              "      <th></th>\n",
              "      <th></th>\n",
              "    </tr>\n",
              "  </thead>\n",
              "  <tbody>\n",
              "    <tr>\n",
              "      <th>2008</th>\n",
              "      <td>0</td>\n",
              "      <td>1.0</td>\n",
              "      <td>NaN</td>\n",
              "      <td>JAMJAM</td>\n",
              "      <td>9.5</td>\n",
              "      <td>0.186</td>\n",
              "      <td>100 m</td>\n",
              "      <td>Heats</td>\n",
              "      <td>M</td>\n",
              "    </tr>\n",
              "    <tr>\n",
              "      <th>2008</th>\n",
              "      <td>104</td>\n",
              "      <td>1.0</td>\n",
              "      <td>NaN</td>\n",
              "      <td>JAMJAM</td>\n",
              "      <td>9.92 Q</td>\n",
              "      <td>0.165</td>\n",
              "      <td>100 m</td>\n",
              "      <td>Quarter</td>\n",
              "      <td>M</td>\n",
              "    </tr>\n",
              "    <tr>\n",
              "      <th>2008</th>\n",
              "      <td>120</td>\n",
              "      <td>1.0</td>\n",
              "      <td>NaN</td>\n",
              "      <td>JAMJAM</td>\n",
              "      <td>9.85 Q</td>\n",
              "      <td>0.161</td>\n",
              "      <td>100 m</td>\n",
              "      <td>Semi</td>\n",
              "      <td>M</td>\n",
              "    </tr>\n",
              "    <tr>\n",
              "      <th>2008</th>\n",
              "      <td>136</td>\n",
              "      <td>1.0</td>\n",
              "      <td>NaN</td>\n",
              "      <td>JAMJAM</td>\n",
              "      <td>9.69</td>\n",
              "      <td>0.165</td>\n",
              "      <td>100 m</td>\n",
              "      <td>Final</td>\n",
              "      <td>M</td>\n",
              "    </tr>\n",
              "  </tbody>\n",
              "</table>\n",
              "</div>"
            ],
            "text/plain": [
              "      Unnamed: 0  POS  BIB COUNTRY    MARK  RxnTime   Race    Round Gender\n",
              "Year                                                                      \n",
              "2008           0  1.0  NaN  JAMJAM     9.5    0.186  100 m    Heats      M\n",
              "2008         104  1.0  NaN  JAMJAM  9.92 Q    0.165  100 m  Quarter      M\n",
              "2008         120  1.0  NaN  JAMJAM  9.85 Q    0.161  100 m     Semi      M\n",
              "2008         136  1.0  NaN  JAMJAM    9.69    0.165  100 m    Final      M"
            ]
          },
          "metadata": {
            "tags": []
          },
          "execution_count": 16
        }
      ]
    },
    {
      "metadata": {
        "id": "Es0e05oq0kGt",
        "colab_type": "text"
      },
      "cell_type": "markdown",
      "source": [
        "14) How fast does Usain Bolt react to the starting gun?  Find his minimum Olympic sprint reaction time by acessing his data using `.loc`, accessing reaction time by column name, and then computing the minimum.  Hint: the *maximum* is obtained with the `.max()` method.  "
      ]
    },
    {
      "metadata": {
        "id": "Plv8ogSH0kGx",
        "colab_type": "code",
        "outputId": "7b55bb59-7f42-4824-d8c9-9d47a8a10148",
        "colab": {
          "base_uri": "https://localhost:8080/",
          "height": 221
        }
      },
      "cell_type": "code",
      "source": [
        "# Fill in your answer to 14 here\n",
        "df.loc['Usain BOLT','RxnTime']"
      ],
      "execution_count": 17,
      "outputs": [
        {
          "output_type": "execute_result",
          "data": {
            "text/plain": [
              "Year\n",
              "2008    0.186\n",
              "2008    0.165\n",
              "2008    0.161\n",
              "2008    0.165\n",
              "2012    0.178\n",
              "2012    0.180\n",
              "2012    0.165\n",
              "2016    0.156\n",
              "2016    0.143\n",
              "2016    0.155\n",
              "Name: RxnTime, dtype: float64"
            ]
          },
          "metadata": {
            "tags": []
          },
          "execution_count": 17
        }
      ]
    },
    {
      "metadata": {
        "id": "PPAd384O0kG1",
        "colab_type": "text"
      },
      "cell_type": "markdown",
      "source": [
        "15) Usain Bolt was the fastest 100m sprinter of all time, but he didn't try his hardest until the finals of each meet (he didn't need to).  Let's extract only his data from the finals.  This takes only one step, but we'll do it in two to make the idea clear.  First, let's generate a series that tells us whether it is True or False that a given race was a final.  Just paste `df['Round'] == 'Final'` in the cell below.  You will see a series containig some `True` values and some `False` values (mostly the latter), reflecting rows containing data from finals vs. other rounds.  Note the ellipsis halfway down, which represents all the data (hundreds of rows) it isn't showing you to save space.  "
      ]
    },
    {
      "metadata": {
        "id": "rFiE2gLi0kG2",
        "colab_type": "code",
        "outputId": "e884417f-ebaf-44c2-a1f9-b753748d77f4",
        "colab": {
          "base_uri": "https://localhost:8080/",
          "height": 221
        }
      },
      "cell_type": "code",
      "source": [
        "# Fill in your answer to 15 here\n",
        "final=df['Round']=='Final'\n",
        "final.loc['Usain BOLT']"
      ],
      "execution_count": 18,
      "outputs": [
        {
          "output_type": "execute_result",
          "data": {
            "text/plain": [
              "Year\n",
              "2008    False\n",
              "2008    False\n",
              "2008    False\n",
              "2008     True\n",
              "2012    False\n",
              "2012    False\n",
              "2012     True\n",
              "2016    False\n",
              "2016    False\n",
              "2016     True\n",
              "Name: Round, dtype: bool"
            ]
          },
          "metadata": {
            "tags": []
          },
          "execution_count": 18
        }
      ]
    },
    {
      "metadata": {
        "id": "K6NmHppZ0kG4",
        "colab_type": "text"
      },
      "cell_type": "markdown",
      "source": [
        "16) The expression above can be used as a \"selector\", to select data from the dataframe which matches the desired condition (i.e. only 200 m races).  Place it inside brackets (i.e. inside `df[]`) to access only the 200 m races from the original data.  "
      ]
    },
    {
      "metadata": {
        "id": "2Y-tYYJB0kG5",
        "colab_type": "code",
        "outputId": "90618b16-1594-4028-f14b-66654bb8a41a",
        "colab": {
          "base_uri": "https://localhost:8080/",
          "height": 102
        }
      },
      "cell_type": "code",
      "source": [
        "# Fill in your answer to 16 here\n",
        "df[final].loc['Usain BOLT']['Race']=='100 m'\n"
      ],
      "execution_count": 19,
      "outputs": [
        {
          "output_type": "execute_result",
          "data": {
            "text/plain": [
              "Year\n",
              "2008    True\n",
              "2012    True\n",
              "2016    True\n",
              "Name: Race, dtype: bool"
            ]
          },
          "metadata": {
            "tags": []
          },
          "execution_count": 19
        }
      ]
    },
    {
      "metadata": {
        "id": "2c1H7N2GijyL",
        "colab_type": "code",
        "outputId": "522f2f5d-bf05-4f7d-da48-c58453b116b4",
        "colab": {
          "base_uri": "https://localhost:8080/",
          "height": 1088
        }
      },
      "cell_type": "code",
      "source": [
        "df['Race']=='100m'\n"
      ],
      "execution_count": 23,
      "outputs": [
        {
          "output_type": "execute_result",
          "data": {
            "text/plain": [
              "ATHLETE                    Year\n",
              "Aaron BROWN                2016    False\n",
              "Abdul GHAFOOR              1996    False\n",
              "Abdul RASHID               2008    False\n",
              "Abdul Wahab ZAHIRI         2016    False\n",
              "Abdullah AL-SOOLI          2008    False\n",
              "Abdullah Abkar MOHAMMED    2016    False\n",
              "Abiodun OYEPITAN           2004    False\n",
              "                           2004    False\n",
              "                           2004    False\n",
              "                           2012    False\n",
              "                           2012    False\n",
              "Abraham KEPSIN             2000    False\n",
              "Adam GEMILI                2012    False\n",
              "                           2012    False\n",
              "Adrian DURANT              2004    False\n",
              "Adrian GRIFFITH            2016    False\n",
              "Adrian WOODLEY             2000    False\n",
              "                           2000    False\n",
              "Adrien DEGHELT             2012    False\n",
              "                           2012    False\n",
              "Afa ISMAIL                 2012    False\n",
              "Affoué Amandine ALLOU      2004    False\n",
              "                           2008    False\n",
              "Agné EGGERTH               2000    False\n",
              "                           2004    False\n",
              "Ahmad HAZER                2012    False\n",
              "                           2016    False\n",
              "Ahmed DOUHOU               1996    False\n",
              "Aisea TOHI                 2008    False\n",
              "Aissata TOURÉ              2012    False\n",
              "                                   ...  \n",
              "Yuniel HERNÁNDEZ           2004    False\n",
              "Yuriy ARISTOV              1996    False\n",
              "Yvette LEWIS               2016    False\n",
              "Yvonne KANAZAWA            1996    False\n",
              "                           2000    False\n",
              "                           2000    False\n",
              "                           2000    False\n",
              "Zaidatul Husniah ZULKIFLI  2016    False\n",
              "                           2016    False\n",
              "Zhanna BLOCK               1996    False\n",
              "                           2000    False\n",
              "                           2000    False\n",
              "                           2000    False\n",
              "                           2000    False\n",
              "                           2004    False\n",
              "                           2004    False\n",
              "                           2004    False\n",
              "Zhenye XIE                 2016    False\n",
              "                           2016    False\n",
              "Zhivko VIDENOV             2000    False\n",
              "Zlatka GEORGIEVA           1996    False\n",
              "Ággelos PAVLAKÁKIS         2000    False\n",
              "Ángel David RODRÍGUEZ      2008    False\n",
              "                           2008    False\n",
              "                           2012    False\n",
              "Ángela TENORIO             2016    False\n",
              "                           2016    False\n",
              "Éder Antonio SOUZA         2016    False\n",
              "                           2016    False\n",
              "Édson RIBEIRO              1996    False\n",
              "Name: Race, Length: 2457, dtype: bool"
            ]
          },
          "metadata": {
            "tags": []
          },
          "execution_count": 23
        }
      ]
    },
    {
      "metadata": {
        "id": "cyrn6kNV0kG6",
        "colab_type": "text"
      },
      "cell_type": "markdown",
      "source": [
        "17) Now use the above, plus chaining with `.loc[]` and `max()` to find Usain Bolt's *worst* reaction time in an Olympics final.   "
      ]
    },
    {
      "metadata": {
        "id": "4C0NcY750kG7",
        "colab_type": "code",
        "outputId": "5f9eb6f3-bb94-46b6-cc0d-2dc5ef32acb7",
        "colab": {
          "base_uri": "https://localhost:8080/",
          "height": 34
        }
      },
      "cell_type": "code",
      "source": [
        "# Fill in your answer to 17 here\n",
        "df[final].loc['Usain BOLT'].max()['RxnTime']\n"
      ],
      "execution_count": 24,
      "outputs": [
        {
          "output_type": "execute_result",
          "data": {
            "text/plain": [
              "0.165"
            ]
          },
          "metadata": {
            "tags": []
          },
          "execution_count": 24
        }
      ]
    },
    {
      "metadata": {
        "id": "fdjXpUAZ0kG8",
        "colab_type": "text"
      },
      "cell_type": "markdown",
      "source": [
        "18) Let's clean up this data a little bit more.  See all the `NaN` values above?  Those correspond to missing data (NaN stands for \"Not a Number\").  We can get rid of rows that have missing data with the `.dropna()` method.  But some missing data is irrelevant to our analysis.  Who cares if the bib number is missing?  Select only those columns we care about (let's say reaction time, round, and gender) using the approach from question 6, and then use `dropna()` on that subset of the columns.  Chain that with `.shape` to see how many rows the remaining data has.  It should be less than the number of rows we started with (because we removed some rows), but still well more than 0!"
      ]
    },
    {
      "metadata": {
        "id": "LzR24Xs30kG9",
        "colab_type": "code",
        "outputId": "89bee3b5-a5b5-490f-9b0a-72dcfba53c6b",
        "colab": {
          "base_uri": "https://localhost:8080/",
          "height": 235
        }
      },
      "cell_type": "code",
      "source": [
        "# Fill in your answer to 18 here\n",
        "df2=df[['RxnTime','Round','Gender']].dropna()\n",
        "df2.head()"
      ],
      "execution_count": 25,
      "outputs": [
        {
          "output_type": "execute_result",
          "data": {
            "text/html": [
              "<div>\n",
              "<style scoped>\n",
              "    .dataframe tbody tr th:only-of-type {\n",
              "        vertical-align: middle;\n",
              "    }\n",
              "\n",
              "    .dataframe tbody tr th {\n",
              "        vertical-align: top;\n",
              "    }\n",
              "\n",
              "    .dataframe thead th {\n",
              "        text-align: right;\n",
              "    }\n",
              "</style>\n",
              "<table border=\"1\" class=\"dataframe\">\n",
              "  <thead>\n",
              "    <tr style=\"text-align: right;\">\n",
              "      <th></th>\n",
              "      <th></th>\n",
              "      <th>RxnTime</th>\n",
              "      <th>Round</th>\n",
              "      <th>Gender</th>\n",
              "    </tr>\n",
              "    <tr>\n",
              "      <th>ATHLETE</th>\n",
              "      <th>Year</th>\n",
              "      <th></th>\n",
              "      <th></th>\n",
              "      <th></th>\n",
              "    </tr>\n",
              "  </thead>\n",
              "  <tbody>\n",
              "    <tr>\n",
              "      <th>Aaron BROWN</th>\n",
              "      <th>2016</th>\n",
              "      <td>0.135</td>\n",
              "      <td>Heats</td>\n",
              "      <td>M</td>\n",
              "    </tr>\n",
              "    <tr>\n",
              "      <th>Abdul RASHID</th>\n",
              "      <th>2008</th>\n",
              "      <td>0.172</td>\n",
              "      <td>Heats</td>\n",
              "      <td>M</td>\n",
              "    </tr>\n",
              "    <tr>\n",
              "      <th>Abdul Wahab ZAHIRI</th>\n",
              "      <th>2016</th>\n",
              "      <td>0.170</td>\n",
              "      <td>Preliminary</td>\n",
              "      <td>M</td>\n",
              "    </tr>\n",
              "    <tr>\n",
              "      <th>Abdullah AL-SOOLI</th>\n",
              "      <th>2008</th>\n",
              "      <td>0.153</td>\n",
              "      <td>Heats</td>\n",
              "      <td>M</td>\n",
              "    </tr>\n",
              "    <tr>\n",
              "      <th>Abdullah Abkar MOHAMMED</th>\n",
              "      <th>2016</th>\n",
              "      <td>0.154</td>\n",
              "      <td>Heats</td>\n",
              "      <td>M</td>\n",
              "    </tr>\n",
              "  </tbody>\n",
              "</table>\n",
              "</div>"
            ],
            "text/plain": [
              "                              RxnTime        Round Gender\n",
              "ATHLETE                 Year                             \n",
              "Aaron BROWN             2016    0.135        Heats      M\n",
              "Abdul RASHID            2008    0.172        Heats      M\n",
              "Abdul Wahab ZAHIRI      2016    0.170  Preliminary      M\n",
              "Abdullah AL-SOOLI       2008    0.153        Heats      M\n",
              "Abdullah Abkar MOHAMMED 2016    0.154        Heats      M"
            ]
          },
          "metadata": {
            "tags": []
          },
          "execution_count": 25
        }
      ]
    },
    {
      "metadata": {
        "id": "25w4zpkGXDDU",
        "colab_type": "code",
        "outputId": "fbec3a38-d572-449f-c726-b0444b527721",
        "colab": {
          "base_uri": "https://localhost:8080/",
          "height": 34
        }
      },
      "cell_type": "code",
      "source": [
        "df2.shape"
      ],
      "execution_count": 26,
      "outputs": [
        {
          "output_type": "execute_result",
          "data": {
            "text/plain": [
              "(2123, 3)"
            ]
          },
          "metadata": {
            "tags": []
          },
          "execution_count": 26
        }
      ]
    },
    {
      "metadata": {
        "id": "T7s7Lj6z0kG-",
        "colab_type": "text"
      },
      "cell_type": "markdown",
      "source": [
        "19) Do Americans sprinters react faster than Canadian sprinters?  No one would ever fund such a study, but you can answer that question right here for free!  Use the `.groupby()` method to aggregate sprinters by country `.groupby('COUNTRY')`, select the reaction time column, and chain it with `.mean()` to compare mean reaction time across countries.  You can further optionally append `[['USAUSA','CANCAN']]` to focus on only those two countries.  Why are all the country names doubled?  I think it is because the person who compiled this dataset likes to say, \"U-S-A!  U-S-A!\" and just repeated that for every country.  "
      ]
    },
    {
      "metadata": {
        "id": "kvUNLZmL0kG_",
        "colab_type": "code",
        "outputId": "2f14bc44-1995-4f5d-8009-cf9145c85e34",
        "colab": {
          "base_uri": "https://localhost:8080/",
          "height": 85
        }
      },
      "cell_type": "code",
      "source": [
        "# Fill in your answer to 19 here\n",
        "df.groupby('COUNTRY')['RxnTime'].mean()[['USAUSA','CANCAN']]"
      ],
      "execution_count": 27,
      "outputs": [
        {
          "output_type": "execute_result",
          "data": {
            "text/plain": [
              "COUNTRY\n",
              "USAUSA    0.170185\n",
              "CANCAN    0.159889\n",
              "Name: RxnTime, dtype: float64"
            ]
          },
          "metadata": {
            "tags": []
          },
          "execution_count": 27
        }
      ]
    },
    {
      "metadata": {
        "id": "QOJgnJkO0kHB",
        "colab_type": "code",
        "colab": {}
      },
      "cell_type": "code",
      "source": [
        "# Be sure to run this code cell!\n",
        "from scipy.stats import ttest_ind"
      ],
      "execution_count": 0,
      "outputs": []
    },
    {
      "metadata": {
        "id": "EHL5icnS0kHC",
        "colab_type": "text"
      },
      "cell_type": "markdown",
      "source": [
        "20) So *do* Americans react faster (or slower) than Canadians? In the previous question we only computed the means.  What about the variability?  Let's assume for the moment that a t-test is a good way to compare the two groups.  Extract the two groups using the data using the selector approach from question 16, extract the reaction time from each, drop the missing values, and assigning one to the variable `usa` and the other to the variable `can`.  Don't use `groupby()` here.  Having loaded a t-test function (`ttest_ind` in the cell above), call that function using your selected groups (`ttest_ind(usa,can)`).  Note that you can have multiple command in a code cell, as long each one is on its own line.  "
      ]
    },
    {
      "metadata": {
        "id": "J-iyWsUx0kHD",
        "colab_type": "code",
        "outputId": "60c6bcec-8e42-4934-97f3-4e21132ab346",
        "colab": {
          "base_uri": "https://localhost:8080/",
          "height": 34
        }
      },
      "cell_type": "code",
      "source": [
        "# Fill in your answer to 20 here\n",
        "USA=df['COUNTRY']=='USAUSA'\n",
        "CAN=df['COUNTRY']=='CANCAN'\n",
        "usa=df[USA]['RxnTime'].dropna()\n",
        "can=df[CAN]['RxnTime'].dropna()\n",
        "ttest_ind(usa,can)"
      ],
      "execution_count": 29,
      "outputs": [
        {
          "output_type": "execute_result",
          "data": {
            "text/plain": [
              "Ttest_indResult(statistic=2.627641765259621, pvalue=0.009140575516656623)"
            ]
          },
          "metadata": {
            "tags": []
          },
          "execution_count": 29
        }
      ]
    },
    {
      "metadata": {
        "id": "8fPdCxtB0kHE",
        "colab_type": "text"
      },
      "cell_type": "markdown",
      "source": [
        "21) Oh my, are we going to win a Nobel Prize for this discovery?  Or have we failed to control for something?  Maybe one country has more male vs female athletes, or more sprinters vs hurdlers.  Repeat the above, restricting the data to men (21a), then to women (21b), then to only 100 m sprinters (21c).  You can have multiple `==` expressions in your selector, but you should use parentheses to keep them separated e.g. `(df['COUNTRY']=='USA') && (df['Gender']=='F')`.  "
      ]
    },
    {
      "metadata": {
        "id": "u6GK-LO10kHF",
        "colab_type": "code",
        "outputId": "0b7ff8a0-7714-4bfe-b185-2062fe6c3fda",
        "colab": {
          "base_uri": "https://localhost:8080/",
          "height": 34
        }
      },
      "cell_type": "code",
      "source": [
        "# Fill in your answer to 21a here\n",
        "USAM=(df['COUNTRY']=='USAUSA') & (df['Gender']=='M')\n",
        "CANM=(df['COUNTRY']=='CANCAN') & (df['Gender']=='M')\n",
        "usam=df[USAM]['RxnTime'].dropna()\n",
        "canm=df[CANM]['RxnTime'].dropna()\n",
        "ttest_ind(usam,canm)"
      ],
      "execution_count": 30,
      "outputs": [
        {
          "output_type": "execute_result",
          "data": {
            "text/plain": [
              "Ttest_indResult(statistic=2.0779762126756274, pvalue=0.0397416990780365)"
            ]
          },
          "metadata": {
            "tags": []
          },
          "execution_count": 30
        }
      ]
    },
    {
      "metadata": {
        "id": "5259NFKkl7e0",
        "colab_type": "code",
        "outputId": "c3b3245d-e849-4fca-c526-838ca6393b62",
        "colab": {
          "base_uri": "https://localhost:8080/",
          "height": 34
        }
      },
      "cell_type": "code",
      "source": [
        "usam"
      ],
      "execution_count": 0,
      "outputs": [
        {
          "output_type": "execute_result",
          "data": {
            "text/plain": [
              "Series([], Name: RxnTime, dtype: bool)"
            ]
          },
          "metadata": {
            "tags": []
          },
          "execution_count": 71
        }
      ]
    },
    {
      "metadata": {
        "id": "2M3EGeP20kHG",
        "colab_type": "code",
        "outputId": "98f78db0-c2a4-4536-ab57-3f9b05081650",
        "colab": {
          "base_uri": "https://localhost:8080/",
          "height": 34
        }
      },
      "cell_type": "code",
      "source": [
        "# Fill in your answer to 21b here\n",
        "USAF=(df['COUNTRY']=='USAUSA')&(df['Gender']=='F')\n",
        "CANF=(df['COUNTRY']=='CANCAN')&(df['Gender']=='F')\n",
        "usaf=df[USAF]['RxnTime'].dropna()\n",
        "canf=df[CANF]['RxnTime'].dropna()\n",
        "ttest_ind(usaf,canf)"
      ],
      "execution_count": 31,
      "outputs": [
        {
          "output_type": "execute_result",
          "data": {
            "text/plain": [
              "Ttest_indResult(statistic=1.80019192856523, pvalue=0.074407006123811)"
            ]
          },
          "metadata": {
            "tags": []
          },
          "execution_count": 31
        }
      ]
    },
    {
      "metadata": {
        "id": "-rM0qpoWmeK6",
        "colab_type": "code",
        "outputId": "489c2677-3547-4b3d-84e3-41d7940f63a6",
        "colab": {
          "base_uri": "https://localhost:8080/",
          "height": 136
        }
      },
      "cell_type": "code",
      "source": [
        "USAF.head()"
      ],
      "execution_count": 0,
      "outputs": [
        {
          "output_type": "execute_result",
          "data": {
            "text/plain": [
              "ATHLETE             Year\n",
              "Aaron BROWN         2016    False\n",
              "Abdul GHAFOOR       1996    False\n",
              "Abdul RASHID        2008    False\n",
              "Abdul Wahab ZAHIRI  2016    False\n",
              "Abdullah AL-SOOLI   2008    False\n",
              "dtype: bool"
            ]
          },
          "metadata": {
            "tags": []
          },
          "execution_count": 82
        }
      ]
    },
    {
      "metadata": {
        "id": "U4_3vDk60kHH",
        "colab_type": "code",
        "outputId": "6fd91d3a-fa33-456f-d516-6de899146101",
        "colab": {
          "base_uri": "https://localhost:8080/",
          "height": 34
        }
      },
      "cell_type": "code",
      "source": [
        "# Fill in your answer to 21c here\n",
        "USAR=(df['COUNTRY']=='USAUSA')&(df['Race']=='100 m')\n",
        "CANR=(df['COUNTRY']=='CANCAN')&(df['Race']=='100 m')\n",
        "usaR=df[USAR]['RxnTime'].dropna()\n",
        "canR=df[CANR]['RxnTime'].dropna()\n",
        "ttest_ind(usaR,canR)"
      ],
      "execution_count": 32,
      "outputs": [
        {
          "output_type": "execute_result",
          "data": {
            "text/plain": [
              "Ttest_indResult(statistic=1.4573584046126689, pvalue=0.14754531648779756)"
            ]
          },
          "metadata": {
            "tags": []
          },
          "execution_count": 32
        }
      ]
    },
    {
      "metadata": {
        "id": "FQtmZI610kHI",
        "colab_type": "text"
      },
      "cell_type": "markdown",
      "source": [
        "### Congratulations, you are now familiar with the basic of programmatic operations on structured data!"
      ]
    }
  ]
}