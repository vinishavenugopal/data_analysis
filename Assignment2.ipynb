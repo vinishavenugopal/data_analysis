{
  "nbformat": 4,
  "nbformat_minor": 0,
  "metadata": {
    "colab": {
      "name": "Copy of Copy of neurons-exercises.ipynb",
      "version": "0.3.2",
      "provenance": [],
      "include_colab_link": true
    },
    "kernelspec": {
      "display_name": "Python 3",
      "language": "python",
      "name": "python3"
    }
  },
  "cells": [
    {
      "cell_type": "markdown",
      "metadata": {
        "id": "view-in-github",
        "colab_type": "text"
      },
      "source": [
        "<a href=\"https://colab.research.google.com/github/vinishavenugopal/data_analysis/blob/master/Assignment2.ipynb\" target=\"_parent\"><img src=\"https://colab.research.google.com/assets/colab-badge.svg\" alt=\"Open In Colab\"/></a>"
      ]
    },
    {
      "metadata": {
        "id": "Rj6HlVyYm3vv",
        "colab_type": "text"
      },
      "cell_type": "markdown",
      "source": [
        "# Neuron Physiology Data Analysis Exercises"
      ]
    },
    {
      "metadata": {
        "id": "hM86420Ym3vz",
        "colab_type": "text"
      },
      "cell_type": "markdown",
      "source": [
        "### - Replace the \"...\" with code and/or values to complete each problem\n",
        "### - Always execute cells from top to bottom!"
      ]
    },
    {
      "metadata": {
        "id": "0lwFF3Oum3v2",
        "colab_type": "code",
        "colab": {}
      },
      "cell_type": "code",
      "source": [
        "# Our preamble\n",
        "# Always plot in the notebook\n",
        "%matplotlib inline\n",
        "# Load the plotting library\n",
        "import matplotlib.pyplot as plt\n",
        "# Load the math library\n",
        "import numpy as np\n",
        "# Load more science stuff\n",
        "import scipy\n",
        "import scipy.constants as constants\n",
        "# Load pandas to make and manipulated data frames\n",
        "import pandas as pd\n",
        "# Load a library for nicer-looking grpahics\n",
        "import seaborn as sns\n",
        "# Nice big fonts\n",
        "sns.set(font_scale=1.5)\n",
        "# Load a library to turn warnings on and off\n",
        "import warnings\n",
        "# Turn off distracting warning messages that you don't need to see and will confuse you\n",
        "warnings.filterwarnings(\"ignore\")"
      ],
      "execution_count": 0,
      "outputs": []
    },
    {
      "metadata": {
        "id": "AedyMngAm3v-",
        "colab_type": "code",
        "outputId": "cd25709e-fb71-47ef-808d-f850c88e151d",
        "colab": {
          "base_uri": "https://localhost:8080/",
          "height": 201
        }
      },
      "cell_type": "code",
      "source": [
        "# Install some packages that you will need\n",
        "!pip install quantities\n",
        "# Install the quantities package for keeping track of units and dimensional analysis\n",
        "import quantities as pq"
      ],
      "execution_count": 4,
      "outputs": [
        {
          "output_type": "stream",
          "text": [
            "Collecting quantities\n",
            "\u001b[?25l  Downloading https://files.pythonhosted.org/packages/7e/dd/58ef3546e4894dbe4cefcfe390301f581085a6e283c95a6aea0aa02c5f7b/quantities-0.12.2.tar.gz (82kB)\n",
            "\u001b[K    100% |████████████████████████████████| 92kB 2.7MB/s \n",
            "\u001b[?25hBuilding wheels for collected packages: quantities\n",
            "  Building wheel for quantities (setup.py) ... \u001b[?25ldone\n",
            "\u001b[?25h  Stored in directory: /root/.cache/pip/wheels/5d/2c/59/c76abff4849f919979712e0471e6e0d92f710ffcb63629913b\n",
            "Successfully built quantities\n",
            "Installing collected packages: quantities\n",
            "Successfully installed quantities-0.12.2\n"
          ],
          "name": "stdout"
        }
      ]
    },
    {
      "metadata": {
        "id": "dC5XQMCfm3wD",
        "colab_type": "text"
      },
      "cell_type": "markdown",
      "source": [
        "<hr>"
      ]
    },
    {
      "metadata": {
        "id": "IYRU-L_bm3wE",
        "colab_type": "text"
      },
      "cell_type": "markdown",
      "source": [
        "## 1) "
      ]
    },
    {
      "metadata": {
        "id": "RT3l0eV9m3wE",
        "colab_type": "text"
      },
      "cell_type": "markdown",
      "source": [
        "![ghk](https://raw.githubusercontent.com/rgerkin/neuro-data-analysis-course/master/images/ghk.jpg) "
      ]
    },
    {
      "metadata": {
        "id": "4ozIgc3Fm3wG",
        "colab_type": "text"
      },
      "cell_type": "markdown",
      "source": [
        "#### The voltage difference between the inside and oustide of the cell, the so-called \"membrane potential\", is driven by differences in ion concentrations and differences in the permeability of the membrane to those ions.  It is described by the Goldman-Hodgkin-Katz (GHK) equation:\n",
        "\n",
        "#### $$ v = \\frac{RT}{F}ln\\frac{\\sum_i{p_ic_{i[out]}}}{\\sum_i{p_ic_{i[in]}}}$$ \n",
        "\n",
        "#### where $v$ is the membrane potential, $R$ is the ideal gas constant, $T$ is the temperature in Kelvin, $F$ is Faraday's constant, $P_i$ is the membrane permeability of ion $i$ (a reflect of how many ion channels are open for it to travel through), $c_{i[in]}$ is (usually) the concentration of ion $i$ inside the cell, and $c_{i[out]}$ is the (usually) concentration of ion $i$ outside the cell.  But when ions have negative charge (e.g. $Cl^-$), \"in\" and \"out\" get swapped, because the ion (negative) and the current (positive, by convention) flow in opposite directions.  "
      ]
    },
    {
      "metadata": {
        "id": "0SdXf6rEm3wH",
        "colab_type": "text"
      },
      "cell_type": "markdown",
      "source": [
        "#### Use the GHK equation to determinethe membrane potential at 310 degrees Kelvin (37 degrees Celsius, i.e. human body temperature) for the figure above, assuming that $P_{Na} = 0.05$, $P_K = 1$ , and $P_{Cl} = 0.45$"
      ]
    },
    {
      "metadata": {
        "id": "tqHITbEEm3wH",
        "colab_type": "text"
      },
      "cell_type": "markdown",
      "source": [
        "#### 1a)"
      ]
    },
    {
      "metadata": {
        "id": "6eUS_dlam3wI",
        "colab_type": "code",
        "colab": {}
      },
      "cell_type": "code",
      "source": [
        "# Change this to the correct temperature in Kelvin, but keep the attached units\n",
        "T = 310 * pq.K\n",
        "\n",
        "# These already have the correct values\n",
        "R  = constants.R * pq.J / (pq.mol * pq.K)\n",
        "F = constants.physical_constants['Faraday constant'][0] * pq.C / pq.mol\n",
        "\n",
        "# These permeabilties have the \"correct\" values above\n",
        "P = np.array([0.05, 1, 0.45]) / pq.mM # Permeabilities \n",
        "\n",
        "# Put the correct intracellular values in from the figure above (Na, K, Ca).  \n",
        "C_in = np.array([10, 148, 103]) * pq.mM\n",
        "\n",
        "# Put the correct extracellular values in from the figure above.  \n",
        "C_out = np.array([142, 5, 4]) * pq.mM"
      ],
      "execution_count": 0,
      "outputs": []
    },
    {
      "metadata": {
        "id": "wNuS6fapm3wK",
        "colab_type": "text"
      },
      "cell_type": "markdown",
      "source": [
        "#### 1b)"
      ]
    },
    {
      "metadata": {
        "id": "WsYIrM0Hm3wL",
        "colab_type": "code",
        "outputId": "0083b219-b86f-45a1-ddff-b9abf45bd445",
        "colab": {
          "base_uri": "https://localhost:8080/",
          "height": 34
        }
      },
      "cell_type": "code",
      "source": [
        "# A sum of products can be implemented as a product of arrays in Python.  \n",
        "# For example:  \n",
        "x = np.array([1, 2, 3])\n",
        "y = np.array([4, 5, 6])\n",
        "np.sum(x*y) # This will add 1*4, 2*5, and 3*6\n",
        "\n",
        "# Use this technique to create the numerator and denominator of the term inside the `ln` in the GHK equation:  \n",
        "numerator = np.sum(P*C_out) # This is the sum of P*C_out for each ion \n",
        "denominator = np.sum(P*C_in) # This is the sum of P*C_in for each ion\n",
        "\n",
        "# Finally, we compute the membrane potential v from all of these pieces.  Note that `log` is the natural logarithm (ln) in Python.  \n",
        "V = (R*T/F) * np.log(numerator / denominator)\n",
        "\n",
        "# Print the result (units will look weird, don't worry)\n",
        "V"
      ],
      "execution_count": 41,
      "outputs": [
        {
          "output_type": "execute_result",
          "data": {
            "text/plain": [
              "array(-0.07053335) * J/C"
            ]
          },
          "metadata": {
            "tags": []
          },
          "execution_count": 41
        }
      ]
    },
    {
      "metadata": {
        "id": "-gmg7apFm3wO",
        "colab_type": "text"
      },
      "cell_type": "markdown",
      "source": [
        "#### 1c) These units look strange, but maybe they are equivalent to voltage, in the same way that \"furlongs per fortnight\" is equivalent to speed. If so, we can \"rescale\" to our desired units of $mV$ (hint: it should be near $-70 mV$):"
      ]
    },
    {
      "metadata": {
        "id": "J12NR0pBm3wO",
        "colab_type": "code",
        "outputId": "83e1ee44-1b49-4974-b014-25a9a2c86ecc",
        "colab": {
          "base_uri": "https://localhost:8080/",
          "height": 34
        }
      },
      "cell_type": "code",
      "source": [
        "V.rescale(pq.mV)"
      ],
      "execution_count": 42,
      "outputs": [
        {
          "output_type": "execute_result",
          "data": {
            "text/plain": [
              "array(-70.53334545) * mV"
            ]
          },
          "metadata": {
            "tags": []
          },
          "execution_count": 42
        }
      ]
    },
    {
      "metadata": {
        "id": "GKbuajI3m3wP",
        "colab_type": "text"
      },
      "cell_type": "markdown",
      "source": [
        "#### 1d) And print the result to 3 significant digits:"
      ]
    },
    {
      "metadata": {
        "id": "wUFnI6oYm3wQ",
        "colab_type": "code",
        "outputId": "de0a657d-5639-412d-9d4a-eb09332bb4c7",
        "colab": {
          "base_uri": "https://localhost:8080/",
          "height": 34
        }
      },
      "cell_type": "code",
      "source": [
        "print(\"The membrane potential is %.3g mV.\" % V.rescale(pq.mV))"
      ],
      "execution_count": 43,
      "outputs": [
        {
          "output_type": "stream",
          "text": [
            "The membrane potential is -70.5 mV.\n"
          ],
          "name": "stdout"
        }
      ]
    },
    {
      "metadata": {
        "id": "GdocTWnOm3wS",
        "colab_type": "text"
      },
      "cell_type": "markdown",
      "source": [
        "#### 1e) The proud owner of this neuron ate too many bananas, and all of his potassium regulatory mechanisms aren't working.  His extracellular potassium shot up by an additional 10 mM.  What happens to the resting potential of this neuron?  Will this make this cell more or less active?"
      ]
    },
    {
      "metadata": {
        "id": "PLP3MDDFm3wS",
        "colab_type": "code",
        "outputId": "70c01fb1-b8cd-413c-9242-6013ec51755f",
        "colab": {
          "base_uri": "https://localhost:8080/",
          "height": 51
        }
      },
      "cell_type": "code",
      "source": [
        "# Put the correct extracellular values in from the figure above.  \n",
        "C_out = [142,15,4]* pq.mM\n",
        "numerator = np.sum(P*C_out) # This is the sum of P*C_out for each ion \n",
        "V = (R*T/F) * np.log(numerator / denominator)\n",
        "print(\"The membrane potential is %.3g mV.\" % V.rescale(pq.mV))\n",
        "print(V)"
      ],
      "execution_count": 44,
      "outputs": [
        {
          "output_type": "stream",
          "text": [
            "The membrane potential is -56.1 mV.\n",
            "-0.056054784448581994 J/C\n"
          ],
          "name": "stdout"
        }
      ]
    },
    {
      "metadata": {
        "id": "l_nWqzmGm3wT",
        "colab_type": "text"
      },
      "cell_type": "markdown",
      "source": [
        "<hr>"
      ]
    },
    {
      "metadata": {
        "id": "GpQTh4eAm3wU",
        "colab_type": "text"
      },
      "cell_type": "markdown",
      "source": [
        "## 2)  "
      ]
    },
    {
      "metadata": {
        "id": "NDr-ksTrm3wU",
        "colab_type": "text"
      },
      "cell_type": "markdown",
      "source": [
        "![threshold](https://slideplayer.com/slide/4667714/15/images/6/Action+potential.jpg)"
      ]
    },
    {
      "metadata": {
        "id": "AzRNIRdam3wU",
        "colab_type": "text"
      },
      "cell_type": "markdown",
      "source": [
        "#### Neurons initiate action potentials as a result of positive feedback: first, sodium enters the cell, raising the membrane potential; then, voltage-dependent sodium channels open in response to this change, and let even more sodium in.  The \"point of no return\" for this process is called the neuron's ***threshold***, and occurs when this positive feedback will continue even in the absence of any additional input to the cell, causing an action potential.  "
      ]
    },
    {
      "metadata": {
        "id": "S3vN50Wjm3wV",
        "colab_type": "code",
        "outputId": "86e88a21-023f-4e12-acf5-2d9ae55ffb07",
        "colab": {
          "base_uri": "https://localhost:8080/",
          "height": 234
        }
      },
      "cell_type": "code",
      "source": [
        "# Load data form the Allen Institute, saved from the previous lecture\n",
        "url = \"https://raw.githubusercontent.com/rgerkin/neuro-data-analysis-course/master/data/sample_trace.csv\"\n",
        "df = pd.read_csv(url, index_col=0) # index_col=0 means that the first column (time) should be the index\n",
        "\n",
        "# Plot the cell's response (from the data frame column 'response') to the stimulus (not shown, but in column 'stimulus'), on a 12x3 canvas\n",
        "df.plot(y='response', figsize=(12,3));\n",
        "\n",
        "# Zoom the x-axis in to the interesting part, starting just before and ending just after the stimulus.  Label the axes.\n",
        "plt.xlim(1, 2.1);\n",
        "plt.xlabel('Time (s)')\n",
        "plt.ylabel('Membrane\\nPotential (mV)');"
      ],
      "execution_count": 45,
      "outputs": [
        {
          "output_type": "display_data",
          "data": {
            "image/png": "[encoded data removed]",
            "text/plain": [
              "<Figure size 864x216 with 1 Axes>"
            ]
          },
          "metadata": {
            "tags": []
          }
        }
      ]
    },
    {
      "metadata": {
        "id": "Rfk3mj4tm3wW",
        "colab_type": "text"
      },
      "cell_type": "markdown",
      "source": [
        "#### 2a) How many action potentials (spikes) occurred in response to this stimulus?  Hint: use the example from the most recent lecture if you don't know how to count the number of elements in an array"
      ]
    },
    {
      "metadata": {
        "id": "mHyOTnEYm3wX",
        "colab_type": "code",
        "outputId": "74c03dd0-1da4-43be-bfd5-ec48d68acb4b",
        "colab": {
          "base_uri": "https://localhost:8080/",
          "height": 34
        }
      },
      "cell_type": "code",
      "source": [
        "# Import the function for peak finding.\n",
        "from scipy.signal import find_peaks\n",
        "\n",
        "# Find the peak locations and heights, for peaks that go above 0\n",
        "spike_times, spike_amplitudes = find_peaks(df['response'], height=0)\n",
        "\n",
        "n_spike = len(spike_times)\n",
        "# Write a print statement (as in question #1) that says how many spikes there were.\n",
        "# Hint: %d will print a value as an integer. \n",
        "print(\"There are %d peaks in this sweep\" % len(spike_times))"
      ],
      "execution_count": 46,
      "outputs": [
        {
          "output_type": "stream",
          "text": [
            "There are 49 peaks in this sweep\n"
          ],
          "name": "stdout"
        }
      ]
    },
    {
      "metadata": {
        "id": "3NFNAnu0m3wY",
        "colab_type": "text"
      },
      "cell_type": "markdown",
      "source": [
        "#### There are many ways to define the threshold, but says that the threshold is when the slope of the membrane potential (the response shown above) suddenly becomes very positive.  "
      ]
    },
    {
      "metadata": {
        "id": "EIg6YfWQm3wZ",
        "colab_type": "code",
        "outputId": "737d4c4c-9200-40d8-810f-de1fb784b663",
        "colab": {
          "base_uri": "https://localhost:8080/",
          "height": 234
        }
      },
      "cell_type": "code",
      "source": [
        "# Plot the cell's response (from the data frame column 'response') to the stimulus (not shown, but in column 'stimulus'), on a 12x3 canvas\n",
        "df.plot(y='response', figsize=(12,3));\n",
        "\n",
        "# Zoom the x-axis in to the interesting part, starting just before and ending just after the stimulus\n",
        "plt.xlim(1.02, 1.05);\n",
        "plt.xlabel('Time (s)')\n",
        "plt.ylabel('Membrane\\nPotential (mV)');"
      ],
      "execution_count": 47,
      "outputs": [
        {
          "output_type": "display_data",
          "data": {
            "image/png": "[encoded data removed]",
            "text/plain": [
              "<Figure size 864x216 with 1 Axes>"
            ]
          },
          "metadata": {
            "tags": []
          }
        }
      ]
    },
    {
      "metadata": {
        "id": "S8dN_rmRm3wa",
        "colab_type": "text"
      },
      "cell_type": "markdown",
      "source": [
        "#### See the event right at (or just before) t = 1.030 seconds?  That is a good example of a threshold (the slope suddenly became very positive). You may recall that the slope is equal to the first derivative (with respect to time).  "
      ]
    },
    {
      "metadata": {
        "id": "t5bUIjRMm3wb",
        "colab_type": "code",
        "outputId": "b1d369c8-7069-4471-a76b-d6ae6c24c11e",
        "colab": {
          "base_uri": "https://localhost:8080/",
          "height": 234
        }
      },
      "cell_type": "code",
      "source": [
        "# Compute the first difference (the difference between adjacent samples of the membrane potential)\n",
        "# This will be in units of \"mV\" (millivolts)\n",
        "dv = df['response'].diff() * pq.mV\n",
        "\n",
        "# Compute the time step (the difference in time from one sample to the next)\n",
        "# This value is the same for all adjacent time samples, so we can just pick the first two\n",
        "# This will be in units of \"s\" (seconds)\n",
        "dt = (df.index[1] - df.index[0]) * pq.s\n",
        "# Let's use \"ms\" (milliseconds) instead because it will be more graphically intuitive\n",
        "dt = dt.rescale('ms')\n",
        "\n",
        "# The first derivative with respect to time is dv/dt.  \n",
        "# Python doesn't allow us to put the \"/\" sign in a variable name, so we won't.  \n",
        "# This will have units of \"mV/ms\"\n",
        "dvdt = dv/dt\n",
        "\n",
        "dvdt.plot(figsize=(12,3))\n",
        "\n",
        "# Zoom the x-axis in to the interesting part, starting just before and ending just after the stimulus\n",
        "plt.xlim(1.02, 1.05);\n",
        "plt.xlabel('Time (s)')\n",
        "plt.ylabel('First derivative\\nof membrane\\npotential (mV/s)');\n",
        "\n",
        "# Add a red dotted line at dv/dt = 20 mV/ms\n",
        "plt.plot([0,2],[20,20],'--r');"
      ],
      "execution_count": 55,
      "outputs": [
        {
          "output_type": "display_data",
          "data": {
            "image/png": "[encoded data removed]",
            "text/plain": [
              "<Figure size 864x216 with 1 Axes>"
            ]
          },
          "metadata": {
            "tags": []
          }
        }
      ]
    },
    {
      "metadata": {
        "id": "Ndhi4cJdjb1h",
        "colab_type": "code",
        "outputId": "01b65bbb-6251-4a82-88f2-6453a82696bc",
        "colab": {
          "base_uri": "https://localhost:8080/",
          "height": 34
        }
      },
      "cell_type": "code",
      "source": [
        "dt"
      ],
      "execution_count": 56,
      "outputs": [
        {
          "output_type": "execute_result",
          "data": {
            "text/plain": [
              "array(0.02) * ms"
            ]
          },
          "metadata": {
            "tags": []
          },
          "execution_count": 56
        }
      ]
    },
    {
      "metadata": {
        "id": "G5P2xDXGm3wd",
        "colab_type": "text"
      },
      "cell_type": "markdown",
      "source": [
        "#### I've put a red line there to indicate when the slope (dv/dt, shown above) of the original trace (v, shown in the previous figure) gets significantly higher than the baseline. We can call the times when the dv/dt first exceeds this red line, for each spike, the spikes' thresholds.  "
      ]
    },
    {
      "metadata": {
        "id": "CoEy0hkmm3we",
        "colab_type": "text"
      },
      "cell_type": "markdown",
      "source": [
        "#### 2b) Extract all the values from the original dataframe when dv/dt exceeds the value shown in the red line (20 mV/ms)"
      ]
    },
    {
      "metadata": {
        "id": "cc55tieDhqqr",
        "colab_type": "code",
        "colab": {
          "base_uri": "https://localhost:8080/",
          "height": 119
        },
        "outputId": "230fd6bc-1ff3-4c44-984a-c2e2782c7447"
      },
      "cell_type": "code",
      "source": [
        "is_slope_greater_than_threshold.head()"
      ],
      "execution_count": 61,
      "outputs": [
        {
          "output_type": "execute_result",
          "data": {
            "text/plain": [
              "0.00000    False\n",
              "0.00002    False\n",
              "0.00004    False\n",
              "0.00006    False\n",
              "0.00008    False\n",
              "Name: 1st_der, dtype: bool"
            ]
          },
          "metadata": {
            "tags": []
          },
          "execution_count": 61
        }
      ]
    },
    {
      "metadata": {
        "id": "TnJjuCXmjDO-",
        "colab_type": "code",
        "colab": {
          "base_uri": "https://localhost:8080/",
          "height": 351
        },
        "outputId": "5d23269d-71fc-4f45-c343-7a7e98ef8ba1"
      },
      "cell_type": "code",
      "source": [
        "places_where_slope_is_greater_than_threshold.plot()\n",
        "plt.xlim(1.02, 1.05);"
      ],
      "execution_count": 110,
      "outputs": [
        {
          "output_type": "display_data",
          "data": {
            "image/png": "[encoded data removed]",
            "text/plain": [
              "<Figure size 576x396 with 1 Axes>"
            ]
          },
          "metadata": {
            "tags": []
          }
        }
      ]
    },
    {
      "metadata": {
        "id": "GcT7QQmujQ6a",
        "colab_type": "code",
        "colab": {
          "base_uri": "https://localhost:8080/",
          "height": 368
        },
        "outputId": "f98a6a64-111a-4acd-fdcf-f523e4ea996e"
      },
      "cell_type": "code",
      "source": [
        "dvdt.plot()\n",
        "plt.xlim(1.02,1.05)"
      ],
      "execution_count": 96,
      "outputs": [
        {
          "output_type": "execute_result",
          "data": {
            "text/plain": [
              "(1.02, 1.05)"
            ]
          },
          "metadata": {
            "tags": []
          },
          "execution_count": 96
        },
        {
          "output_type": "display_data",
          "data": {
            "image/png": "[encoded data removed]",
            "text/plain": [
              "<Figure size 576x396 with 1 Axes>"
            ]
          },
          "metadata": {
            "tags": []
          }
        }
      ]
    },
    {
      "metadata": {
        "id": "RTv14iHvm3wf",
        "colab_type": "code",
        "outputId": "7c4531f1-4eba-4d24-a2e3-7fe07aaf4bd5",
        "colab": {
          "base_uri": "https://localhost:8080/",
          "height": 204
        }
      },
      "cell_type": "code",
      "source": [
        "# You can add a column to any dataframe by just assigning to it with the equals sign.  \n",
        "# This will give you a new column containing the first derivative that we computed above.  \n",
        "df[\"1st_der\"]=dvdt\n",
        "\n",
        "# Do you remember how we create a selector (with the double equals sign)?\n",
        "# You don't have use ==, as you can use >, <, >=, <= or any other comparison operation you can think of.\n",
        "is_slope_greater_than_threshold = ( df[\"1st_der\"]> 20)\n",
        "is_slope_greater_than_threshold\n",
        "\n",
        "# Now do the extraction:  \n",
        "places_where_slope_is_greater_than_threshold = df[is_slope_greater_than_threshold]\n",
        "\n",
        "# Show the first rew rows\n",
        "places_where_slope_is_greater_than_threshold.head()"
      ],
      "execution_count": 62,
      "outputs": [
        {
          "output_type": "execute_result",
          "data": {
            "text/html": [
              "<div>\n",
              "<style scoped>\n",
              "    .dataframe tbody tr th:only-of-type {\n",
              "        vertical-align: middle;\n",
              "    }\n",
              "\n",
              "    .dataframe tbody tr th {\n",
              "        vertical-align: top;\n",
              "    }\n",
              "\n",
              "    .dataframe thead th {\n",
              "        text-align: right;\n",
              "    }\n",
              "</style>\n",
              "<table border=\"1\" class=\"dataframe\">\n",
              "  <thead>\n",
              "    <tr style=\"text-align: right;\">\n",
              "      <th></th>\n",
              "      <th>stimulus</th>\n",
              "      <th>response</th>\n",
              "      <th>1st_der</th>\n",
              "    </tr>\n",
              "  </thead>\n",
              "  <tbody>\n",
              "    <tr>\n",
              "      <th>1.02992</th>\n",
              "      <td>190.0</td>\n",
              "      <td>-38.2188</td>\n",
              "      <td>20.310</td>\n",
              "    </tr>\n",
              "    <tr>\n",
              "      <th>1.02994</th>\n",
              "      <td>190.0</td>\n",
              "      <td>-37.5313</td>\n",
              "      <td>34.375</td>\n",
              "    </tr>\n",
              "    <tr>\n",
              "      <th>1.02996</th>\n",
              "      <td>190.0</td>\n",
              "      <td>-36.1250</td>\n",
              "      <td>70.315</td>\n",
              "    </tr>\n",
              "    <tr>\n",
              "      <th>1.02998</th>\n",
              "      <td>190.0</td>\n",
              "      <td>-33.7500</td>\n",
              "      <td>118.750</td>\n",
              "    </tr>\n",
              "    <tr>\n",
              "      <th>1.03000</th>\n",
              "      <td>190.0</td>\n",
              "      <td>-30.6875</td>\n",
              "      <td>153.125</td>\n",
              "    </tr>\n",
              "  </tbody>\n",
              "</table>\n",
              "</div>"
            ],
            "text/plain": [
              "         stimulus  response  1st_der\n",
              "1.02992     190.0  -38.2188   20.310\n",
              "1.02994     190.0  -37.5313   34.375\n",
              "1.02996     190.0  -36.1250   70.315\n",
              "1.02998     190.0  -33.7500  118.750\n",
              "1.03000     190.0  -30.6875  153.125"
            ]
          },
          "metadata": {
            "tags": []
          },
          "execution_count": 62
        }
      ]
    },
    {
      "metadata": {
        "id": "EmbiJXTzm3wh",
        "colab_type": "text"
      },
      "cell_type": "markdown",
      "source": [
        "#### 2c) What is the time point when the first spike (action potential) exceeds threshold?  Note that this will be the first time point in the entire response that exceeds threshold.  "
      ]
    },
    {
      "metadata": {
        "id": "W4qxVanom3wi",
        "colab_type": "code",
        "outputId": "be083c56-ff6f-4c27-b9d4-1389d6c50f24",
        "colab": {
          "base_uri": "https://localhost:8080/",
          "height": 34
        }
      },
      "cell_type": "code",
      "source": [
        "# You can access values from the index of a data frame with .index, \n",
        "# and then access entries from that index numerically (e.g. [7] for the 7th value)\n",
        "t = places_where_slope_is_greater_than_threshold.index[0]\n",
        "print(\"The threshold is first crossed at t = %.6g s\" % t)"
      ],
      "execution_count": 63,
      "outputs": [
        {
          "output_type": "stream",
          "text": [
            "The threshold is first crossed at t = 1.02992 s\n"
          ],
          "name": "stdout"
        }
      ]
    },
    {
      "metadata": {
        "id": "eHcn4tyuhNIh",
        "colab_type": "code",
        "colab": {
          "base_uri": "https://localhost:8080/",
          "height": 204
        },
        "outputId": "94c02ef8-ab67-440c-bbe3-e9f74d84df85"
      },
      "cell_type": "code",
      "source": [
        "places_where_slope_is_greater_than_threshold.head()"
      ],
      "execution_count": 64,
      "outputs": [
        {
          "output_type": "execute_result",
          "data": {
            "text/html": [
              "<div>\n",
              "<style scoped>\n",
              "    .dataframe tbody tr th:only-of-type {\n",
              "        vertical-align: middle;\n",
              "    }\n",
              "\n",
              "    .dataframe tbody tr th {\n",
              "        vertical-align: top;\n",
              "    }\n",
              "\n",
              "    .dataframe thead th {\n",
              "        text-align: right;\n",
              "    }\n",
              "</style>\n",
              "<table border=\"1\" class=\"dataframe\">\n",
              "  <thead>\n",
              "    <tr style=\"text-align: right;\">\n",
              "      <th></th>\n",
              "      <th>stimulus</th>\n",
              "      <th>response</th>\n",
              "      <th>1st_der</th>\n",
              "    </tr>\n",
              "  </thead>\n",
              "  <tbody>\n",
              "    <tr>\n",
              "      <th>1.02992</th>\n",
              "      <td>190.0</td>\n",
              "      <td>-38.2188</td>\n",
              "      <td>20.310</td>\n",
              "    </tr>\n",
              "    <tr>\n",
              "      <th>1.02994</th>\n",
              "      <td>190.0</td>\n",
              "      <td>-37.5313</td>\n",
              "      <td>34.375</td>\n",
              "    </tr>\n",
              "    <tr>\n",
              "      <th>1.02996</th>\n",
              "      <td>190.0</td>\n",
              "      <td>-36.1250</td>\n",
              "      <td>70.315</td>\n",
              "    </tr>\n",
              "    <tr>\n",
              "      <th>1.02998</th>\n",
              "      <td>190.0</td>\n",
              "      <td>-33.7500</td>\n",
              "      <td>118.750</td>\n",
              "    </tr>\n",
              "    <tr>\n",
              "      <th>1.03000</th>\n",
              "      <td>190.0</td>\n",
              "      <td>-30.6875</td>\n",
              "      <td>153.125</td>\n",
              "    </tr>\n",
              "  </tbody>\n",
              "</table>\n",
              "</div>"
            ],
            "text/plain": [
              "         stimulus  response  1st_der\n",
              "1.02992     190.0  -38.2188   20.310\n",
              "1.02994     190.0  -37.5313   34.375\n",
              "1.02996     190.0  -36.1250   70.315\n",
              "1.02998     190.0  -33.7500  118.750\n",
              "1.03000     190.0  -30.6875  153.125"
            ]
          },
          "metadata": {
            "tags": []
          },
          "execution_count": 64
        }
      ]
    },
    {
      "metadata": {
        "id": "szysX6d_3OcX",
        "colab_type": "code",
        "outputId": "c2449048-5866-4b7b-d643-9717244b2092",
        "colab": {
          "base_uri": "https://localhost:8080/",
          "height": 119
        }
      },
      "cell_type": "code",
      "source": [
        "places_where_slope_is_greater_than_threshold['response'].head()"
      ],
      "execution_count": 65,
      "outputs": [
        {
          "output_type": "execute_result",
          "data": {
            "text/plain": [
              "1.02992   -38.2188\n",
              "1.02994   -37.5313\n",
              "1.02996   -36.1250\n",
              "1.02998   -33.7500\n",
              "1.03000   -30.6875\n",
              "Name: response, dtype: float64"
            ]
          },
          "metadata": {
            "tags": []
          },
          "execution_count": 65
        }
      ]
    },
    {
      "metadata": {
        "id": "grlmgchQm8LJ",
        "colab_type": "code",
        "colab": {
          "base_uri": "https://localhost:8080/",
          "height": 370
        },
        "outputId": "b4f74ff5-44df-481a-eb24-81851960a5a8"
      },
      "cell_type": "code",
      "source": [
        "places_where_slope_is_greater_than_threshold['response'].plot()\n",
        "plt.xlim(1.025, 1.05);\n",
        "plt.xlabel('Time (s)')\n",
        "plt.ylabel('First derivative\\nof membrane\\npotential (mV/s)');"
      ],
      "execution_count": 66,
      "outputs": [
        {
          "output_type": "display_data",
          "data": {
            "image/png": "[encoded data removed]",
            "text/plain": [
              "<Figure size 576x396 with 1 Axes>"
            ]
          },
          "metadata": {
            "tags": []
          }
        }
      ]
    },
    {
      "metadata": {
        "id": "jTN95f-sm3wk",
        "colab_type": "text"
      },
      "cell_type": "markdown",
      "source": [
        "#### 2d) What is the membrane potential (not the slope) at that threshold?  Write as a print statement with three significant digits.  Don't forget units!"
      ]
    },
    {
      "metadata": {
        "id": "1xfqmMG9m3wl",
        "colab_type": "code",
        "outputId": "e93bde53-6ed0-4e1d-f1ca-a62c9f55b00e",
        "colab": {
          "base_uri": "https://localhost:8080/",
          "height": 34
        }
      },
      "cell_type": "code",
      "source": [
        "# You can access value in a column by their index, with .loc[]\n",
        "v_at_threshold = places_where_slope_is_greater_than_threshold['response'].loc[t]\n",
        "print(\"the membran epotential is %.3g\" %v_at_threshold)"
      ],
      "execution_count": 67,
      "outputs": [
        {
          "output_type": "stream",
          "text": [
            "the membran epotential is -38.2\n"
          ],
          "name": "stdout"
        }
      ]
    },
    {
      "metadata": {
        "id": "xe7Zf7Lum3wm",
        "colab_type": "text"
      },
      "cell_type": "markdown",
      "source": [
        "<hr>"
      ]
    },
    {
      "metadata": {
        "id": "MV9CoYpsm3wn",
        "colab_type": "text"
      },
      "cell_type": "markdown",
      "source": [
        "## 3) "
      ]
    },
    {
      "metadata": {
        "id": "uZBkjX3dm3wn",
        "colab_type": "text"
      },
      "cell_type": "markdown",
      "source": [
        "#### You may have noticed (by eye) in the original membrane potential trace that the first spikes (action potentials) is taller, narrower, and occurs at a slightly lower threshold than the rest, and that the time between spikes increases.  This is called adaptation, and it is something that many neurons do in response to stimuli.  In fact, many neurons are classified as \"adapting\" vs. \"non-adapting\".  \n",
        "\n",
        "#### Many excitatory cells are adapting, while some notable inhibitory cells are non-adapting.  This means that the \"go\" neurons can always be overcome by the \"stop\" neurons, because the \"stop\" neurons are able to  \"fire\" spikes at very high rates without slowing down.  This is a negative feedback mechanism which keeps overall activity in line (e.g. preventing seizures).  "
      ]
    },
    {
      "metadata": {
        "id": "gRpPa3Nnm3wo",
        "colab_type": "text"
      },
      "cell_type": "markdown",
      "source": [
        "#### 3a) Neurons are often classified by an \"adapation index\", sometimes defined as the ratio between the 3rd and the 1st \"inter-spike-interval\", or time between spikes.  Using the spike times extracted in question 1, compute the adaptation index for the membrane potential trace that we have been working with.  "
      ]
    },
    {
      "metadata": {
        "id": "DKHwUOs-qxWL",
        "colab_type": "code",
        "outputId": "f46984d1-393f-4df2-e938-05da40daa2e0",
        "colab": {
          "base_uri": "https://localhost:8080/",
          "height": 204
        }
      },
      "cell_type": "code",
      "source": [
        "df.head()"
      ],
      "execution_count": 68,
      "outputs": [
        {
          "output_type": "execute_result",
          "data": {
            "text/html": [
              "<div>\n",
              "<style scoped>\n",
              "    .dataframe tbody tr th:only-of-type {\n",
              "        vertical-align: middle;\n",
              "    }\n",
              "\n",
              "    .dataframe tbody tr th {\n",
              "        vertical-align: top;\n",
              "    }\n",
              "\n",
              "    .dataframe thead th {\n",
              "        text-align: right;\n",
              "    }\n",
              "</style>\n",
              "<table border=\"1\" class=\"dataframe\">\n",
              "  <thead>\n",
              "    <tr style=\"text-align: right;\">\n",
              "      <th></th>\n",
              "      <th>stimulus</th>\n",
              "      <th>response</th>\n",
              "      <th>1st_der</th>\n",
              "    </tr>\n",
              "  </thead>\n",
              "  <tbody>\n",
              "    <tr>\n",
              "      <th>0.00000</th>\n",
              "      <td>0.0</td>\n",
              "      <td>-73.0</td>\n",
              "      <td>NaN</td>\n",
              "    </tr>\n",
              "    <tr>\n",
              "      <th>0.00002</th>\n",
              "      <td>0.0</td>\n",
              "      <td>-73.0</td>\n",
              "      <td>0.0</td>\n",
              "    </tr>\n",
              "    <tr>\n",
              "      <th>0.00004</th>\n",
              "      <td>0.0</td>\n",
              "      <td>-73.0</td>\n",
              "      <td>0.0</td>\n",
              "    </tr>\n",
              "    <tr>\n",
              "      <th>0.00006</th>\n",
              "      <td>0.0</td>\n",
              "      <td>-73.0</td>\n",
              "      <td>0.0</td>\n",
              "    </tr>\n",
              "    <tr>\n",
              "      <th>0.00008</th>\n",
              "      <td>0.0</td>\n",
              "      <td>-73.0</td>\n",
              "      <td>0.0</td>\n",
              "    </tr>\n",
              "  </tbody>\n",
              "</table>\n",
              "</div>"
            ],
            "text/plain": [
              "         stimulus  response  1st_der\n",
              "0.00000       0.0     -73.0      NaN\n",
              "0.00002       0.0     -73.0      0.0\n",
              "0.00004       0.0     -73.0      0.0\n",
              "0.00006       0.0     -73.0      0.0\n",
              "0.00008       0.0     -73.0      0.0"
            ]
          },
          "metadata": {
            "tags": []
          },
          "execution_count": 68
        }
      ]
    },
    {
      "metadata": {
        "id": "fznGA9dKv8bC",
        "colab_type": "code",
        "outputId": "c87c5518-8bb7-4607-cf0d-0262960496c9",
        "colab": {
          "base_uri": "https://localhost:8080/",
          "height": 119
        }
      },
      "cell_type": "code",
      "source": [
        "spike_times"
      ],
      "execution_count": 69,
      "outputs": [
        {
          "output_type": "execute_result",
          "data": {
            "text/plain": [
              "array([51513, 51713, 51978, 52368, 53212, 54222, 55307, 56244, 57200,\n",
              "       58259, 59185, 60184, 61096, 62207, 63214, 64152, 65159, 66202,\n",
              "       67309, 68300, 69430, 70347, 71400, 72410, 73441, 74537, 75649,\n",
              "       76685, 77758, 78808, 79936, 80999, 82065, 83025, 84179, 85420,\n",
              "       86442, 87494, 88532, 89687, 90781, 91970, 93047, 94169, 95316,\n",
              "       96388, 97522, 98675, 99925])"
            ]
          },
          "metadata": {
            "tags": []
          },
          "execution_count": 69
        }
      ]
    },
    {
      "metadata": {
        "id": "6MIlj0C-m3wo",
        "colab_type": "code",
        "outputId": "3ca2c976-4503-40ea-c01c-f06aeaa6e747",
        "colab": {
          "base_uri": "https://localhost:8080/",
          "height": 136
        }
      },
      "cell_type": "code",
      "source": [
        "# Recall that \"spike_indices\" is just the row numbers in the data frame where the peaks occurred.  \n",
        "# First we compute the spike times by using the dataframe's index, and grabbing only those indices that correspond to spike peaks.  \n",
        "# The .values part here let's us convert to something more intuitive (the values, separated from the dataframe).\n",
        "# Don't forget to put the units on at the end!\n",
        "spike_times1 = df.index[spike_times].values * pq.s\n",
        "spike_times1"
      ],
      "execution_count": 70,
      "outputs": [
        {
          "output_type": "execute_result",
          "data": {
            "text/plain": [
              "array([1.03026, 1.03426, 1.03956, 1.04736, 1.06424, 1.08444, 1.10614,\n",
              "       1.12488, 1.144  , 1.16518, 1.1837 , 1.20368, 1.22192, 1.24414,\n",
              "       1.26428, 1.28304, 1.30318, 1.32404, 1.34618, 1.366  , 1.3886 ,\n",
              "       1.40694, 1.428  , 1.4482 , 1.46882, 1.49074, 1.51298, 1.5337 ,\n",
              "       1.55516, 1.57616, 1.59872, 1.61998, 1.6413 , 1.6605 , 1.68358,\n",
              "       1.7084 , 1.72884, 1.74988, 1.77064, 1.79374, 1.81562, 1.8394 ,\n",
              "       1.86094, 1.88338, 1.90632, 1.92776, 1.95044, 1.9735 , 1.9985 ]) * s"
            ]
          },
          "metadata": {
            "tags": []
          },
          "execution_count": 70
        }
      ]
    },
    {
      "metadata": {
        "id": "olpcok2im3wp",
        "colab_type": "code",
        "outputId": "6ee0090c-2a26-4e17-8ce8-0fb22c0c9dba",
        "colab": {
          "base_uri": "https://localhost:8080/",
          "height": 136
        }
      },
      "cell_type": "code",
      "source": [
        "# The inter-spike intervals are just the intervals between spikes, i.e. the differences between adjacent spike times.  \n",
        "# Here was can use .diff() and not worry about dt because this is actually just a difference between adjacent numbers, not a derivative.  \n",
        "inter_spike_intervals = np.diff(spike_times1)\n",
        "inter_spike_intervals"
      ],
      "execution_count": 71,
      "outputs": [
        {
          "output_type": "execute_result",
          "data": {
            "text/plain": [
              "array([0.004  , 0.0053 , 0.0078 , 0.01688, 0.0202 , 0.0217 , 0.01874,\n",
              "       0.01912, 0.02118, 0.01852, 0.01998, 0.01824, 0.02222, 0.02014,\n",
              "       0.01876, 0.02014, 0.02086, 0.02214, 0.01982, 0.0226 , 0.01834,\n",
              "       0.02106, 0.0202 , 0.02062, 0.02192, 0.02224, 0.02072, 0.02146,\n",
              "       0.021  , 0.02256, 0.02126, 0.02132, 0.0192 , 0.02308, 0.02482,\n",
              "       0.02044, 0.02104, 0.02076, 0.0231 , 0.02188, 0.02378, 0.02154,\n",
              "       0.02244, 0.02294, 0.02144, 0.02268, 0.02306, 0.025  ]) * s"
            ]
          },
          "metadata": {
            "tags": []
          },
          "execution_count": 71
        }
      ]
    },
    {
      "metadata": {
        "id": "F4za8Z7em3wr",
        "colab_type": "code",
        "outputId": "0b2546f9-bb0b-4a1c-beb3-1091362bb10b",
        "colab": {
          "base_uri": "https://localhost:8080/",
          "height": 34
        }
      },
      "cell_type": "code",
      "source": [
        "# Now compute the ratio of the 3rd of these to the 1st of these.\n",
        "# Don't forget that indices start from 0 in Python (and C, C++, etc.)\n",
        "# Print to three significant figures\n",
        "adaptation_index = (inter_spike_intervals[2]/inter_spike_intervals[0])\n",
        "print(\"the adaptation index is %.3g\" %adaptation_index)"
      ],
      "execution_count": 72,
      "outputs": [
        {
          "output_type": "stream",
          "text": [
            "the adaptation index is 1.95\n"
          ],
          "name": "stdout"
        }
      ]
    },
    {
      "metadata": {
        "id": "P4BoWzHCm3ws",
        "colab_type": "code",
        "outputId": "08591606-ade1-4f8a-f516-17270d8ce293",
        "colab": {
          "base_uri": "https://localhost:8080/",
          "height": 34
        }
      },
      "cell_type": "code",
      "source": [
        "# Write a statement that is `True` if this adaptation index is >1.5, and `False` if it is not.  \n",
        "# You could use such a statement as part of a program to sort neurons into \"adapting\" and \"non-adapting\" categories.\n",
        "adapting=adaptation_index>1.5\n",
        "adapting\n",
        "print(\"it is %s\" % \"adapting\" if adapting else \"non-adapting\")"
      ],
      "execution_count": 73,
      "outputs": [
        {
          "output_type": "stream",
          "text": [
            "it is adapting\n"
          ],
          "name": "stdout"
        }
      ]
    },
    {
      "metadata": {
        "id": "g_4HToDTm3wt",
        "colab_type": "text"
      },
      "cell_type": "markdown",
      "source": [
        "#### 3b) The spikes also get wider. This happens because, after the first spike, not all of the ion channels are ready to participate in the generation of the next spike (some have become inactivated).  This means that the upstroke of the action potential is a bit less vigorous (as is the downstroke, mediating by potassium channels). In milliseconds, how much wider is the second spike than the first?  "
      ]
    },
    {
      "metadata": {
        "id": "qgANAfK8t-7y",
        "colab_type": "code",
        "colab": {
          "base_uri": "https://localhost:8080/",
          "height": 34
        },
        "outputId": "79be530c-a054-4cf1-eadf-0db065f4b1ac"
      },
      "cell_type": "code",
      "source": [
        "spike_times[0]"
      ],
      "execution_count": 74,
      "outputs": [
        {
          "output_type": "execute_result",
          "data": {
            "text/plain": [
              "51513"
            ]
          },
          "metadata": {
            "tags": []
          },
          "execution_count": 74
        }
      ]
    },
    {
      "metadata": {
        "id": "fF6qTZ3w0S9I",
        "colab_type": "code",
        "colab": {
          "base_uri": "https://localhost:8080/",
          "height": 136
        },
        "outputId": "9a897928-9920-4401-d571-57d8a6641ff8"
      },
      "cell_type": "code",
      "source": [
        "spike_times1"
      ],
      "execution_count": 75,
      "outputs": [
        {
          "output_type": "execute_result",
          "data": {
            "text/plain": [
              "array([1.03026, 1.03426, 1.03956, 1.04736, 1.06424, 1.08444, 1.10614,\n",
              "       1.12488, 1.144  , 1.16518, 1.1837 , 1.20368, 1.22192, 1.24414,\n",
              "       1.26428, 1.28304, 1.30318, 1.32404, 1.34618, 1.366  , 1.3886 ,\n",
              "       1.40694, 1.428  , 1.4482 , 1.46882, 1.49074, 1.51298, 1.5337 ,\n",
              "       1.55516, 1.57616, 1.59872, 1.61998, 1.6413 , 1.6605 , 1.68358,\n",
              "       1.7084 , 1.72884, 1.74988, 1.77064, 1.79374, 1.81562, 1.8394 ,\n",
              "       1.86094, 1.88338, 1.90632, 1.92776, 1.95044, 1.9735 , 1.9985 ]) * s"
            ]
          },
          "metadata": {
            "tags": []
          },
          "execution_count": 75
        }
      ]
    },
    {
      "metadata": {
        "id": "vxoXt4wgU9xq",
        "colab_type": "code",
        "colab": {
          "base_uri": "https://localhost:8080/",
          "height": 34
        },
        "outputId": "e604e0ad-3e72-4648-9a05-24cb3b79dbb5"
      },
      "cell_type": "code",
      "source": [
        "firstspike=df['response'].iloc[51463:51563]\n",
        "is_first_spike_above_threshold = firstspike> v_at_threshold\n",
        "first_spike_above_threshold = firstspike[is_first_spike_above_threshold]\n",
        "first_spike_width = (first_spike_above_threshold.index[-1]- first_spike_above_threshold.index[0]) *pq.s\n",
        "first_spike_width.rescale('ms')\n",
        "#print(\"the width of the first spike is %.3g\" %first_spike_width*pq.ms)"
      ],
      "execution_count": 76,
      "outputs": [
        {
          "output_type": "execute_result",
          "data": {
            "text/plain": [
              "array(0.92) * ms"
            ]
          },
          "metadata": {
            "tags": []
          },
          "execution_count": 76
        }
      ]
    },
    {
      "metadata": {
        "id": "IuFPwpwuadNP",
        "colab_type": "code",
        "colab": {
          "base_uri": "https://localhost:8080/",
          "height": 34
        },
        "outputId": "de870fa7-3385-4a03-f161-e3c3b613eac3"
      },
      "cell_type": "code",
      "source": [
        "#spike_times[0]\n",
        "#df['response']\n",
        "spike_times1[0]"
      ],
      "execution_count": 77,
      "outputs": [
        {
          "output_type": "execute_result",
          "data": {
            "text/plain": [
              "array(1.03026) * s"
            ]
          },
          "metadata": {
            "tags": []
          },
          "execution_count": 77
        }
      ]
    },
    {
      "metadata": {
        "id": "S7nddeZxekPc",
        "colab_type": "code",
        "colab": {
          "base_uri": "https://localhost:8080/",
          "height": 351
        },
        "outputId": "1977e047-ccc5-463d-eb96-feb812c35e4c"
      },
      "cell_type": "code",
      "source": [
        "df_no_first_spike.plot()\n",
        "plt.xlim(1.02, 1.05);"
      ],
      "execution_count": 79,
      "outputs": [
        {
          "output_type": "display_data",
          "data": {
            "image/png": "[encoded data removed]",
            "text/plain": [
              "<Figure size 576x396 with 1 Axes>"
            ]
          },
          "metadata": {
            "tags": []
          }
        }
      ]
    },
    {
      "metadata": {
        "id": "D9pR46WNZgZl",
        "colab_type": "code",
        "colab": {
          "base_uri": "https://localhost:8080/",
          "height": 204
        },
        "outputId": "5ab09a9a-cbce-4aaa-bed8-ee20fe076843"
      },
      "cell_type": "code",
      "source": [
        "df_no_first_spike = df[df.index > spike_times1[0]]\n",
        "df_no_first_spike.head()"
      ],
      "execution_count": 176,
      "outputs": [
        {
          "output_type": "execute_result",
          "data": {
            "text/html": [
              "<div>\n",
              "<style scoped>\n",
              "    .dataframe tbody tr th:only-of-type {\n",
              "        vertical-align: middle;\n",
              "    }\n",
              "\n",
              "    .dataframe tbody tr th {\n",
              "        vertical-align: top;\n",
              "    }\n",
              "\n",
              "    .dataframe thead th {\n",
              "        text-align: right;\n",
              "    }\n",
              "</style>\n",
              "<table border=\"1\" class=\"dataframe\">\n",
              "  <thead>\n",
              "    <tr style=\"text-align: right;\">\n",
              "      <th></th>\n",
              "      <th>stimulus</th>\n",
              "      <th>response</th>\n",
              "      <th>1st_der</th>\n",
              "    </tr>\n",
              "  </thead>\n",
              "  <tbody>\n",
              "    <tr>\n",
              "      <th>1.03028</th>\n",
              "      <td>190.0</td>\n",
              "      <td>32.0000</td>\n",
              "      <td>-12.500</td>\n",
              "    </tr>\n",
              "    <tr>\n",
              "      <th>1.03030</th>\n",
              "      <td>190.0</td>\n",
              "      <td>31.1250</td>\n",
              "      <td>-43.750</td>\n",
              "    </tr>\n",
              "    <tr>\n",
              "      <th>1.03032</th>\n",
              "      <td>190.0</td>\n",
              "      <td>29.6563</td>\n",
              "      <td>-73.435</td>\n",
              "    </tr>\n",
              "    <tr>\n",
              "      <th>1.03034</th>\n",
              "      <td>190.0</td>\n",
              "      <td>27.8125</td>\n",
              "      <td>-92.190</td>\n",
              "    </tr>\n",
              "    <tr>\n",
              "      <th>1.03036</th>\n",
              "      <td>190.0</td>\n",
              "      <td>25.6875</td>\n",
              "      <td>-106.250</td>\n",
              "    </tr>\n",
              "  </tbody>\n",
              "</table>\n",
              "</div>"
            ],
            "text/plain": [
              "         stimulus  response  1st_der\n",
              "1.03028     190.0   32.0000  -12.500\n",
              "1.03030     190.0   31.1250  -43.750\n",
              "1.03032     190.0   29.6563  -73.435\n",
              "1.03034     190.0   27.8125  -92.190\n",
              "1.03036     190.0   25.6875 -106.250"
            ]
          },
          "metadata": {
            "tags": []
          },
          "execution_count": 176
        }
      ]
    },
    {
      "metadata": {
        "id": "XWklhpVWfKQl",
        "colab_type": "code",
        "colab": {
          "base_uri": "https://localhost:8080/",
          "height": 119
        },
        "outputId": "ca177443-ae39-4548-86cb-43c55948a0bf"
      },
      "cell_type": "code",
      "source": [
        "is_slope_greater_than_threshold1 =df_no_first_spike[\"1st_der\"]> 20\n",
        "is_slope_greater_than_threshold1.head()"
      ],
      "execution_count": 187,
      "outputs": [
        {
          "output_type": "execute_result",
          "data": {
            "text/plain": [
              "1.03028    False\n",
              "1.03030    False\n",
              "1.03032    False\n",
              "1.03034    False\n",
              "1.03036    False\n",
              "Name: 1st_der, dtype: bool"
            ]
          },
          "metadata": {
            "tags": []
          },
          "execution_count": 187
        }
      ]
    },
    {
      "metadata": {
        "id": "-fowPS4Jsb5Y",
        "colab_type": "code",
        "colab": {
          "base_uri": "https://localhost:8080/",
          "height": 187
        },
        "outputId": "b89ebec9-0447-4ab9-a63e-54e4f759c3b2"
      },
      "cell_type": "code",
      "source": [
        "is_slope_greater_than_threshold1.index"
      ],
      "execution_count": 180,
      "outputs": [
        {
          "output_type": "execute_result",
          "data": {
            "text/plain": [
              "Float64Index([1.0302799999999999,             1.0303,            1.03032,\n",
              "                         1.03034, 1.0303600000000002, 1.0303799999999999,\n",
              "                          1.0304,            1.03042,            1.03044,\n",
              "              1.0304600000000002,\n",
              "              ...\n",
              "                          8.0198,  8.019820000000001,            8.01984,\n",
              "               8.019860000000001,            8.01988,             8.0199,\n",
              "               8.019919999999999,            8.01994,  8.019960000000001,\n",
              "                         8.01998],\n",
              "             dtype='float64', length=349486)"
            ]
          },
          "metadata": {
            "tags": []
          },
          "execution_count": 180
        }
      ]
    },
    {
      "metadata": {
        "id": "1tbthvphf_Pd",
        "colab_type": "code",
        "colab": {
          "base_uri": "https://localhost:8080/",
          "height": 204
        },
        "outputId": "282897ec-21b9-4016-e885-1c4c620a1fdd"
      },
      "cell_type": "code",
      "source": [
        "places_where_slope_is_greater_than_threshold1= df_no_first_spike[is_slope_greater_than_threshold1]\n",
        "places_where_slope_is_greater_than_threshold1.head()\n"
      ],
      "execution_count": 181,
      "outputs": [
        {
          "output_type": "execute_result",
          "data": {
            "text/html": [
              "<div>\n",
              "<style scoped>\n",
              "    .dataframe tbody tr th:only-of-type {\n",
              "        vertical-align: middle;\n",
              "    }\n",
              "\n",
              "    .dataframe tbody tr th {\n",
              "        vertical-align: top;\n",
              "    }\n",
              "\n",
              "    .dataframe thead th {\n",
              "        text-align: right;\n",
              "    }\n",
              "</style>\n",
              "<table border=\"1\" class=\"dataframe\">\n",
              "  <thead>\n",
              "    <tr style=\"text-align: right;\">\n",
              "      <th></th>\n",
              "      <th>stimulus</th>\n",
              "      <th>response</th>\n",
              "      <th>1st_der</th>\n",
              "    </tr>\n",
              "  </thead>\n",
              "  <tbody>\n",
              "    <tr>\n",
              "      <th>1.03386</th>\n",
              "      <td>190.0</td>\n",
              "      <td>-34.6563</td>\n",
              "      <td>34.375</td>\n",
              "    </tr>\n",
              "    <tr>\n",
              "      <th>1.03388</th>\n",
              "      <td>190.0</td>\n",
              "      <td>-33.5625</td>\n",
              "      <td>54.690</td>\n",
              "    </tr>\n",
              "    <tr>\n",
              "      <th>1.03390</th>\n",
              "      <td>190.0</td>\n",
              "      <td>-31.7188</td>\n",
              "      <td>92.185</td>\n",
              "    </tr>\n",
              "    <tr>\n",
              "      <th>1.03392</th>\n",
              "      <td>190.0</td>\n",
              "      <td>-29.5000</td>\n",
              "      <td>110.940</td>\n",
              "    </tr>\n",
              "    <tr>\n",
              "      <th>1.03394</th>\n",
              "      <td>190.0</td>\n",
              "      <td>-27.0000</td>\n",
              "      <td>125.000</td>\n",
              "    </tr>\n",
              "  </tbody>\n",
              "</table>\n",
              "</div>"
            ],
            "text/plain": [
              "         stimulus  response  1st_der\n",
              "1.03386     190.0  -34.6563   34.375\n",
              "1.03388     190.0  -33.5625   54.690\n",
              "1.03390     190.0  -31.7188   92.185\n",
              "1.03392     190.0  -29.5000  110.940\n",
              "1.03394     190.0  -27.0000  125.000"
            ]
          },
          "metadata": {
            "tags": []
          },
          "execution_count": 181
        }
      ]
    },
    {
      "metadata": {
        "id": "vQzcVZRjutW0",
        "colab_type": "code",
        "colab": {
          "base_uri": "https://localhost:8080/",
          "height": 34
        },
        "outputId": "ace54a34-5b2e-412f-8a1e-c186b05a7d5f"
      },
      "cell_type": "code",
      "source": [
        "t1=places_where_slope_is_greater_than_threshold1.index[0]\n",
        "t1"
      ],
      "execution_count": 184,
      "outputs": [
        {
          "output_type": "execute_result",
          "data": {
            "text/plain": [
              "1.03386"
            ]
          },
          "metadata": {
            "tags": []
          },
          "execution_count": 184
        }
      ]
    },
    {
      "metadata": {
        "id": "3Rw9U3IjvJb6",
        "colab_type": "code",
        "colab": {
          "base_uri": "https://localhost:8080/",
          "height": 34
        },
        "outputId": "b2046ce5-a7f0-4544-c61a-407124e40310"
      },
      "cell_type": "code",
      "source": [
        "v_at_threshold1=places_where_slope_is_greater_than_threshold1['response'].loc[t1]\n",
        "v_at_threshold1"
      ],
      "execution_count": 186,
      "outputs": [
        {
          "output_type": "execute_result",
          "data": {
            "text/plain": [
              "-34.6563"
            ]
          },
          "metadata": {
            "tags": []
          },
          "execution_count": 186
        }
      ]
    },
    {
      "metadata": {
        "id": "sroKhHl7vSUC",
        "colab_type": "code",
        "colab": {
          "base_uri": "https://localhost:8080/",
          "height": 119
        },
        "outputId": "4c2242c1-403e-4c68-b8b2-4fe0a2768c4a"
      },
      "cell_type": "code",
      "source": [
        "second_spike_index = spike_times[1]\n",
        "second_spike_index\n",
        "second_spike_range = df['response'].iloc[(second_spike_index-50):(second_spike_index+50)]\n",
        "second_spike_range.head()"
      ],
      "execution_count": 194,
      "outputs": [
        {
          "output_type": "execute_result",
          "data": {
            "text/plain": [
              "1.03326   -40.6250\n",
              "1.03328   -40.4375\n",
              "1.03330   -40.3438\n",
              "1.03332   -40.1563\n",
              "1.03334   -40.0000\n",
              "Name: response, dtype: float64"
            ]
          },
          "metadata": {
            "tags": []
          },
          "execution_count": 194
        }
      ]
    },
    {
      "metadata": {
        "id": "yiX83QpcxEHl",
        "colab_type": "code",
        "colab": {
          "base_uri": "https://localhost:8080/",
          "height": 370
        },
        "outputId": "b8678478-5882-4b04-e969-aaf020eb4ecb"
      },
      "cell_type": "code",
      "source": [
        "second_spike_range.plot()\n",
        "plt.xlabel('Time (s)')\n",
        "plt.ylabel('Membrane\\nPotential (mV)');"
      ],
      "execution_count": 196,
      "outputs": [
        {
          "output_type": "display_data",
          "data": {
            "image/png": "[encoded data removed]",
            "text/plain": [
              "<Figure size 576x396 with 1 Axes>"
            ]
          },
          "metadata": {
            "tags": []
          }
        }
      ]
    },
    {
      "metadata": {
        "id": "UDFbhdz0xNO_",
        "colab_type": "code",
        "colab": {
          "base_uri": "https://localhost:8080/",
          "height": 34
        },
        "outputId": "3ddaa40a-22e2-48d1-d477-b67ccea4f8b2"
      },
      "cell_type": "code",
      "source": [
        "is_second_spike_above_threshold = second_spike_range>v_at_threshold1\n",
        "second_spike_above_threshold = second_spike_range[is_second_spike_above_threshold]\n",
        "second_spike_width = (second_spike_above_threshold.index[-1]- second_spike_above_threshold.index[0]) *pq.s# Use this line to compute the value\n",
        "second_spike_width = second_spike_width.rescale('ms') # Use this line to rescale to milliseconds\n",
        "spike_width_difference = second_spike_width - first_spike_width\n",
        "print(\"The seconds spike is %.3g wider than the first\" %spike_width_difference )"
      ],
      "execution_count": 199,
      "outputs": [
        {
          "output_type": "stream",
          "text": [
            "The seconds spike is 0.12 wider than the first\n"
          ],
          "name": "stdout"
        }
      ]
    },
    {
      "metadata": {
        "id": "V1wO0bY7PGkA",
        "colab_type": "code",
        "colab": {}
      },
      "cell_type": "code",
      "source": [
        "#first_spike_index = spike_times[1]\n",
        "#first_spike_data=df['response'].iloc[first_spike_index]\n",
        "#first_spike_data_range = df['response'].iloc[(first_spike_data-50):(first_spike_data+50)]"
      ],
      "execution_count": 0,
      "outputs": []
    },
    {
      "metadata": {
        "id": "aDAD8xLNm3wt",
        "colab_type": "code",
        "colab": {}
      },
      "cell_type": "code",
      "source": [
        "# First we have to figure out the width of one spike.  \n",
        "# The width is often defined as the time when the membrane potential crosses above the threshold (from question #2) \n",
        "# at spike onset until the time when it crosses below it at the end of the spike.  \n",
        "# Let's give ourselves some runway and extract a period of time +/- 50 samples of the first spike's peak.\n",
        "# Recall that spike_indices contains the locations of the samples for each spike's peak.  \n",
        "first_spike_index = spike_times[1]\n",
        "\n",
        "# .loc[] is great for finding a location by name in the index.  But the names in our index are time values, and we have indices here.  \n",
        "# Use .iloc[] (the \"i\" stands for integer) to access by index.  \n",
        "first_spike_data = df[].iloc[0]\n",
        "\n",
        "# But we don't just want that exact sample.  We want +/- 50 samples around the spike.  \n",
        "# You can get a \"slice\" of the dataframe using a range like .iloc[first:last], where first and last are some values of your choosing.  \n",
        "first_spike_data_range = df['response'].iloc[(first_spike_data-50):(first_spike_data+50)]\n",
        "\n",
        "# If all went well, this should like like a plot of the first spike\n",
        "first_spike_data_range.plot()\n",
        "plt.xlabel('Time (s)')\n",
        "plt.ylabel('Membrane\\nPotential (mV)');"
      ],
      "execution_count": 0,
      "outputs": []
    },
    {
      "metadata": {
        "id": "t0t-dNKWm3wv",
        "colab_type": "code",
        "colab": {}
      },
      "cell_type": "code",
      "source": [
        "# Now you need to extract only those values that are above the threshold determined in question #2d.  \n",
        "# Use a selector to extract only the values in first_spike_data_range that are above that threshold.  \n",
        "# Note that the threshold is not the value of the red line (which is a threshold for the first derivative), \n",
        "# But the actual threshold you got in question #2d.  \n",
        "is_first_spike_above_threshold = firstspike> v_at_threshold\n",
        "first_spike_above_threshold = first_spike_data_range[...]\n",
        "first_spike_above_threshold.head()"
      ],
      "execution_count": 0,
      "outputs": []
    },
    {
      "metadata": {
        "id": "3-Z7gEaDm3ww",
        "colab_type": "code",
        "colab": {}
      },
      "cell_type": "code",
      "source": [
        "# Now you need to find the difference between the first and last time point in `first_spike_above_threshold`\n",
        "# This will be the width of the spike.  \n",
        "# You probably know by now how to access the first element of an array.  \n",
        "# You can access the last element of an array in several ways, but the coolest is with [-1].  \n",
        "# Why does the index -1 work?  Imagine that the array was wrapped onto a circle.  If 0 is the first element, than -1 is the last element!\n",
        "# Don't forget to use .index to access the times (not the membrane potential values), and don't forget to use units!\n",
        "first_spike_width = (... - ...) * ...\n",
        "\n",
        "# Report the width in ms to three significant figures.\n",
        "print(...)"
      ],
      "execution_count": 0,
      "outputs": []
    },
    {
      "metadata": {
        "id": "w2njUed-m3wx",
        "colab_type": "code",
        "colab": {}
      },
      "cell_type": "code",
      "source": [
        "# Finally, you will need to repeat this for the second spike.  \n",
        "# Note that you will need to obtain the threshold again as you did in question #2, but this time for the second spike instead of the first.\n",
        "# Hint: at t = 1.032 seconds, the first spike is over and the second spike hasn't begun yet.  You can use this value to extract data for\n",
        "# only the second spike and beyond, and then repeat the strategy from question #2 to extract it's threshold.  \n",
        "df_no_first_spike = df[df.index > ...]\n",
        "is_slope_greater_than_threshold = ...\n",
        "places_where_slope_is_greater_than_threshold = ...\n",
        "t = ...\n",
        "v_at_threshold = ...\n",
        "second_spike_index = spike_indices[...]\n",
        "second_spike_data = ...\n",
        "second_spike_data_range = ...\n",
        "\n",
        "# Plotting is optional\n",
        "second_spike_data_range.plot()\n",
        "plt.xlabel('Time (s)')\n",
        "plt.ylabel('Membrane\\nPotential (mV)');\n",
        "\n",
        "is_second_spike_above_threshold = ...\n",
        "second_spike_above_threshold = ...\n",
        "second_spike_width = ... # Use this line to compute the value\n",
        "second_spike_width = ... # Use this line to rescale to milliseconds\n",
        "spike_width_difference = ... - ...\n",
        "print(\"The seconds spike is ... wider than the first\" % ...)"
      ],
      "execution_count": 0,
      "outputs": []
    }
  ]
}